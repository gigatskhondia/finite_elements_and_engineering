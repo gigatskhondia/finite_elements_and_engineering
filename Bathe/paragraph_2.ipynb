{
 "cells": [
  {
   "cell_type": "code",
   "execution_count": 1,
   "id": "e6bb7f97",
   "metadata": {},
   "outputs": [],
   "source": [
    "# not validated solutions"
   ]
  },
  {
   "cell_type": "code",
   "execution_count": null,
   "id": "41520abf",
   "metadata": {},
   "outputs": [],
   "source": []
  },
  {
   "cell_type": "code",
   "execution_count": 2,
   "id": "f4327161",
   "metadata": {},
   "outputs": [],
   "source": [
    "import numpy as np\n",
    "import scipy"
   ]
  },
  {
   "cell_type": "markdown",
   "id": "f70b1c24",
   "metadata": {},
   "source": [
    "### 2.1"
   ]
  },
  {
   "cell_type": "code",
   "execution_count": 3,
   "id": "32067218",
   "metadata": {},
   "outputs": [],
   "source": [
    "# https://gist.github.com/hayesall/25d7ab12dcacf5988f577660c50d0bed"
   ]
  },
  {
   "cell_type": "code",
   "execution_count": null,
   "id": "2d6b7849",
   "metadata": {},
   "outputs": [],
   "source": []
  },
  {
   "cell_type": "code",
   "execution_count": 4,
   "id": "be6e09d4",
   "metadata": {},
   "outputs": [],
   "source": [
    "A = np.array([[3, 4, 1],\n",
    "            [4, 6, 2],\n",
    "            [1, 2, 3]])"
   ]
  },
  {
   "cell_type": "code",
   "execution_count": 5,
   "id": "9e85dffe",
   "metadata": {},
   "outputs": [],
   "source": [
    "B = np.array([1,2,3])\n",
    "B = B.reshape(B.shape[0],1)"
   ]
  },
  {
   "cell_type": "code",
   "execution_count": 6,
   "id": "86ea2532",
   "metadata": {},
   "outputs": [
    {
     "data": {
      "text/plain": [
       "(1, 3)"
      ]
     },
     "execution_count": 6,
     "metadata": {},
     "output_type": "execute_result"
    }
   ],
   "source": [
    "B.T.shape"
   ]
  },
  {
   "cell_type": "code",
   "execution_count": 7,
   "id": "b97819c5",
   "metadata": {},
   "outputs": [],
   "source": [
    "k = 4"
   ]
  },
  {
   "cell_type": "code",
   "execution_count": 8,
   "id": "f3c27c43",
   "metadata": {},
   "outputs": [],
   "source": [
    "C = np.array([[4, 1, -2],\n",
    "            [1, 8, -1],\n",
    "            [-2, -1, 6]])"
   ]
  },
  {
   "cell_type": "code",
   "execution_count": 9,
   "id": "9ad86d62",
   "metadata": {},
   "outputs": [],
   "source": [
    "def matrix_chain_order(p):\n",
    "    \"\"\"\n",
    "    Matrix-Chain-Order given a list of integers corresponding to the dimensions\n",
    "    of each pair of matrices forming a chain.\n",
    "    :param list p: A list of integers.\n",
    "    \n",
    "    >>> M, S = matrix_chain_order([2, 20, 4, 6])\n",
    "    >>> print(M)\n",
    "    {(1, 1): 0, (2, 2): 0, (3, 3): 0, (1, 2): 160, (2, 3): 480, (1, 3): 208}\n",
    "    >>> print(S)\n",
    "    {(1, 2): 1, (2, 3): 2, (1, 3): 2}\n",
    "    \"\"\"\n",
    "    s = {}\n",
    "    m = {}\n",
    "    n = len(p)\n",
    "    \n",
    "    for i in range(1, n):\n",
    "        m[tuple([i, i])] = 0\n",
    "    \n",
    "    for l in range(2, n):\n",
    "        for i in range(1, n - l + 1):\n",
    "            j = i + l - 1\n",
    "            m[tuple([i, j])] = float('inf')\n",
    "            for k in range(i, j):\n",
    "                q = m[tuple([i, k])] + m[tuple([k + 1, j])] + (p[i-1] * p[k] * p[j])\n",
    "                if q < m[tuple([i, j])]:\n",
    "                    m[tuple([i, j])] = q\n",
    "                    s[tuple([i, j])] = k\n",
    "    return m, s\n",
    "\n",
    "\n",
    "\n",
    "class PrintString:\n",
    "    def __init__(self):\n",
    "        self.st = ''\n",
    "\n",
    "        \n",
    "# for chain of length <=9\n",
    "def print_optimal_parens(s, i, j, ob):\n",
    "    \"\"\"\n",
    "    Print the optimal parentheses according to the S-matrix computed by the\n",
    "    matrix_chain_order function.\n",
    "    :param dict s: A dictionary of tuples corresponding to the minimum k\n",
    "                   values from each step of ``matrix_chain_order``.\n",
    "    :param int i: Starting index.\n",
    "    :param int j: End index.\n",
    "    Example (continued from previous function):\n",
    "    >>> M, S = matrix_chain_order([2, 20, 4, 6])\n",
    "    >>> print_optimal_parens(S, 1, 3)\n",
    "    ((A_1A_2)A_3)\n",
    "    General form:\n",
    "\n",
    "    >>> chain = [2, 20, 4, 6]\n",
    "    >>> M, S = matrix_chain_order(chain)\n",
    "    >>> print_optimal_parens(S, 1, len(S) - 1)\n",
    "    ((A_1A_2)A_3)\n",
    "    \"\"\"\n",
    "\n",
    "    if i == j:\n",
    "        ob.st+=\"{}\".format(i)\n",
    "    else:\n",
    "        ob.st+='('\n",
    "        print_optimal_parens(s, i, s[tuple([i, j])], ob)\n",
    "        print_optimal_parens(s, s[tuple([i, j])] + 1, j, ob)\n",
    "        ob.st+=')'\n",
    "       "
   ]
  },
  {
   "cell_type": "code",
   "execution_count": 10,
   "id": "27e35c3c",
   "metadata": {},
   "outputs": [],
   "source": [
    "cha = [B.T, A, k, C,B]\n",
    "chain = []\n",
    "const=1\n",
    "for it in cha:\n",
    "    if type(it)==type(np.zeros(3)):\n",
    "        chain.append(it)\n",
    "    else:\n",
    "        const*=it"
   ]
  },
  {
   "cell_type": "code",
   "execution_count": 11,
   "id": "e6f92462",
   "metadata": {},
   "outputs": [
    {
     "data": {
      "text/plain": [
       "[array([[1, 2, 3]]),\n",
       " array([[3, 4, 1],\n",
       "        [4, 6, 2],\n",
       "        [1, 2, 3]]),\n",
       " array([[ 4,  1, -2],\n",
       "        [ 1,  8, -1],\n",
       "        [-2, -1,  6]]),\n",
       " array([[1],\n",
       "        [2],\n",
       "        [3]])]"
      ]
     },
     "execution_count": 11,
     "metadata": {},
     "output_type": "execute_result"
    }
   ],
   "source": [
    "chain"
   ]
  },
  {
   "cell_type": "code",
   "execution_count": 12,
   "id": "b2cfa02c",
   "metadata": {},
   "outputs": [
    {
     "data": {
      "text/plain": [
       "4"
      ]
     },
     "execution_count": 12,
     "metadata": {},
     "output_type": "execute_result"
    }
   ],
   "source": [
    "const"
   ]
  },
  {
   "cell_type": "code",
   "execution_count": 13,
   "id": "e71219c7",
   "metadata": {},
   "outputs": [
    {
     "data": {
      "text/plain": [
       "array([[2016]])"
      ]
     },
     "execution_count": 13,
     "metadata": {},
     "output_type": "execute_result"
    }
   ],
   "source": [
    "# check:\n",
    "np.dot(np.dot(np.dot(chain[0],chain[1]),chain[2]),chain[3])*const"
   ]
  },
  {
   "cell_type": "code",
   "execution_count": null,
   "id": "4e314007",
   "metadata": {},
   "outputs": [],
   "source": []
  },
  {
   "cell_type": "code",
   "execution_count": 14,
   "id": "2438bfb5",
   "metadata": {},
   "outputs": [],
   "source": [
    "chain_dim=[chain[i].shape[0] for i in range(len(chain)-1)]"
   ]
  },
  {
   "cell_type": "code",
   "execution_count": 15,
   "id": "c5f2ce94",
   "metadata": {},
   "outputs": [],
   "source": [
    "chain_dim.append(chain[-1].shape[0])\n",
    "chain_dim.append(chain[-1].shape[1])"
   ]
  },
  {
   "cell_type": "code",
   "execution_count": 16,
   "id": "f23f9a77",
   "metadata": {},
   "outputs": [
    {
     "data": {
      "text/plain": [
       "[1, 3, 3, 3, 1]"
      ]
     },
     "execution_count": 16,
     "metadata": {},
     "output_type": "execute_result"
    }
   ],
   "source": [
    "chain_dim"
   ]
  },
  {
   "cell_type": "code",
   "execution_count": 17,
   "id": "4a6cc8e6",
   "metadata": {},
   "outputs": [],
   "source": [
    "ch=[chain[i].shape for i in range(len(chain))]"
   ]
  },
  {
   "cell_type": "code",
   "execution_count": 18,
   "id": "fcac0b8f",
   "metadata": {},
   "outputs": [
    {
     "data": {
      "text/plain": [
       "[(1, 3), (3, 3), (3, 3), (3, 1)]"
      ]
     },
     "execution_count": 18,
     "metadata": {},
     "output_type": "execute_result"
    }
   ],
   "source": [
    "ch"
   ]
  },
  {
   "cell_type": "code",
   "execution_count": 19,
   "id": "f9b76df8",
   "metadata": {},
   "outputs": [],
   "source": [
    "M, S = matrix_chain_order(chain_dim)"
   ]
  },
  {
   "cell_type": "code",
   "execution_count": 20,
   "id": "42304b9c",
   "metadata": {},
   "outputs": [
    {
     "data": {
      "text/plain": [
       "({(1, 1): 0,\n",
       "  (2, 2): 0,\n",
       "  (3, 3): 0,\n",
       "  (4, 4): 0,\n",
       "  (1, 2): 9,\n",
       "  (2, 3): 27,\n",
       "  (3, 4): 9,\n",
       "  (1, 3): 18,\n",
       "  (2, 4): 18,\n",
       "  (1, 4): 21},\n",
       " {(1, 2): 1, (2, 3): 2, (3, 4): 3, (1, 3): 2, (2, 4): 2, (1, 4): 1})"
      ]
     },
     "execution_count": 20,
     "metadata": {},
     "output_type": "execute_result"
    }
   ],
   "source": [
    "M, S"
   ]
  },
  {
   "cell_type": "code",
   "execution_count": 21,
   "id": "ef0dbae0",
   "metadata": {},
   "outputs": [],
   "source": [
    "A=PrintString()"
   ]
  },
  {
   "cell_type": "code",
   "execution_count": 22,
   "id": "b0da2a5f",
   "metadata": {},
   "outputs": [],
   "source": [
    "print_optimal_parens(S, 1, len(ch),A)"
   ]
  },
  {
   "cell_type": "code",
   "execution_count": 23,
   "id": "48a01ed6",
   "metadata": {},
   "outputs": [],
   "source": [
    "ans=A.st"
   ]
  },
  {
   "cell_type": "code",
   "execution_count": 24,
   "id": "80cc6218",
   "metadata": {},
   "outputs": [
    {
     "data": {
      "text/plain": [
       "'(1(2(34)))'"
      ]
     },
     "execution_count": 24,
     "metadata": {},
     "output_type": "execute_result"
    }
   ],
   "source": [
    "ans"
   ]
  },
  {
   "cell_type": "code",
   "execution_count": 25,
   "id": "a7a9dda1",
   "metadata": {},
   "outputs": [],
   "source": [
    "count=0\n",
    "i=0\n",
    "stack = [ans[i]]\n",
    "prev = ans[i]\n",
    "\n",
    "while stack :\n",
    "    tmp = stack[-1]\n",
    "    if tmp==')':\n",
    "        stack.pop()\n",
    "        if count == 0:\n",
    "            b=chain[int(stack.pop())-1]\n",
    "            count+=1\n",
    "        a=chain[int(stack.pop())-1]\n",
    "        b=np.dot(a,b)\n",
    "        stack.pop()\n",
    "    else:\n",
    "        stack.append(ans[i])\n",
    "    if stack[-1]==')' and stack[-2]=='(':\n",
    "        break\n",
    "    if i < len(ans)-1:    \n",
    "        i+=1"
   ]
  },
  {
   "cell_type": "code",
   "execution_count": 26,
   "id": "d047acfa",
   "metadata": {},
   "outputs": [
    {
     "data": {
      "text/plain": [
       "array([[2016]])"
      ]
     },
     "execution_count": 26,
     "metadata": {},
     "output_type": "execute_result"
    }
   ],
   "source": [
    "b*const "
   ]
  },
  {
   "cell_type": "code",
   "execution_count": null,
   "id": "2b03d86b",
   "metadata": {},
   "outputs": [],
   "source": []
  },
  {
   "cell_type": "markdown",
   "id": "42635c9d",
   "metadata": {},
   "source": [
    "### 2.2"
   ]
  },
  {
   "cell_type": "code",
   "execution_count": 27,
   "id": "b1d526b6",
   "metadata": {},
   "outputs": [
    {
     "data": {
      "text/plain": [
       "array([[0.4, 0.2],\n",
       "       [0.2, 0.6]])"
      ]
     },
     "execution_count": 27,
     "metadata": {},
     "output_type": "execute_result"
    }
   ],
   "source": [
    "a=np.array([[3,-1],[-1,2]])\n",
    "np.linalg.inv(a)"
   ]
  },
  {
   "cell_type": "code",
   "execution_count": 28,
   "id": "c2b8fb34",
   "metadata": {},
   "outputs": [
    {
     "data": {
      "text/plain": [
       "5.000000000000001"
      ]
     },
     "execution_count": 28,
     "metadata": {},
     "output_type": "execute_result"
    }
   ],
   "source": [
    "np.linalg.det(a)"
   ]
  },
  {
   "cell_type": "code",
   "execution_count": 29,
   "id": "b720f1ec",
   "metadata": {},
   "outputs": [
    {
     "data": {
      "text/plain": [
       "array([[ 0.66666667,  0.        , -0.33333333],\n",
       "       [ 0.        ,  0.25      ,  0.        ],\n",
       "       [-0.33333333,  0.        ,  0.66666667]])"
      ]
     },
     "execution_count": 29,
     "metadata": {},
     "output_type": "execute_result"
    }
   ],
   "source": [
    "b=np.array([[2,0,1],[0,4,0],[1,0,2]])\n",
    "np.linalg.inv(b)"
   ]
  },
  {
   "cell_type": "code",
   "execution_count": 30,
   "id": "2ded58b1",
   "metadata": {},
   "outputs": [
    {
     "data": {
      "text/plain": [
       "11.999999999999995"
      ]
     },
     "execution_count": 30,
     "metadata": {},
     "output_type": "execute_result"
    }
   ],
   "source": [
    "np.linalg.det(b)"
   ]
  },
  {
   "cell_type": "markdown",
   "id": "5637d2d0",
   "metadata": {},
   "source": [
    "### 2.3"
   ]
  },
  {
   "cell_type": "code",
   "execution_count": 31,
   "id": "6995cdaa",
   "metadata": {},
   "outputs": [
    {
     "data": {
      "text/plain": [
       "3"
      ]
     },
     "execution_count": 31,
     "metadata": {},
     "output_type": "execute_result"
    }
   ],
   "source": [
    "np.linalg.matrix_rank(np.array([[1,3,4,-1,2],[4,1,-1,0,1],[-7,1,6,-1,-1]]))"
   ]
  },
  {
   "cell_type": "code",
   "execution_count": null,
   "id": "882c9121",
   "metadata": {},
   "outputs": [],
   "source": []
  },
  {
   "cell_type": "markdown",
   "id": "9655c6ba",
   "metadata": {},
   "source": [
    "### 2.4"
   ]
  },
  {
   "cell_type": "code",
   "execution_count": 32,
   "id": "f7f133a9",
   "metadata": {},
   "outputs": [],
   "source": [
    "def mat(k):\n",
    "    return np.array([[1,-1,0],\n",
    "                     [-1,1+k,-1],\n",
    "                     [0,-1,1]])"
   ]
  },
  {
   "cell_type": "code",
   "execution_count": 33,
   "id": "240d8db4",
   "metadata": {},
   "outputs": [],
   "source": [
    "def ra():\n",
    "    for k in range(100):\n",
    "        if np.linalg.matrix_rank(mat(k))==2:\n",
    "            return k"
   ]
  },
  {
   "cell_type": "code",
   "execution_count": 34,
   "id": "965e289b",
   "metadata": {},
   "outputs": [],
   "source": [
    "Z = scipy.linalg.null_space(mat(ra()))"
   ]
  },
  {
   "cell_type": "code",
   "execution_count": 35,
   "id": "5e241078",
   "metadata": {},
   "outputs": [
    {
     "data": {
      "text/plain": [
       "array([[0.57735027],\n",
       "       [0.57735027],\n",
       "       [0.57735027]])"
      ]
     },
     "execution_count": 35,
     "metadata": {},
     "output_type": "execute_result"
    }
   ],
   "source": [
    "Z"
   ]
  },
  {
   "cell_type": "code",
   "execution_count": 36,
   "id": "289d7836",
   "metadata": {},
   "outputs": [
    {
     "data": {
      "text/plain": [
       "array([[1.]])"
      ]
     },
     "execution_count": 36,
     "metadata": {},
     "output_type": "execute_result"
    }
   ],
   "source": [
    "Z.T.dot(Z)"
   ]
  },
  {
   "cell_type": "code",
   "execution_count": null,
   "id": "848f5e02",
   "metadata": {},
   "outputs": [],
   "source": []
  },
  {
   "cell_type": "markdown",
   "id": "662fbb88",
   "metadata": {},
   "source": [
    "### 2.5"
   ]
  },
  {
   "cell_type": "code",
   "execution_count": 37,
   "id": "a9df4b0e",
   "metadata": {},
   "outputs": [],
   "source": [
    "u = np.array([2,3,4])\n",
    "v = np.array([1,2,3])"
   ]
  },
  {
   "cell_type": "code",
   "execution_count": 38,
   "id": "f510d109",
   "metadata": {},
   "outputs": [],
   "source": [
    "def unit_vector(vector):\n",
    "    \"\"\" Returns the unit vector of the vector.  \"\"\"\n",
    "    return vector / np.linalg.norm(vector)\n",
    "\n",
    "def angle_between(v1, v2):\n",
    "    \"\"\" Returns the angle in radians between vectors 'v1' and 'v2'::\n",
    "\n",
    "            >>> angle_between((1, 0, 0), (0, 1, 0))\n",
    "            1.5707963267948966\n",
    "            >>> angle_between((1, 0, 0), (1, 0, 0))\n",
    "            0.0\n",
    "            >>> angle_between((1, 0, 0), (-1, 0, 0))\n",
    "            3.141592653589793\n",
    "    \"\"\"\n",
    "    v1_u = unit_vector(v1)\n",
    "    v2_u = unit_vector(v2)\n",
    "    return np.arccos(np.clip(np.dot(v1_u, v2_u), -1.0, 1.0))"
   ]
  },
  {
   "cell_type": "markdown",
   "id": "7ff0244b",
   "metadata": {},
   "source": [
    "#### a)"
   ]
  },
  {
   "cell_type": "code",
   "execution_count": 39,
   "id": "fd68c0ad",
   "metadata": {},
   "outputs": [
    {
     "data": {
      "text/plain": [
       "6.98249728791863"
      ]
     },
     "execution_count": 39,
     "metadata": {},
     "output_type": "execute_result"
    }
   ],
   "source": [
    "np.rad2deg(angle_between(u, v))"
   ]
  },
  {
   "cell_type": "markdown",
   "id": "6bc2acc9",
   "metadata": {},
   "source": [
    "#### b)"
   ]
  },
  {
   "cell_type": "code",
   "execution_count": 40,
   "id": "fdfd571c",
   "metadata": {},
   "outputs": [],
   "source": [
    "def P(angle):\n",
    "    return np.array([[1,0,0],\n",
    "                     [0,np.cos(angle),np.sin(angle)],\n",
    "                     [0,-np.sin(angle), np.cos(angle)]])"
   ]
  },
  {
   "cell_type": "code",
   "execution_count": 41,
   "id": "e37e80fd",
   "metadata": {},
   "outputs": [],
   "source": [
    "u2=np.dot(P(np.deg2rad(-30)), u)"
   ]
  },
  {
   "cell_type": "code",
   "execution_count": 42,
   "id": "a175dd56",
   "metadata": {},
   "outputs": [
    {
     "data": {
      "text/plain": [
       "array([2.        , 0.59807621, 4.96410162])"
      ]
     },
     "execution_count": 42,
     "metadata": {},
     "output_type": "execute_result"
    }
   ],
   "source": [
    "u2"
   ]
  },
  {
   "cell_type": "code",
   "execution_count": 43,
   "id": "17f1ae89",
   "metadata": {},
   "outputs": [],
   "source": [
    "v2=np.dot(P(np.deg2rad(-30)), v)"
   ]
  },
  {
   "cell_type": "code",
   "execution_count": 44,
   "id": "4ec5fafc",
   "metadata": {},
   "outputs": [
    {
     "data": {
      "text/plain": [
       "array([1.        , 0.23205081, 3.59807621])"
      ]
     },
     "execution_count": 44,
     "metadata": {},
     "output_type": "execute_result"
    }
   ],
   "source": [
    "v2"
   ]
  },
  {
   "cell_type": "markdown",
   "id": "cf127344",
   "metadata": {},
   "source": [
    "#### c)"
   ]
  },
  {
   "cell_type": "code",
   "execution_count": 45,
   "id": "24373520",
   "metadata": {},
   "outputs": [
    {
     "data": {
      "text/plain": [
       "6.982497287918682"
      ]
     },
     "execution_count": 45,
     "metadata": {},
     "output_type": "execute_result"
    }
   ],
   "source": [
    "np.rad2deg(angle_between(u2, v2))"
   ]
  },
  {
   "cell_type": "code",
   "execution_count": null,
   "id": "ad21ffbd",
   "metadata": {},
   "outputs": [],
   "source": []
  },
  {
   "cell_type": "markdown",
   "id": "924180e4",
   "metadata": {},
   "source": [
    "### 2.6"
   ]
  },
  {
   "cell_type": "markdown",
   "id": "8bd1f182",
   "metadata": {},
   "source": [
    "#### a)."
   ]
  },
  {
   "cell_type": "code",
   "execution_count": 46,
   "id": "cab06565",
   "metadata": {},
   "outputs": [],
   "source": [
    "v = np.array([0,1,0])"
   ]
  },
  {
   "cell_type": "code",
   "execution_count": 47,
   "id": "c90c2a2d",
   "metadata": {},
   "outputs": [],
   "source": [
    "alpha = 2/np.dot(v.T,v)"
   ]
  },
  {
   "cell_type": "code",
   "execution_count": 48,
   "id": "9d304734",
   "metadata": {},
   "outputs": [
    {
     "data": {
      "text/plain": [
       "2.0"
      ]
     },
     "execution_count": 48,
     "metadata": {},
     "output_type": "execute_result"
    }
   ],
   "source": [
    "alpha"
   ]
  },
  {
   "cell_type": "code",
   "execution_count": 49,
   "id": "bc9fb9ce",
   "metadata": {},
   "outputs": [],
   "source": [
    "I = np.identity(3)"
   ]
  },
  {
   "cell_type": "code",
   "execution_count": 50,
   "id": "a2fcc42d",
   "metadata": {},
   "outputs": [
    {
     "data": {
      "text/plain": [
       "array([[1., 0., 0.],\n",
       "       [0., 1., 0.],\n",
       "       [0., 0., 1.]])"
      ]
     },
     "execution_count": 50,
     "metadata": {},
     "output_type": "execute_result"
    }
   ],
   "source": [
    "I"
   ]
  },
  {
   "cell_type": "code",
   "execution_count": 51,
   "id": "33998191",
   "metadata": {},
   "outputs": [],
   "source": [
    "P=np.zeros((3,3))\n",
    "for i in range(3):\n",
    "    for j in range(3):\n",
    "        P[i][j] = int(i==j)-alpha*v[i]*v[j]"
   ]
  },
  {
   "cell_type": "code",
   "execution_count": 52,
   "id": "8ada9d15",
   "metadata": {},
   "outputs": [],
   "source": [
    "a1=P.T"
   ]
  },
  {
   "cell_type": "code",
   "execution_count": 53,
   "id": "7a94ee21",
   "metadata": {},
   "outputs": [],
   "source": [
    "a2=np.linalg.inv(P)"
   ]
  },
  {
   "cell_type": "code",
   "execution_count": 54,
   "id": "beecf986",
   "metadata": {},
   "outputs": [
    {
     "data": {
      "text/plain": [
       "True"
      ]
     },
     "execution_count": 54,
     "metadata": {},
     "output_type": "execute_result"
    }
   ],
   "source": [
    "np.all(a1==a2)"
   ]
  },
  {
   "cell_type": "markdown",
   "id": "ca6964ab",
   "metadata": {},
   "source": [
    "#### b)."
   ]
  },
  {
   "cell_type": "code",
   "execution_count": 55,
   "id": "1ce46552",
   "metadata": {},
   "outputs": [],
   "source": [
    "u = np.array([0,3,0])"
   ]
  },
  {
   "cell_type": "code",
   "execution_count": 56,
   "id": "753bd698",
   "metadata": {},
   "outputs": [
    {
     "data": {
      "text/plain": [
       "array([ 0., -3.,  0.])"
      ]
     },
     "execution_count": 56,
     "metadata": {},
     "output_type": "execute_result"
    }
   ],
   "source": [
    "np.dot(P,u)"
   ]
  },
  {
   "cell_type": "code",
   "execution_count": null,
   "id": "38deddf3",
   "metadata": {},
   "outputs": [],
   "source": []
  },
  {
   "cell_type": "markdown",
   "id": "075245c6",
   "metadata": {},
   "source": [
    "### 2.7"
   ]
  },
  {
   "cell_type": "markdown",
   "id": "f24cf651",
   "metadata": {},
   "source": [
    "#### a)."
   ]
  },
  {
   "cell_type": "code",
   "execution_count": 57,
   "id": "f31ba331",
   "metadata": {},
   "outputs": [],
   "source": [
    "def P(theta):\n",
    "    return np.array([[np.cos(theta), np.sin(theta)],\n",
    "                     [-np.sin(theta),np.cos(theta)]])"
   ]
  },
  {
   "cell_type": "code",
   "execution_count": 58,
   "id": "2e9a822d",
   "metadata": {},
   "outputs": [],
   "source": [
    "tau=np.array([[10,-6],[-6,20]])"
   ]
  },
  {
   "cell_type": "code",
   "execution_count": 59,
   "id": "0fef5177",
   "metadata": {},
   "outputs": [],
   "source": [
    "def tau_1(theta):\n",
    "    return np.dot(np.dot(P(theta),tau),P(theta).T)"
   ]
  },
  {
   "cell_type": "code",
   "execution_count": null,
   "id": "ed549401",
   "metadata": {},
   "outputs": [],
   "source": []
  },
  {
   "cell_type": "code",
   "execution_count": 60,
   "id": "f4818645",
   "metadata": {},
   "outputs": [],
   "source": [
    "from scipy.optimize import fsolve"
   ]
  },
  {
   "cell_type": "code",
   "execution_count": 61,
   "id": "d44d307b",
   "metadata": {},
   "outputs": [],
   "source": [
    "def func(theta):\n",
    "    return (tau_1(theta)[1,0],tau_1(theta)[0,1])"
   ]
  },
  {
   "cell_type": "code",
   "execution_count": null,
   "id": "4ab05e15",
   "metadata": {},
   "outputs": [],
   "source": []
  },
  {
   "cell_type": "code",
   "execution_count": 62,
   "id": "d0d1e9dc",
   "metadata": {},
   "outputs": [
    {
     "name": "stdout",
     "output_type": "stream",
     "text": [
      "50\n",
      "230\n"
     ]
    }
   ],
   "source": [
    "for i in range(360):\n",
    "    ans=func(i*np.pi/360)\n",
    "    if abs(ans[0])<1e-1 and abs(ans[1])<1e-1:\n",
    "        print(i)"
   ]
  },
  {
   "cell_type": "code",
   "execution_count": 63,
   "id": "4477b8cd",
   "metadata": {},
   "outputs": [
    {
     "data": {
      "text/plain": [
       "array([[ 7.18979529, -0.02650344],\n",
       "       [-0.02650344, 22.81020471]])"
      ]
     },
     "execution_count": 63,
     "metadata": {},
     "output_type": "execute_result"
    }
   ],
   "source": [
    "tau_1(50*np.pi/360)"
   ]
  },
  {
   "cell_type": "code",
   "execution_count": 64,
   "id": "d7a8c1ed",
   "metadata": {},
   "outputs": [
    {
     "data": {
      "text/plain": [
       "array([[22.81020471,  0.02650344],\n",
       "       [ 0.02650344,  7.18979529]])"
      ]
     },
     "execution_count": 64,
     "metadata": {},
     "output_type": "execute_result"
    }
   ],
   "source": [
    "tau_1(230*np.pi/360)"
   ]
  },
  {
   "cell_type": "code",
   "execution_count": 65,
   "id": "b8f2ba2c",
   "metadata": {},
   "outputs": [],
   "source": [
    "eig=np.linalg.eig(tau)"
   ]
  },
  {
   "cell_type": "code",
   "execution_count": 66,
   "id": "49e68494",
   "metadata": {},
   "outputs": [
    {
     "data": {
      "text/plain": [
       "array([ 7.18975032, 22.81024968])"
      ]
     },
     "execution_count": 66,
     "metadata": {},
     "output_type": "execute_result"
    }
   ],
   "source": [
    "eig[0] # eigenvalue"
   ]
  },
  {
   "cell_type": "code",
   "execution_count": 67,
   "id": "5f6dd49f",
   "metadata": {},
   "outputs": [
    {
     "data": {
      "text/plain": [
       "array([[-0.90558942,  0.4241554 ],\n",
       "       [-0.4241554 , -0.90558942]])"
      ]
     },
     "execution_count": 67,
     "metadata": {},
     "output_type": "execute_result"
    }
   ],
   "source": [
    "eig[1] # eigenvectors"
   ]
  },
  {
   "cell_type": "markdown",
   "id": "c9999882",
   "metadata": {},
   "source": [
    "#### b)."
   ]
  },
  {
   "cell_type": "code",
   "execution_count": 68,
   "id": "6487ca89",
   "metadata": {},
   "outputs": [],
   "source": [
    "tau_11=np.array([[22.81024968,0],\n",
    "                 [0,7.18975032]])"
   ]
  },
  {
   "cell_type": "code",
   "execution_count": 69,
   "id": "f91be0a6",
   "metadata": {},
   "outputs": [],
   "source": [
    "S=np.zeros((2,2))"
   ]
  },
  {
   "cell_type": "code",
   "execution_count": 70,
   "id": "74030acb",
   "metadata": {},
   "outputs": [],
   "source": [
    "for i in range(len(S)):\n",
    "    for j in range(len(S[0])):\n",
    "        S[i][j]=tau_11[i][j]-(tau_11[0][0]+tau_11[1][1])/2*int(i==j)"
   ]
  },
  {
   "cell_type": "code",
   "execution_count": 71,
   "id": "9d9d5012",
   "metadata": {},
   "outputs": [],
   "source": [
    "sigma_=0\n",
    "for i in range(len(S)):\n",
    "    for j in range(len(S[0])):\n",
    "        sigma_+=S[i][j]*S[i][j]"
   ]
  },
  {
   "cell_type": "code",
   "execution_count": 72,
   "id": "7b1bace3",
   "metadata": {},
   "outputs": [],
   "source": [
    "sigma=np.sqrt(3/2*sigma_)"
   ]
  },
  {
   "cell_type": "code",
   "execution_count": 73,
   "id": "240f730f",
   "metadata": {},
   "outputs": [
    {
     "data": {
      "text/plain": [
       "13.527749265558564"
      ]
     },
     "execution_count": 73,
     "metadata": {},
     "output_type": "execute_result"
    }
   ],
   "source": [
    "sigma"
   ]
  },
  {
   "cell_type": "code",
   "execution_count": null,
   "id": "1f8dcdef",
   "metadata": {},
   "outputs": [],
   "source": []
  },
  {
   "cell_type": "code",
   "execution_count": null,
   "id": "0142464b",
   "metadata": {},
   "outputs": [],
   "source": []
  },
  {
   "cell_type": "code",
   "execution_count": 74,
   "id": "2dd0368b",
   "metadata": {},
   "outputs": [],
   "source": [
    "S=np.zeros((2,2))"
   ]
  },
  {
   "cell_type": "code",
   "execution_count": 75,
   "id": "cd83c9d0",
   "metadata": {},
   "outputs": [],
   "source": [
    "for i in range(len(S)):\n",
    "    for j in range(len(S[0])):\n",
    "        S[i][j]=tau[i][j]-(tau[0][0]+tau[1][1])/2*int(i==j)"
   ]
  },
  {
   "cell_type": "code",
   "execution_count": 76,
   "id": "91005424",
   "metadata": {},
   "outputs": [],
   "source": [
    "sigma_=0\n",
    "for i in range(len(S)):\n",
    "    for j in range(len(S[0])):\n",
    "        sigma_+=S[i][j]*S[i][j]"
   ]
  },
  {
   "cell_type": "code",
   "execution_count": 77,
   "id": "848d146d",
   "metadata": {},
   "outputs": [],
   "source": [
    "sigma=np.sqrt(3/2*sigma_)"
   ]
  },
  {
   "cell_type": "code",
   "execution_count": 78,
   "id": "73982059",
   "metadata": {},
   "outputs": [
    {
     "data": {
      "text/plain": [
       "13.527749258468683"
      ]
     },
     "execution_count": 78,
     "metadata": {},
     "output_type": "execute_result"
    }
   ],
   "source": [
    "sigma"
   ]
  },
  {
   "cell_type": "code",
   "execution_count": null,
   "id": "5e299727",
   "metadata": {},
   "outputs": [],
   "source": []
  },
  {
   "cell_type": "markdown",
   "id": "26ee572f",
   "metadata": {},
   "source": [
    "### 2.8"
   ]
  },
  {
   "cell_type": "code",
   "execution_count": 79,
   "id": "7a1a6b53",
   "metadata": {},
   "outputs": [],
   "source": [
    "# q=[x1, x1+x2], where (x1, x2) a recoordinates of a point i.e. a vector. \n",
    "\n",
    "# if we subtract from q another vector e.g. [x1,x2] we must get a vector, but we would get\n",
    "# [0, x1] and since [x1,x2] was any/every vector, we should have been able to get any vector \n",
    "# by subtracting this vector [x1,x2], but we only get [0,x1] which is in practicality \n",
    "# a scalar so we are not in vector space anymore, but by vector axioms we should have stayed\n",
    "# in vector space when subtracting, but we did not, hence q is not a vector. "
   ]
  },
  {
   "cell_type": "code",
   "execution_count": null,
   "id": "181bdfad",
   "metadata": {},
   "outputs": [],
   "source": []
  },
  {
   "cell_type": "markdown",
   "id": "6e6c2677",
   "metadata": {},
   "source": [
    "### 2.9"
   ]
  },
  {
   "cell_type": "code",
   "execution_count": 80,
   "id": "5336b971",
   "metadata": {},
   "outputs": [],
   "source": [
    "from sympy import *"
   ]
  },
  {
   "cell_type": "code",
   "execution_count": 81,
   "id": "f2b34064",
   "metadata": {},
   "outputs": [],
   "source": [
    "theta=Symbol('theta')"
   ]
  },
  {
   "cell_type": "code",
   "execution_count": 82,
   "id": "2dda70d5",
   "metadata": {},
   "outputs": [],
   "source": [
    "P=Matrix([[1,0,0],\n",
    "          [0,cos(theta), sin(theta)],\n",
    "          [0,-sin(theta),cos(theta)]])"
   ]
  },
  {
   "cell_type": "code",
   "execution_count": 83,
   "id": "190ac6b5",
   "metadata": {},
   "outputs": [
    {
     "data": {
      "text/latex": [
       "$\\displaystyle \\left[\\begin{matrix}1 & 0 & 0\\\\0 & \\cos{\\left(\\theta \\right)} & - \\sin{\\left(\\theta \\right)}\\\\0 & \\sin{\\left(\\theta \\right)} & \\cos{\\left(\\theta \\right)}\\end{matrix}\\right]$"
      ],
      "text/plain": [
       "Matrix([\n",
       "[1,          0,           0],\n",
       "[0, cos(theta), -sin(theta)],\n",
       "[0, sin(theta),  cos(theta)]])"
      ]
     },
     "execution_count": 83,
     "metadata": {},
     "output_type": "execute_result"
    }
   ],
   "source": [
    "P.T"
   ]
  },
  {
   "cell_type": "code",
   "execution_count": 84,
   "id": "60b9ae19",
   "metadata": {},
   "outputs": [],
   "source": [
    "X_=[[0,0,0],\n",
    "    [0,0,0],\n",
    "    [0,0,0]]"
   ]
  },
  {
   "cell_type": "code",
   "execution_count": 85,
   "id": "675404b2",
   "metadata": {},
   "outputs": [],
   "source": [
    "x0,x1,x2= symbols('x0, x1,x2')"
   ]
  },
  {
   "cell_type": "code",
   "execution_count": 86,
   "id": "4ed434c9",
   "metadata": {},
   "outputs": [],
   "source": [
    "u0,u1,u2=Function('u0')(x0, x1,x2),Function('u1')(x0, x1,x2),Function('u2')(x0, x1,x2)"
   ]
  },
  {
   "cell_type": "code",
   "execution_count": 87,
   "id": "c613cd4b",
   "metadata": {},
   "outputs": [],
   "source": [
    "for i in range(len(X_)):\n",
    "    for j in range(len(X_)):\n",
    "        X_[i][j]=int(i==j)  + diff(eval('u{}'.format(i)),eval('x{}'.format(j)))"
   ]
  },
  {
   "cell_type": "code",
   "execution_count": 88,
   "id": "b432bee2",
   "metadata": {},
   "outputs": [],
   "source": [
    "X = Matrix(X_)"
   ]
  },
  {
   "cell_type": "code",
   "execution_count": 89,
   "id": "2ad9020e",
   "metadata": {},
   "outputs": [
    {
     "data": {
      "text/latex": [
       "$\\displaystyle \\left[\\begin{matrix}\\frac{\\partial}{\\partial x_{0}} u_{0}{\\left(x_{0},x_{1},x_{2} \\right)} + 1 & \\frac{\\partial}{\\partial x_{1}} u_{0}{\\left(x_{0},x_{1},x_{2} \\right)} & \\frac{\\partial}{\\partial x_{2}} u_{0}{\\left(x_{0},x_{1},x_{2} \\right)}\\\\\\frac{\\partial}{\\partial x_{0}} u_{1}{\\left(x_{0},x_{1},x_{2} \\right)} & \\frac{\\partial}{\\partial x_{1}} u_{1}{\\left(x_{0},x_{1},x_{2} \\right)} + 1 & \\frac{\\partial}{\\partial x_{2}} u_{1}{\\left(x_{0},x_{1},x_{2} \\right)}\\\\\\frac{\\partial}{\\partial x_{0}} u_{2}{\\left(x_{0},x_{1},x_{2} \\right)} & \\frac{\\partial}{\\partial x_{1}} u_{2}{\\left(x_{0},x_{1},x_{2} \\right)} & \\frac{\\partial}{\\partial x_{2}} u_{2}{\\left(x_{0},x_{1},x_{2} \\right)} + 1\\end{matrix}\\right]$"
      ],
      "text/plain": [
       "Matrix([\n",
       "[Derivative(u0(x0, x1, x2), x0) + 1,     Derivative(u0(x0, x1, x2), x1),     Derivative(u0(x0, x1, x2), x2)],\n",
       "[    Derivative(u1(x0, x1, x2), x0), Derivative(u1(x0, x1, x2), x1) + 1,     Derivative(u1(x0, x1, x2), x2)],\n",
       "[    Derivative(u2(x0, x1, x2), x0),     Derivative(u2(x0, x1, x2), x1), Derivative(u2(x0, x1, x2), x2) + 1]])"
      ]
     },
     "execution_count": 89,
     "metadata": {},
     "output_type": "execute_result"
    }
   ],
   "source": [
    "X"
   ]
  },
  {
   "cell_type": "code",
   "execution_count": 90,
   "id": "af49cc27",
   "metadata": {},
   "outputs": [
    {
     "data": {
      "text/latex": [
       "$\\displaystyle \\left[\\begin{matrix}1 & 0 & 0\\\\0 & 1 & 0\\\\0 & 0 & 1\\end{matrix}\\right]$"
      ],
      "text/plain": [
       "Matrix([\n",
       "[1, 0, 0],\n",
       "[0, 1, 0],\n",
       "[0, 0, 1]])"
      ]
     },
     "execution_count": 90,
     "metadata": {},
     "output_type": "execute_result"
    }
   ],
   "source": [
    "eye(3)"
   ]
  },
  {
   "cell_type": "code",
   "execution_count": 91,
   "id": "f6d86baa",
   "metadata": {},
   "outputs": [],
   "source": [
    "e=1/2*simplify(X.T@X-eye(3))"
   ]
  },
  {
   "cell_type": "code",
   "execution_count": 92,
   "id": "d2fbcc57",
   "metadata": {},
   "outputs": [
    {
     "data": {
      "text/latex": [
       "$\\displaystyle \\left[\\begin{matrix}0.5 \\left(\\frac{\\partial}{\\partial x_{0}} u_{0}{\\left(x_{0},x_{1},x_{2} \\right)} + 1\\right)^{2} + 0.5 \\left(\\frac{\\partial}{\\partial x_{0}} u_{1}{\\left(x_{0},x_{1},x_{2} \\right)}\\right)^{2} + 0.5 \\left(\\frac{\\partial}{\\partial x_{0}} u_{2}{\\left(x_{0},x_{1},x_{2} \\right)}\\right)^{2} - 0.5 & 0.5 \\left(\\frac{\\partial}{\\partial x_{0}} u_{0}{\\left(x_{0},x_{1},x_{2} \\right)} + 1\\right) \\frac{\\partial}{\\partial x_{1}} u_{0}{\\left(x_{0},x_{1},x_{2} \\right)} + 0.5 \\left(\\frac{\\partial}{\\partial x_{1}} u_{1}{\\left(x_{0},x_{1},x_{2} \\right)} + 1\\right) \\frac{\\partial}{\\partial x_{0}} u_{1}{\\left(x_{0},x_{1},x_{2} \\right)} + 0.5 \\frac{\\partial}{\\partial x_{0}} u_{2}{\\left(x_{0},x_{1},x_{2} \\right)} \\frac{\\partial}{\\partial x_{1}} u_{2}{\\left(x_{0},x_{1},x_{2} \\right)} & 0.5 \\left(\\frac{\\partial}{\\partial x_{0}} u_{0}{\\left(x_{0},x_{1},x_{2} \\right)} + 1\\right) \\frac{\\partial}{\\partial x_{2}} u_{0}{\\left(x_{0},x_{1},x_{2} \\right)} + 0.5 \\left(\\frac{\\partial}{\\partial x_{2}} u_{2}{\\left(x_{0},x_{1},x_{2} \\right)} + 1\\right) \\frac{\\partial}{\\partial x_{0}} u_{2}{\\left(x_{0},x_{1},x_{2} \\right)} + 0.5 \\frac{\\partial}{\\partial x_{0}} u_{1}{\\left(x_{0},x_{1},x_{2} \\right)} \\frac{\\partial}{\\partial x_{2}} u_{1}{\\left(x_{0},x_{1},x_{2} \\right)}\\\\0.5 \\left(\\frac{\\partial}{\\partial x_{0}} u_{0}{\\left(x_{0},x_{1},x_{2} \\right)} + 1\\right) \\frac{\\partial}{\\partial x_{1}} u_{0}{\\left(x_{0},x_{1},x_{2} \\right)} + 0.5 \\left(\\frac{\\partial}{\\partial x_{1}} u_{1}{\\left(x_{0},x_{1},x_{2} \\right)} + 1\\right) \\frac{\\partial}{\\partial x_{0}} u_{1}{\\left(x_{0},x_{1},x_{2} \\right)} + 0.5 \\frac{\\partial}{\\partial x_{0}} u_{2}{\\left(x_{0},x_{1},x_{2} \\right)} \\frac{\\partial}{\\partial x_{1}} u_{2}{\\left(x_{0},x_{1},x_{2} \\right)} & 0.5 \\left(\\frac{\\partial}{\\partial x_{1}} u_{1}{\\left(x_{0},x_{1},x_{2} \\right)} + 1\\right)^{2} + 0.5 \\left(\\frac{\\partial}{\\partial x_{1}} u_{0}{\\left(x_{0},x_{1},x_{2} \\right)}\\right)^{2} + 0.5 \\left(\\frac{\\partial}{\\partial x_{1}} u_{2}{\\left(x_{0},x_{1},x_{2} \\right)}\\right)^{2} - 0.5 & 0.5 \\left(\\frac{\\partial}{\\partial x_{1}} u_{1}{\\left(x_{0},x_{1},x_{2} \\right)} + 1\\right) \\frac{\\partial}{\\partial x_{2}} u_{1}{\\left(x_{0},x_{1},x_{2} \\right)} + 0.5 \\left(\\frac{\\partial}{\\partial x_{2}} u_{2}{\\left(x_{0},x_{1},x_{2} \\right)} + 1\\right) \\frac{\\partial}{\\partial x_{1}} u_{2}{\\left(x_{0},x_{1},x_{2} \\right)} + 0.5 \\frac{\\partial}{\\partial x_{1}} u_{0}{\\left(x_{0},x_{1},x_{2} \\right)} \\frac{\\partial}{\\partial x_{2}} u_{0}{\\left(x_{0},x_{1},x_{2} \\right)}\\\\0.5 \\left(\\frac{\\partial}{\\partial x_{0}} u_{0}{\\left(x_{0},x_{1},x_{2} \\right)} + 1\\right) \\frac{\\partial}{\\partial x_{2}} u_{0}{\\left(x_{0},x_{1},x_{2} \\right)} + 0.5 \\left(\\frac{\\partial}{\\partial x_{2}} u_{2}{\\left(x_{0},x_{1},x_{2} \\right)} + 1\\right) \\frac{\\partial}{\\partial x_{0}} u_{2}{\\left(x_{0},x_{1},x_{2} \\right)} + 0.5 \\frac{\\partial}{\\partial x_{0}} u_{1}{\\left(x_{0},x_{1},x_{2} \\right)} \\frac{\\partial}{\\partial x_{2}} u_{1}{\\left(x_{0},x_{1},x_{2} \\right)} & 0.5 \\left(\\frac{\\partial}{\\partial x_{1}} u_{1}{\\left(x_{0},x_{1},x_{2} \\right)} + 1\\right) \\frac{\\partial}{\\partial x_{2}} u_{1}{\\left(x_{0},x_{1},x_{2} \\right)} + 0.5 \\left(\\frac{\\partial}{\\partial x_{2}} u_{2}{\\left(x_{0},x_{1},x_{2} \\right)} + 1\\right) \\frac{\\partial}{\\partial x_{1}} u_{2}{\\left(x_{0},x_{1},x_{2} \\right)} + 0.5 \\frac{\\partial}{\\partial x_{1}} u_{0}{\\left(x_{0},x_{1},x_{2} \\right)} \\frac{\\partial}{\\partial x_{2}} u_{0}{\\left(x_{0},x_{1},x_{2} \\right)} & 0.5 \\left(\\frac{\\partial}{\\partial x_{2}} u_{2}{\\left(x_{0},x_{1},x_{2} \\right)} + 1\\right)^{2} + 0.5 \\left(\\frac{\\partial}{\\partial x_{2}} u_{0}{\\left(x_{0},x_{1},x_{2} \\right)}\\right)^{2} + 0.5 \\left(\\frac{\\partial}{\\partial x_{2}} u_{1}{\\left(x_{0},x_{1},x_{2} \\right)}\\right)^{2} - 0.5\\end{matrix}\\right]$"
      ],
      "text/plain": [
       "Matrix([\n",
       "[                                                                                    0.5*(Derivative(u0(x0, x1, x2), x0) + 1)**2 + 0.5*Derivative(u1(x0, x1, x2), x0)**2 + 0.5*Derivative(u2(x0, x1, x2), x0)**2 - 0.5, 0.5*(Derivative(u0(x0, x1, x2), x0) + 1)*Derivative(u0(x0, x1, x2), x1) + 0.5*(Derivative(u1(x0, x1, x2), x1) + 1)*Derivative(u1(x0, x1, x2), x0) + 0.5*Derivative(u2(x0, x1, x2), x0)*Derivative(u2(x0, x1, x2), x1), 0.5*(Derivative(u0(x0, x1, x2), x0) + 1)*Derivative(u0(x0, x1, x2), x2) + 0.5*(Derivative(u2(x0, x1, x2), x2) + 1)*Derivative(u2(x0, x1, x2), x0) + 0.5*Derivative(u1(x0, x1, x2), x0)*Derivative(u1(x0, x1, x2), x2)],\n",
       "[0.5*(Derivative(u0(x0, x1, x2), x0) + 1)*Derivative(u0(x0, x1, x2), x1) + 0.5*(Derivative(u1(x0, x1, x2), x1) + 1)*Derivative(u1(x0, x1, x2), x0) + 0.5*Derivative(u2(x0, x1, x2), x0)*Derivative(u2(x0, x1, x2), x1),                                                                                     0.5*(Derivative(u1(x0, x1, x2), x1) + 1)**2 + 0.5*Derivative(u0(x0, x1, x2), x1)**2 + 0.5*Derivative(u2(x0, x1, x2), x1)**2 - 0.5, 0.5*(Derivative(u1(x0, x1, x2), x1) + 1)*Derivative(u1(x0, x1, x2), x2) + 0.5*(Derivative(u2(x0, x1, x2), x2) + 1)*Derivative(u2(x0, x1, x2), x1) + 0.5*Derivative(u0(x0, x1, x2), x1)*Derivative(u0(x0, x1, x2), x2)],\n",
       "[0.5*(Derivative(u0(x0, x1, x2), x0) + 1)*Derivative(u0(x0, x1, x2), x2) + 0.5*(Derivative(u2(x0, x1, x2), x2) + 1)*Derivative(u2(x0, x1, x2), x0) + 0.5*Derivative(u1(x0, x1, x2), x0)*Derivative(u1(x0, x1, x2), x2), 0.5*(Derivative(u1(x0, x1, x2), x1) + 1)*Derivative(u1(x0, x1, x2), x2) + 0.5*(Derivative(u2(x0, x1, x2), x2) + 1)*Derivative(u2(x0, x1, x2), x1) + 0.5*Derivative(u0(x0, x1, x2), x1)*Derivative(u0(x0, x1, x2), x2),                                                                                     0.5*(Derivative(u2(x0, x1, x2), x2) + 1)**2 + 0.5*Derivative(u0(x0, x1, x2), x2)**2 + 0.5*Derivative(u1(x0, x1, x2), x2)**2 - 0.5]])"
      ]
     },
     "execution_count": 92,
     "metadata": {},
     "output_type": "execute_result"
    }
   ],
   "source": [
    "e"
   ]
  },
  {
   "cell_type": "code",
   "execution_count": 93,
   "id": "5c092cef",
   "metadata": {},
   "outputs": [
    {
     "data": {
      "text/plain": [
       "(3, 3)"
      ]
     },
     "execution_count": 93,
     "metadata": {},
     "output_type": "execute_result"
    }
   ],
   "source": [
    "e.shape"
   ]
  },
  {
   "cell_type": "code",
   "execution_count": 94,
   "id": "03e7192f",
   "metadata": {},
   "outputs": [],
   "source": [
    "S=zeros(3,3)"
   ]
  },
  {
   "cell_type": "code",
   "execution_count": 95,
   "id": "76303399",
   "metadata": {},
   "outputs": [
    {
     "data": {
      "text/plain": [
       "(3, 3)"
      ]
     },
     "execution_count": 95,
     "metadata": {},
     "output_type": "execute_result"
    }
   ],
   "source": [
    "S.shape"
   ]
  },
  {
   "cell_type": "code",
   "execution_count": 96,
   "id": "e61c94e3",
   "metadata": {},
   "outputs": [],
   "source": [
    "for i in range(S.shape[0]):\n",
    "    for j in range(S.shape[1]):\n",
    "        S[i,j]=e[i,j]-(e[0,0]+e[1,1]+e[2,2])/3*int(i==j)"
   ]
  },
  {
   "cell_type": "code",
   "execution_count": 97,
   "id": "3810b3a2",
   "metadata": {},
   "outputs": [],
   "source": [
    "sigma_=0\n",
    "for i in range(S.shape[0]):\n",
    "    for j in range(S.shape[1]):\n",
    "        sigma_+=S[i,j]*S[i,j]"
   ]
  },
  {
   "cell_type": "code",
   "execution_count": 98,
   "id": "ce892896",
   "metadata": {},
   "outputs": [],
   "source": [
    "sigma=sqrt(3/2*sigma_)"
   ]
  },
  {
   "cell_type": "code",
   "execution_count": 99,
   "id": "bd3a42aa",
   "metadata": {},
   "outputs": [
    {
     "data": {
      "text/latex": [
       "$\\displaystyle 10.5075934583603$"
      ],
      "text/plain": [
       "10.5075934583603"
      ]
     },
     "execution_count": 99,
     "metadata": {},
     "output_type": "execute_result"
    }
   ],
   "source": [
    "# For example:\n",
    "sigma.subs({u0:x0+x1+x2,\n",
    "            u1:x0*x1*x2, \n",
    "            u2:x1*x2+x2*x0+x0*x1}).simplify().subs({x0:0.23,x1:1.56,x2:0.78})"
   ]
  },
  {
   "cell_type": "code",
   "execution_count": null,
   "id": "42713667",
   "metadata": {},
   "outputs": [],
   "source": []
  },
  {
   "cell_type": "code",
   "execution_count": 100,
   "id": "5b02b612",
   "metadata": {},
   "outputs": [],
   "source": [
    "ans=simplify(P@e@P.T)"
   ]
  },
  {
   "cell_type": "code",
   "execution_count": 101,
   "id": "e7ba9192",
   "metadata": {},
   "outputs": [
    {
     "data": {
      "text/latex": [
       "$\\displaystyle \\left[\\begin{matrix}0.5 \\left(\\frac{\\partial}{\\partial x_{0}} u_{0}{\\left(x_{0},x_{1},x_{2} \\right)} + 1\\right)^{2} + 0.5 \\left(\\frac{\\partial}{\\partial x_{0}} u_{1}{\\left(x_{0},x_{1},x_{2} \\right)}\\right)^{2} + 0.5 \\left(\\frac{\\partial}{\\partial x_{0}} u_{2}{\\left(x_{0},x_{1},x_{2} \\right)}\\right)^{2} - 0.5 & 0.5 \\left(\\left(\\frac{\\partial}{\\partial x_{0}} u_{0}{\\left(x_{0},x_{1},x_{2} \\right)} + 1\\right) \\frac{\\partial}{\\partial x_{1}} u_{0}{\\left(x_{0},x_{1},x_{2} \\right)} + \\left(\\frac{\\partial}{\\partial x_{1}} u_{1}{\\left(x_{0},x_{1},x_{2} \\right)} + 1\\right) \\frac{\\partial}{\\partial x_{0}} u_{1}{\\left(x_{0},x_{1},x_{2} \\right)} + \\frac{\\partial}{\\partial x_{0}} u_{2}{\\left(x_{0},x_{1},x_{2} \\right)} \\frac{\\partial}{\\partial x_{1}} u_{2}{\\left(x_{0},x_{1},x_{2} \\right)}\\right) \\cos{\\left(\\theta \\right)} + 0.5 \\left(\\left(\\frac{\\partial}{\\partial x_{0}} u_{0}{\\left(x_{0},x_{1},x_{2} \\right)} + 1\\right) \\frac{\\partial}{\\partial x_{2}} u_{0}{\\left(x_{0},x_{1},x_{2} \\right)} + \\left(\\frac{\\partial}{\\partial x_{2}} u_{2}{\\left(x_{0},x_{1},x_{2} \\right)} + 1\\right) \\frac{\\partial}{\\partial x_{0}} u_{2}{\\left(x_{0},x_{1},x_{2} \\right)} + \\frac{\\partial}{\\partial x_{0}} u_{1}{\\left(x_{0},x_{1},x_{2} \\right)} \\frac{\\partial}{\\partial x_{2}} u_{1}{\\left(x_{0},x_{1},x_{2} \\right)}\\right) \\sin{\\left(\\theta \\right)} & - 0.5 \\left(\\left(\\frac{\\partial}{\\partial x_{0}} u_{0}{\\left(x_{0},x_{1},x_{2} \\right)} + 1\\right) \\frac{\\partial}{\\partial x_{1}} u_{0}{\\left(x_{0},x_{1},x_{2} \\right)} + \\left(\\frac{\\partial}{\\partial x_{1}} u_{1}{\\left(x_{0},x_{1},x_{2} \\right)} + 1\\right) \\frac{\\partial}{\\partial x_{0}} u_{1}{\\left(x_{0},x_{1},x_{2} \\right)} + \\frac{\\partial}{\\partial x_{0}} u_{2}{\\left(x_{0},x_{1},x_{2} \\right)} \\frac{\\partial}{\\partial x_{1}} u_{2}{\\left(x_{0},x_{1},x_{2} \\right)}\\right) \\sin{\\left(\\theta \\right)} + 0.5 \\left(\\left(\\frac{\\partial}{\\partial x_{0}} u_{0}{\\left(x_{0},x_{1},x_{2} \\right)} + 1\\right) \\frac{\\partial}{\\partial x_{2}} u_{0}{\\left(x_{0},x_{1},x_{2} \\right)} + \\left(\\frac{\\partial}{\\partial x_{2}} u_{2}{\\left(x_{0},x_{1},x_{2} \\right)} + 1\\right) \\frac{\\partial}{\\partial x_{0}} u_{2}{\\left(x_{0},x_{1},x_{2} \\right)} + \\frac{\\partial}{\\partial x_{0}} u_{1}{\\left(x_{0},x_{1},x_{2} \\right)} \\frac{\\partial}{\\partial x_{2}} u_{1}{\\left(x_{0},x_{1},x_{2} \\right)}\\right) \\cos{\\left(\\theta \\right)}\\\\0.5 \\left(\\left(\\frac{\\partial}{\\partial x_{0}} u_{0}{\\left(x_{0},x_{1},x_{2} \\right)} + 1\\right) \\frac{\\partial}{\\partial x_{1}} u_{0}{\\left(x_{0},x_{1},x_{2} \\right)} + \\left(\\frac{\\partial}{\\partial x_{1}} u_{1}{\\left(x_{0},x_{1},x_{2} \\right)} + 1\\right) \\frac{\\partial}{\\partial x_{0}} u_{1}{\\left(x_{0},x_{1},x_{2} \\right)} + \\frac{\\partial}{\\partial x_{0}} u_{2}{\\left(x_{0},x_{1},x_{2} \\right)} \\frac{\\partial}{\\partial x_{1}} u_{2}{\\left(x_{0},x_{1},x_{2} \\right)}\\right) \\cos{\\left(\\theta \\right)} + 0.5 \\left(\\left(\\frac{\\partial}{\\partial x_{0}} u_{0}{\\left(x_{0},x_{1},x_{2} \\right)} + 1\\right) \\frac{\\partial}{\\partial x_{2}} u_{0}{\\left(x_{0},x_{1},x_{2} \\right)} + \\left(\\frac{\\partial}{\\partial x_{2}} u_{2}{\\left(x_{0},x_{1},x_{2} \\right)} + 1\\right) \\frac{\\partial}{\\partial x_{0}} u_{2}{\\left(x_{0},x_{1},x_{2} \\right)} + \\frac{\\partial}{\\partial x_{0}} u_{1}{\\left(x_{0},x_{1},x_{2} \\right)} \\frac{\\partial}{\\partial x_{2}} u_{1}{\\left(x_{0},x_{1},x_{2} \\right)}\\right) \\sin{\\left(\\theta \\right)} & 0.5 \\left(\\left(\\left(\\frac{\\partial}{\\partial x_{1}} u_{1}{\\left(x_{0},x_{1},x_{2} \\right)} + 1\\right) \\frac{\\partial}{\\partial x_{2}} u_{1}{\\left(x_{0},x_{1},x_{2} \\right)} + \\left(\\frac{\\partial}{\\partial x_{2}} u_{2}{\\left(x_{0},x_{1},x_{2} \\right)} + 1\\right) \\frac{\\partial}{\\partial x_{1}} u_{2}{\\left(x_{0},x_{1},x_{2} \\right)} + \\frac{\\partial}{\\partial x_{1}} u_{0}{\\left(x_{0},x_{1},x_{2} \\right)} \\frac{\\partial}{\\partial x_{2}} u_{0}{\\left(x_{0},x_{1},x_{2} \\right)}\\right) \\sin{\\left(\\theta \\right)} + \\left(\\left(\\frac{\\partial}{\\partial x_{1}} u_{1}{\\left(x_{0},x_{1},x_{2} \\right)} + 1\\right)^{2} + \\left(\\frac{\\partial}{\\partial x_{1}} u_{0}{\\left(x_{0},x_{1},x_{2} \\right)}\\right)^{2} + \\left(\\frac{\\partial}{\\partial x_{1}} u_{2}{\\left(x_{0},x_{1},x_{2} \\right)}\\right)^{2} - 1\\right) \\cos{\\left(\\theta \\right)}\\right) \\cos{\\left(\\theta \\right)} + 0.5 \\left(\\left(\\left(\\frac{\\partial}{\\partial x_{1}} u_{1}{\\left(x_{0},x_{1},x_{2} \\right)} + 1\\right) \\frac{\\partial}{\\partial x_{2}} u_{1}{\\left(x_{0},x_{1},x_{2} \\right)} + \\left(\\frac{\\partial}{\\partial x_{2}} u_{2}{\\left(x_{0},x_{1},x_{2} \\right)} + 1\\right) \\frac{\\partial}{\\partial x_{1}} u_{2}{\\left(x_{0},x_{1},x_{2} \\right)} + \\frac{\\partial}{\\partial x_{1}} u_{0}{\\left(x_{0},x_{1},x_{2} \\right)} \\frac{\\partial}{\\partial x_{2}} u_{0}{\\left(x_{0},x_{1},x_{2} \\right)}\\right) \\cos{\\left(\\theta \\right)} + \\left(\\left(\\frac{\\partial}{\\partial x_{2}} u_{2}{\\left(x_{0},x_{1},x_{2} \\right)} + 1\\right)^{2} + \\left(\\frac{\\partial}{\\partial x_{2}} u_{0}{\\left(x_{0},x_{1},x_{2} \\right)}\\right)^{2} + \\left(\\frac{\\partial}{\\partial x_{2}} u_{1}{\\left(x_{0},x_{1},x_{2} \\right)}\\right)^{2} - 1\\right) \\sin{\\left(\\theta \\right)}\\right) \\sin{\\left(\\theta \\right)} & - 0.5 \\left(\\left(\\left(\\frac{\\partial}{\\partial x_{1}} u_{1}{\\left(x_{0},x_{1},x_{2} \\right)} + 1\\right) \\frac{\\partial}{\\partial x_{2}} u_{1}{\\left(x_{0},x_{1},x_{2} \\right)} + \\left(\\frac{\\partial}{\\partial x_{2}} u_{2}{\\left(x_{0},x_{1},x_{2} \\right)} + 1\\right) \\frac{\\partial}{\\partial x_{1}} u_{2}{\\left(x_{0},x_{1},x_{2} \\right)} + \\frac{\\partial}{\\partial x_{1}} u_{0}{\\left(x_{0},x_{1},x_{2} \\right)} \\frac{\\partial}{\\partial x_{2}} u_{0}{\\left(x_{0},x_{1},x_{2} \\right)}\\right) \\sin{\\left(\\theta \\right)} + \\left(\\left(\\frac{\\partial}{\\partial x_{1}} u_{1}{\\left(x_{0},x_{1},x_{2} \\right)} + 1\\right)^{2} + \\left(\\frac{\\partial}{\\partial x_{1}} u_{0}{\\left(x_{0},x_{1},x_{2} \\right)}\\right)^{2} + \\left(\\frac{\\partial}{\\partial x_{1}} u_{2}{\\left(x_{0},x_{1},x_{2} \\right)}\\right)^{2} - 1\\right) \\cos{\\left(\\theta \\right)}\\right) \\sin{\\left(\\theta \\right)} + 0.5 \\left(\\left(\\left(\\frac{\\partial}{\\partial x_{1}} u_{1}{\\left(x_{0},x_{1},x_{2} \\right)} + 1\\right) \\frac{\\partial}{\\partial x_{2}} u_{1}{\\left(x_{0},x_{1},x_{2} \\right)} + \\left(\\frac{\\partial}{\\partial x_{2}} u_{2}{\\left(x_{0},x_{1},x_{2} \\right)} + 1\\right) \\frac{\\partial}{\\partial x_{1}} u_{2}{\\left(x_{0},x_{1},x_{2} \\right)} + \\frac{\\partial}{\\partial x_{1}} u_{0}{\\left(x_{0},x_{1},x_{2} \\right)} \\frac{\\partial}{\\partial x_{2}} u_{0}{\\left(x_{0},x_{1},x_{2} \\right)}\\right) \\cos{\\left(\\theta \\right)} + \\left(\\left(\\frac{\\partial}{\\partial x_{2}} u_{2}{\\left(x_{0},x_{1},x_{2} \\right)} + 1\\right)^{2} + \\left(\\frac{\\partial}{\\partial x_{2}} u_{0}{\\left(x_{0},x_{1},x_{2} \\right)}\\right)^{2} + \\left(\\frac{\\partial}{\\partial x_{2}} u_{1}{\\left(x_{0},x_{1},x_{2} \\right)}\\right)^{2} - 1\\right) \\sin{\\left(\\theta \\right)}\\right) \\cos{\\left(\\theta \\right)}\\\\- 0.5 \\left(\\left(\\frac{\\partial}{\\partial x_{0}} u_{0}{\\left(x_{0},x_{1},x_{2} \\right)} + 1\\right) \\frac{\\partial}{\\partial x_{1}} u_{0}{\\left(x_{0},x_{1},x_{2} \\right)} + \\left(\\frac{\\partial}{\\partial x_{1}} u_{1}{\\left(x_{0},x_{1},x_{2} \\right)} + 1\\right) \\frac{\\partial}{\\partial x_{0}} u_{1}{\\left(x_{0},x_{1},x_{2} \\right)} + \\frac{\\partial}{\\partial x_{0}} u_{2}{\\left(x_{0},x_{1},x_{2} \\right)} \\frac{\\partial}{\\partial x_{1}} u_{2}{\\left(x_{0},x_{1},x_{2} \\right)}\\right) \\sin{\\left(\\theta \\right)} + 0.5 \\left(\\left(\\frac{\\partial}{\\partial x_{0}} u_{0}{\\left(x_{0},x_{1},x_{2} \\right)} + 1\\right) \\frac{\\partial}{\\partial x_{2}} u_{0}{\\left(x_{0},x_{1},x_{2} \\right)} + \\left(\\frac{\\partial}{\\partial x_{2}} u_{2}{\\left(x_{0},x_{1},x_{2} \\right)} + 1\\right) \\frac{\\partial}{\\partial x_{0}} u_{2}{\\left(x_{0},x_{1},x_{2} \\right)} + \\frac{\\partial}{\\partial x_{0}} u_{1}{\\left(x_{0},x_{1},x_{2} \\right)} \\frac{\\partial}{\\partial x_{2}} u_{1}{\\left(x_{0},x_{1},x_{2} \\right)}\\right) \\cos{\\left(\\theta \\right)} & - 0.5 \\left(\\left(\\left(\\frac{\\partial}{\\partial x_{1}} u_{1}{\\left(x_{0},x_{1},x_{2} \\right)} + 1\\right) \\frac{\\partial}{\\partial x_{2}} u_{1}{\\left(x_{0},x_{1},x_{2} \\right)} + \\left(\\frac{\\partial}{\\partial x_{2}} u_{2}{\\left(x_{0},x_{1},x_{2} \\right)} + 1\\right) \\frac{\\partial}{\\partial x_{1}} u_{2}{\\left(x_{0},x_{1},x_{2} \\right)} + \\frac{\\partial}{\\partial x_{1}} u_{0}{\\left(x_{0},x_{1},x_{2} \\right)} \\frac{\\partial}{\\partial x_{2}} u_{0}{\\left(x_{0},x_{1},x_{2} \\right)}\\right) \\sin{\\left(\\theta \\right)} - \\left(\\left(\\frac{\\partial}{\\partial x_{2}} u_{2}{\\left(x_{0},x_{1},x_{2} \\right)} + 1\\right)^{2} + \\left(\\frac{\\partial}{\\partial x_{2}} u_{0}{\\left(x_{0},x_{1},x_{2} \\right)}\\right)^{2} + \\left(\\frac{\\partial}{\\partial x_{2}} u_{1}{\\left(x_{0},x_{1},x_{2} \\right)}\\right)^{2} - 1\\right) \\cos{\\left(\\theta \\right)}\\right) \\sin{\\left(\\theta \\right)} + 0.5 \\left(\\left(\\left(\\frac{\\partial}{\\partial x_{1}} u_{1}{\\left(x_{0},x_{1},x_{2} \\right)} + 1\\right) \\frac{\\partial}{\\partial x_{2}} u_{1}{\\left(x_{0},x_{1},x_{2} \\right)} + \\left(\\frac{\\partial}{\\partial x_{2}} u_{2}{\\left(x_{0},x_{1},x_{2} \\right)} + 1\\right) \\frac{\\partial}{\\partial x_{1}} u_{2}{\\left(x_{0},x_{1},x_{2} \\right)} + \\frac{\\partial}{\\partial x_{1}} u_{0}{\\left(x_{0},x_{1},x_{2} \\right)} \\frac{\\partial}{\\partial x_{2}} u_{0}{\\left(x_{0},x_{1},x_{2} \\right)}\\right) \\cos{\\left(\\theta \\right)} - \\left(\\left(\\frac{\\partial}{\\partial x_{1}} u_{1}{\\left(x_{0},x_{1},x_{2} \\right)} + 1\\right)^{2} + \\left(\\frac{\\partial}{\\partial x_{1}} u_{0}{\\left(x_{0},x_{1},x_{2} \\right)}\\right)^{2} + \\left(\\frac{\\partial}{\\partial x_{1}} u_{2}{\\left(x_{0},x_{1},x_{2} \\right)}\\right)^{2} - 1\\right) \\sin{\\left(\\theta \\right)}\\right) \\cos{\\left(\\theta \\right)} & - 0.5 \\left(\\left(\\left(\\frac{\\partial}{\\partial x_{1}} u_{1}{\\left(x_{0},x_{1},x_{2} \\right)} + 1\\right) \\frac{\\partial}{\\partial x_{2}} u_{1}{\\left(x_{0},x_{1},x_{2} \\right)} + \\left(\\frac{\\partial}{\\partial x_{2}} u_{2}{\\left(x_{0},x_{1},x_{2} \\right)} + 1\\right) \\frac{\\partial}{\\partial x_{1}} u_{2}{\\left(x_{0},x_{1},x_{2} \\right)} + \\frac{\\partial}{\\partial x_{1}} u_{0}{\\left(x_{0},x_{1},x_{2} \\right)} \\frac{\\partial}{\\partial x_{2}} u_{0}{\\left(x_{0},x_{1},x_{2} \\right)}\\right) \\sin{\\left(\\theta \\right)} - \\left(\\left(\\frac{\\partial}{\\partial x_{2}} u_{2}{\\left(x_{0},x_{1},x_{2} \\right)} + 1\\right)^{2} + \\left(\\frac{\\partial}{\\partial x_{2}} u_{0}{\\left(x_{0},x_{1},x_{2} \\right)}\\right)^{2} + \\left(\\frac{\\partial}{\\partial x_{2}} u_{1}{\\left(x_{0},x_{1},x_{2} \\right)}\\right)^{2} - 1\\right) \\cos{\\left(\\theta \\right)}\\right) \\cos{\\left(\\theta \\right)} - 0.5 \\left(\\left(\\left(\\frac{\\partial}{\\partial x_{1}} u_{1}{\\left(x_{0},x_{1},x_{2} \\right)} + 1\\right) \\frac{\\partial}{\\partial x_{2}} u_{1}{\\left(x_{0},x_{1},x_{2} \\right)} + \\left(\\frac{\\partial}{\\partial x_{2}} u_{2}{\\left(x_{0},x_{1},x_{2} \\right)} + 1\\right) \\frac{\\partial}{\\partial x_{1}} u_{2}{\\left(x_{0},x_{1},x_{2} \\right)} + \\frac{\\partial}{\\partial x_{1}} u_{0}{\\left(x_{0},x_{1},x_{2} \\right)} \\frac{\\partial}{\\partial x_{2}} u_{0}{\\left(x_{0},x_{1},x_{2} \\right)}\\right) \\cos{\\left(\\theta \\right)} - \\left(\\left(\\frac{\\partial}{\\partial x_{1}} u_{1}{\\left(x_{0},x_{1},x_{2} \\right)} + 1\\right)^{2} + \\left(\\frac{\\partial}{\\partial x_{1}} u_{0}{\\left(x_{0},x_{1},x_{2} \\right)}\\right)^{2} + \\left(\\frac{\\partial}{\\partial x_{1}} u_{2}{\\left(x_{0},x_{1},x_{2} \\right)}\\right)^{2} - 1\\right) \\sin{\\left(\\theta \\right)}\\right) \\sin{\\left(\\theta \\right)}\\end{matrix}\\right]$"
      ],
      "text/plain": [
       "Matrix([\n",
       "[                                                                                                                                                                                                                                                                                                                       0.5*(Derivative(u0(x0, x1, x2), x0) + 1)**2 + 0.5*Derivative(u1(x0, x1, x2), x0)**2 + 0.5*Derivative(u2(x0, x1, x2), x0)**2 - 0.5,                                                                                                                                                                                                                                                                                                  0.5*((Derivative(u0(x0, x1, x2), x0) + 1)*Derivative(u0(x0, x1, x2), x1) + (Derivative(u1(x0, x1, x2), x1) + 1)*Derivative(u1(x0, x1, x2), x0) + Derivative(u2(x0, x1, x2), x0)*Derivative(u2(x0, x1, x2), x1))*cos(theta) + 0.5*((Derivative(u0(x0, x1, x2), x0) + 1)*Derivative(u0(x0, x1, x2), x2) + (Derivative(u2(x0, x1, x2), x2) + 1)*Derivative(u2(x0, x1, x2), x0) + Derivative(u1(x0, x1, x2), x0)*Derivative(u1(x0, x1, x2), x2))*sin(theta),                                                                                                                                                                                                                                                                                                 -0.5*((Derivative(u0(x0, x1, x2), x0) + 1)*Derivative(u0(x0, x1, x2), x1) + (Derivative(u1(x0, x1, x2), x1) + 1)*Derivative(u1(x0, x1, x2), x0) + Derivative(u2(x0, x1, x2), x0)*Derivative(u2(x0, x1, x2), x1))*sin(theta) + 0.5*((Derivative(u0(x0, x1, x2), x0) + 1)*Derivative(u0(x0, x1, x2), x2) + (Derivative(u2(x0, x1, x2), x2) + 1)*Derivative(u2(x0, x1, x2), x0) + Derivative(u1(x0, x1, x2), x0)*Derivative(u1(x0, x1, x2), x2))*cos(theta)],\n",
       "[ 0.5*((Derivative(u0(x0, x1, x2), x0) + 1)*Derivative(u0(x0, x1, x2), x1) + (Derivative(u1(x0, x1, x2), x1) + 1)*Derivative(u1(x0, x1, x2), x0) + Derivative(u2(x0, x1, x2), x0)*Derivative(u2(x0, x1, x2), x1))*cos(theta) + 0.5*((Derivative(u0(x0, x1, x2), x0) + 1)*Derivative(u0(x0, x1, x2), x2) + (Derivative(u2(x0, x1, x2), x2) + 1)*Derivative(u2(x0, x1, x2), x0) + Derivative(u1(x0, x1, x2), x0)*Derivative(u1(x0, x1, x2), x2))*sin(theta),  0.5*(((Derivative(u1(x0, x1, x2), x1) + 1)*Derivative(u1(x0, x1, x2), x2) + (Derivative(u2(x0, x1, x2), x2) + 1)*Derivative(u2(x0, x1, x2), x1) + Derivative(u0(x0, x1, x2), x1)*Derivative(u0(x0, x1, x2), x2))*sin(theta) + ((Derivative(u1(x0, x1, x2), x1) + 1)**2 + Derivative(u0(x0, x1, x2), x1)**2 + Derivative(u2(x0, x1, x2), x1)**2 - 1)*cos(theta))*cos(theta) + 0.5*(((Derivative(u1(x0, x1, x2), x1) + 1)*Derivative(u1(x0, x1, x2), x2) + (Derivative(u2(x0, x1, x2), x2) + 1)*Derivative(u2(x0, x1, x2), x1) + Derivative(u0(x0, x1, x2), x1)*Derivative(u0(x0, x1, x2), x2))*cos(theta) + ((Derivative(u2(x0, x1, x2), x2) + 1)**2 + Derivative(u0(x0, x1, x2), x2)**2 + Derivative(u1(x0, x1, x2), x2)**2 - 1)*sin(theta))*sin(theta), -0.5*(((Derivative(u1(x0, x1, x2), x1) + 1)*Derivative(u1(x0, x1, x2), x2) + (Derivative(u2(x0, x1, x2), x2) + 1)*Derivative(u2(x0, x1, x2), x1) + Derivative(u0(x0, x1, x2), x1)*Derivative(u0(x0, x1, x2), x2))*sin(theta) + ((Derivative(u1(x0, x1, x2), x1) + 1)**2 + Derivative(u0(x0, x1, x2), x1)**2 + Derivative(u2(x0, x1, x2), x1)**2 - 1)*cos(theta))*sin(theta) + 0.5*(((Derivative(u1(x0, x1, x2), x1) + 1)*Derivative(u1(x0, x1, x2), x2) + (Derivative(u2(x0, x1, x2), x2) + 1)*Derivative(u2(x0, x1, x2), x1) + Derivative(u0(x0, x1, x2), x1)*Derivative(u0(x0, x1, x2), x2))*cos(theta) + ((Derivative(u2(x0, x1, x2), x2) + 1)**2 + Derivative(u0(x0, x1, x2), x2)**2 + Derivative(u1(x0, x1, x2), x2)**2 - 1)*sin(theta))*cos(theta)],\n",
       "[-0.5*((Derivative(u0(x0, x1, x2), x0) + 1)*Derivative(u0(x0, x1, x2), x1) + (Derivative(u1(x0, x1, x2), x1) + 1)*Derivative(u1(x0, x1, x2), x0) + Derivative(u2(x0, x1, x2), x0)*Derivative(u2(x0, x1, x2), x1))*sin(theta) + 0.5*((Derivative(u0(x0, x1, x2), x0) + 1)*Derivative(u0(x0, x1, x2), x2) + (Derivative(u2(x0, x1, x2), x2) + 1)*Derivative(u2(x0, x1, x2), x0) + Derivative(u1(x0, x1, x2), x0)*Derivative(u1(x0, x1, x2), x2))*cos(theta), -0.5*(((Derivative(u1(x0, x1, x2), x1) + 1)*Derivative(u1(x0, x1, x2), x2) + (Derivative(u2(x0, x1, x2), x2) + 1)*Derivative(u2(x0, x1, x2), x1) + Derivative(u0(x0, x1, x2), x1)*Derivative(u0(x0, x1, x2), x2))*sin(theta) - ((Derivative(u2(x0, x1, x2), x2) + 1)**2 + Derivative(u0(x0, x1, x2), x2)**2 + Derivative(u1(x0, x1, x2), x2)**2 - 1)*cos(theta))*sin(theta) + 0.5*(((Derivative(u1(x0, x1, x2), x1) + 1)*Derivative(u1(x0, x1, x2), x2) + (Derivative(u2(x0, x1, x2), x2) + 1)*Derivative(u2(x0, x1, x2), x1) + Derivative(u0(x0, x1, x2), x1)*Derivative(u0(x0, x1, x2), x2))*cos(theta) - ((Derivative(u1(x0, x1, x2), x1) + 1)**2 + Derivative(u0(x0, x1, x2), x1)**2 + Derivative(u2(x0, x1, x2), x1)**2 - 1)*sin(theta))*cos(theta), -0.5*(((Derivative(u1(x0, x1, x2), x1) + 1)*Derivative(u1(x0, x1, x2), x2) + (Derivative(u2(x0, x1, x2), x2) + 1)*Derivative(u2(x0, x1, x2), x1) + Derivative(u0(x0, x1, x2), x1)*Derivative(u0(x0, x1, x2), x2))*sin(theta) - ((Derivative(u2(x0, x1, x2), x2) + 1)**2 + Derivative(u0(x0, x1, x2), x2)**2 + Derivative(u1(x0, x1, x2), x2)**2 - 1)*cos(theta))*cos(theta) - 0.5*(((Derivative(u1(x0, x1, x2), x1) + 1)*Derivative(u1(x0, x1, x2), x2) + (Derivative(u2(x0, x1, x2), x2) + 1)*Derivative(u2(x0, x1, x2), x1) + Derivative(u0(x0, x1, x2), x1)*Derivative(u0(x0, x1, x2), x2))*cos(theta) - ((Derivative(u1(x0, x1, x2), x1) + 1)**2 + Derivative(u0(x0, x1, x2), x1)**2 + Derivative(u2(x0, x1, x2), x1)**2 - 1)*sin(theta))*sin(theta)]])"
      ]
     },
     "execution_count": 101,
     "metadata": {},
     "output_type": "execute_result"
    }
   ],
   "source": [
    "ans"
   ]
  },
  {
   "cell_type": "code",
   "execution_count": 102,
   "id": "e3fcb0b3",
   "metadata": {},
   "outputs": [
    {
     "data": {
      "text/plain": [
       "(3, 3)"
      ]
     },
     "execution_count": 102,
     "metadata": {},
     "output_type": "execute_result"
    }
   ],
   "source": [
    "ans.shape"
   ]
  },
  {
   "cell_type": "code",
   "execution_count": 103,
   "id": "ca71ae1b",
   "metadata": {},
   "outputs": [],
   "source": [
    "# see Definition 2.60"
   ]
  },
  {
   "cell_type": "code",
   "execution_count": 104,
   "id": "776d334a",
   "metadata": {},
   "outputs": [],
   "source": [
    "S=zeros(3,3)"
   ]
  },
  {
   "cell_type": "code",
   "execution_count": 105,
   "id": "48207a9b",
   "metadata": {},
   "outputs": [
    {
     "data": {
      "text/plain": [
       "(3, 3)"
      ]
     },
     "execution_count": 105,
     "metadata": {},
     "output_type": "execute_result"
    }
   ],
   "source": [
    "S.shape"
   ]
  },
  {
   "cell_type": "code",
   "execution_count": 106,
   "id": "67d679d1",
   "metadata": {},
   "outputs": [],
   "source": [
    "for i in range(S.shape[0]):\n",
    "    for j in range(S.shape[1]):\n",
    "        S[i,j]=ans[i,j]-(ans[0,0]+ans[1,1]+ans[2,2])/3*int(i==j)"
   ]
  },
  {
   "cell_type": "code",
   "execution_count": 107,
   "id": "1ceca117",
   "metadata": {},
   "outputs": [],
   "source": [
    "sigma_=0\n",
    "for i in range(S.shape[0]):\n",
    "    for j in range(S.shape[1]):\n",
    "        sigma_+=S[i,j]*S[i,j]"
   ]
  },
  {
   "cell_type": "code",
   "execution_count": 108,
   "id": "3f52499b",
   "metadata": {},
   "outputs": [],
   "source": [
    "sigma1 = sqrt(3/2*sigma_)"
   ]
  },
  {
   "cell_type": "code",
   "execution_count": 109,
   "id": "f461f265",
   "metadata": {},
   "outputs": [
    {
     "data": {
      "text/latex": [
       "$\\displaystyle 10.5075934583603 \\sqrt{1.21593375634644 \\cdot 10^{-18} \\sin{\\left(4 \\theta \\right)} + 1}$"
      ],
      "text/plain": [
       "10.5075934583603*sqrt(1.21593375634644e-18*sin(4*theta) + 1)"
      ]
     },
     "execution_count": 109,
     "metadata": {},
     "output_type": "execute_result"
    }
   ],
   "source": [
    "simplify(sigma1).subs({u0:x0+x1+x2,\n",
    "                        u1:x0*x1*x2, \n",
    "                        u2:x1*x2+x2*x0+x0*x1}).simplify().subs({x0:0.23,x1:1.56,x2:0.78})"
   ]
  },
  {
   "cell_type": "code",
   "execution_count": 110,
   "id": "26b71510",
   "metadata": {},
   "outputs": [
    {
     "data": {
      "text/latex": [
       "$\\displaystyle - 1.11022302462516 \\cdot 10^{-16} \\sin{\\left(4 \\theta \\right)} \\left(\\frac{\\partial}{\\partial x_{1}} u_{1}{\\left(x_{0},x_{1},x_{2} \\right)}\\right)^{2} \\frac{\\partial}{\\partial x_{2}} u_{1}{\\left(x_{0},x_{1},x_{2} \\right)} + 1.11022302462516 \\cdot 10^{-16} \\sin{\\left(4 \\theta \\right)} \\frac{\\partial}{\\partial x_{1}} u_{2}{\\left(x_{0},x_{1},x_{2} \\right)} \\left(\\frac{\\partial}{\\partial x_{2}} u_{2}{\\left(x_{0},x_{1},x_{2} \\right)}\\right)^{2} + 6.16297582203915 \\cdot 10^{-33} \\frac{\\partial}{\\partial x_{0}} u_{0}{\\left(x_{0},x_{1},x_{2} \\right)} + 6.16297582203915 \\cdot 10^{-33} \\frac{\\partial}{\\partial x_{1}} u_{1}{\\left(x_{0},x_{1},x_{2} \\right)} + 6.16297582203915 \\cdot 10^{-33} \\frac{\\partial}{\\partial x_{2}} u_{2}{\\left(x_{0},x_{1},x_{2} \\right)} + 1.54074395550979 \\cdot 10^{-33}$"
      ],
      "text/plain": [
       "-1.11022302462516e-16*sin(4*theta)*Derivative(u1(x0, x1, x2), x1)**2*Derivative(u1(x0, x1, x2), x2) + 1.11022302462516e-16*sin(4*theta)*Derivative(u2(x0, x1, x2), x1)*Derivative(u2(x0, x1, x2), x2)**2 + 6.16297582203915e-33*Derivative(u0(x0, x1, x2), x0) + 6.16297582203915e-33*Derivative(u1(x0, x1, x2), x1) + 6.16297582203915e-33*Derivative(u2(x0, x1, x2), x2) + 1.54074395550979e-33"
      ]
     },
     "execution_count": 110,
     "metadata": {},
     "output_type": "execute_result"
    }
   ],
   "source": [
    "# or in general for finite space domain and finite displacements\n",
    "(sigma**2-sigma1**2).simplify() # ~ 0"
   ]
  },
  {
   "cell_type": "code",
   "execution_count": null,
   "id": "66733282",
   "metadata": {},
   "outputs": [],
   "source": []
  },
  {
   "cell_type": "markdown",
   "id": "28f77510",
   "metadata": {},
   "source": [
    "### 2.10"
   ]
  },
  {
   "cell_type": "markdown",
   "id": "44cbbd1e",
   "metadata": {},
   "source": [
    "#### a)."
   ]
  },
  {
   "cell_type": "code",
   "execution_count": 111,
   "id": "d8d106f1",
   "metadata": {},
   "outputs": [],
   "source": [
    "E,v = 2.1e9, 0.3"
   ]
  },
  {
   "cell_type": "code",
   "execution_count": 112,
   "id": "d87d0a1f",
   "metadata": {},
   "outputs": [],
   "source": [
    "lambda_ = (E*v)/((1+v)*(1-2*v))"
   ]
  },
  {
   "cell_type": "code",
   "execution_count": 113,
   "id": "00470ad0",
   "metadata": {},
   "outputs": [
    {
     "data": {
      "text/plain": [
       "1211538461.5384614"
      ]
     },
     "execution_count": 113,
     "metadata": {},
     "output_type": "execute_result"
    }
   ],
   "source": [
    "lambda_"
   ]
  },
  {
   "cell_type": "code",
   "execution_count": 114,
   "id": "50fe0fa2",
   "metadata": {},
   "outputs": [],
   "source": [
    "mu_ = E/(2*(1+v))"
   ]
  },
  {
   "cell_type": "code",
   "execution_count": 115,
   "id": "5145f5a8",
   "metadata": {},
   "outputs": [
    {
     "data": {
      "text/plain": [
       "807692307.6923077"
      ]
     },
     "execution_count": 115,
     "metadata": {},
     "output_type": "execute_result"
    }
   ],
   "source": [
    "mu_"
   ]
  },
  {
   "cell_type": "code",
   "execution_count": 116,
   "id": "8be4d2f2",
   "metadata": {},
   "outputs": [],
   "source": [
    "C=np.zeros((3,3,3,3))"
   ]
  },
  {
   "cell_type": "code",
   "execution_count": 117,
   "id": "5e31d739",
   "metadata": {},
   "outputs": [],
   "source": [
    "for i in range(3):\n",
    "    for j in range(3):\n",
    "        for r in range(3):\n",
    "            for s in range(3):\n",
    "                C[i][j][r][s]=lambda_*int(i==j)*int(r==s)+mu_*(int(i==r)*int(j==s)+int(i==s)*int(j==r))"
   ]
  },
  {
   "cell_type": "code",
   "execution_count": 118,
   "id": "3de935c3",
   "metadata": {},
   "outputs": [],
   "source": [
    "S=np.zeros((3,3,3,3))"
   ]
  },
  {
   "cell_type": "code",
   "execution_count": 119,
   "id": "5bf55a58",
   "metadata": {},
   "outputs": [],
   "source": [
    "for i in range(3):\n",
    "    for j in range(3):\n",
    "        for r in range(3):\n",
    "            for s in range(3):\n",
    "                S[i][j][r][s]=C[i][j][r][s]-(C[0][0][0][0]+C[1][1][1][1]+C[2][2][2][2])/3*int(i==j==r==s)"
   ]
  },
  {
   "cell_type": "code",
   "execution_count": 120,
   "id": "fb8a4dff",
   "metadata": {},
   "outputs": [],
   "source": [
    "sigma_=0\n",
    "for i in range(3):\n",
    "    for j in range(3):\n",
    "        for r in range(3):\n",
    "            for s in range(3):\n",
    "                sigma_+=S[i,j,r,s]*S[i,j,r,s]"
   ]
  },
  {
   "cell_type": "code",
   "execution_count": 121,
   "id": "2dddd764",
   "metadata": {},
   "outputs": [],
   "source": [
    "sigma=np.sqrt(3/2*sigma_)"
   ]
  },
  {
   "cell_type": "code",
   "execution_count": 122,
   "id": "fcbd7ea3",
   "metadata": {},
   "outputs": [
    {
     "data": {
      "text/plain": [
       "4995301046.421395"
      ]
     },
     "execution_count": 122,
     "metadata": {},
     "output_type": "execute_result"
    }
   ],
   "source": [
    "sigma"
   ]
  },
  {
   "cell_type": "code",
   "execution_count": 123,
   "id": "ebab1edf",
   "metadata": {},
   "outputs": [],
   "source": [
    "theta=30.1*np.pi/360"
   ]
  },
  {
   "cell_type": "code",
   "execution_count": 124,
   "id": "4d9782ed",
   "metadata": {},
   "outputs": [],
   "source": [
    "P=np.array([[1,0,0],\n",
    "          [0,np.cos(theta), np.sin(theta)],\n",
    "          [0,-np.sin(theta),np.cos(theta)]])"
   ]
  },
  {
   "cell_type": "code",
   "execution_count": 125,
   "id": "18bb10e4",
   "metadata": {},
   "outputs": [],
   "source": [
    "C1=np.zeros((3,3,3,3))"
   ]
  },
  {
   "cell_type": "code",
   "execution_count": 126,
   "id": "f8cf71c5",
   "metadata": {},
   "outputs": [],
   "source": [
    "for i in range(3):\n",
    "    for j in range(3):\n",
    "        for r in range(3):\n",
    "            for s in range(3):\n",
    "                tmp=0\n",
    "                for m in range(3):\n",
    "                    for n in range(3):\n",
    "                        for k in range(3):\n",
    "                            for l in range(3):\n",
    "                                tmp += P[i][m]*P[j][n]*P[r][k]*P[s][l]*C[m][n][k][l]\n",
    "                C1[i][j][r][s] = tmp               "
   ]
  },
  {
   "cell_type": "code",
   "execution_count": 127,
   "id": "4a1309a6",
   "metadata": {},
   "outputs": [],
   "source": [
    "S1=np.zeros((3,3,3,3))"
   ]
  },
  {
   "cell_type": "code",
   "execution_count": 128,
   "id": "c314e971",
   "metadata": {},
   "outputs": [],
   "source": [
    "for i in range(3):\n",
    "    for j in range(3):\n",
    "        for r in range(3):\n",
    "            for s in range(3):\n",
    "                S1[i][j][r][s]=C1[i][j][r][s]-(C1[0][0][0][0]+C1[1][1][1][1]+C1[2][2][2][2])/3*int(i==j==r==s)"
   ]
  },
  {
   "cell_type": "code",
   "execution_count": 129,
   "id": "c15e816b",
   "metadata": {},
   "outputs": [],
   "source": [
    "sigma_=0\n",
    "for i in range(3):\n",
    "    for j in range(3):\n",
    "        for r in range(3):\n",
    "            for s in range(3):\n",
    "                sigma_ += S1[i,j,r,s]*S1[i,j,r,s]"
   ]
  },
  {
   "cell_type": "code",
   "execution_count": 130,
   "id": "808957e6",
   "metadata": {},
   "outputs": [],
   "source": [
    "sigma1=np.sqrt(3/2*sigma_)"
   ]
  },
  {
   "cell_type": "code",
   "execution_count": 131,
   "id": "dab693a2",
   "metadata": {},
   "outputs": [
    {
     "data": {
      "text/plain": [
       "4995301046.421395"
      ]
     },
     "execution_count": 131,
     "metadata": {},
     "output_type": "execute_result"
    }
   ],
   "source": [
    "sigma1"
   ]
  },
  {
   "cell_type": "markdown",
   "id": "46873c4c",
   "metadata": {},
   "source": [
    "#### b)."
   ]
  },
  {
   "cell_type": "markdown",
   "id": "96491bc2",
   "metadata": {},
   "source": [
    "Check e.g.: https://serc.carleton.edu/NAGTWorkshops/mineralogy/mineral_physics/tensors.html"
   ]
  },
  {
   "cell_type": "markdown",
   "id": "e39e8ef5",
   "metadata": {},
   "source": [
    "#### c)."
   ]
  },
  {
   "cell_type": "code",
   "execution_count": 132,
   "id": "a2bbc191",
   "metadata": {},
   "outputs": [],
   "source": [
    "D=E/(1-v**2)*np.array([[1,v,0],\n",
    "                       [v,1,0],\n",
    "                       [0,0,(1-v)/2]])"
   ]
  },
  {
   "cell_type": "code",
   "execution_count": 133,
   "id": "dfb15af7",
   "metadata": {},
   "outputs": [
    {
     "data": {
      "text/plain": [
       "array([[2.30769231e+09, 6.92307692e+08, 0.00000000e+00],\n",
       "       [6.92307692e+08, 2.30769231e+09, 0.00000000e+00],\n",
       "       [0.00000000e+00, 0.00000000e+00, 8.07692308e+08]])"
      ]
     },
     "execution_count": 133,
     "metadata": {},
     "output_type": "execute_result"
    }
   ],
   "source": [
    "D"
   ]
  },
  {
   "cell_type": "code",
   "execution_count": 134,
   "id": "ac30f6c1",
   "metadata": {},
   "outputs": [],
   "source": [
    "eig=np.linalg.eig(D)\n",
    "D1_v=eig[0]"
   ]
  },
  {
   "cell_type": "code",
   "execution_count": 135,
   "id": "6a999912",
   "metadata": {},
   "outputs": [],
   "source": [
    "D1=np.diag(D1_v)"
   ]
  },
  {
   "cell_type": "code",
   "execution_count": 136,
   "id": "66e52116",
   "metadata": {},
   "outputs": [
    {
     "data": {
      "text/plain": [
       "array([[3.00000000e+09, 0.00000000e+00, 0.00000000e+00],\n",
       "       [0.00000000e+00, 1.61538462e+09, 0.00000000e+00],\n",
       "       [0.00000000e+00, 0.00000000e+00, 8.07692308e+08]])"
      ]
     },
     "execution_count": 136,
     "metadata": {},
     "output_type": "execute_result"
    }
   ],
   "source": [
    "D1"
   ]
  },
  {
   "cell_type": "code",
   "execution_count": 137,
   "id": "0d893e75",
   "metadata": {},
   "outputs": [
    {
     "data": {
      "text/plain": [
       "array([[2.30769231e+09, 6.92307692e+08, 0.00000000e+00],\n",
       "       [6.92307692e+08, 2.30769231e+09, 0.00000000e+00],\n",
       "       [0.00000000e+00, 0.00000000e+00, 8.07692308e+08]])"
      ]
     },
     "execution_count": 137,
     "metadata": {},
     "output_type": "execute_result"
    }
   ],
   "source": [
    "eig[1]@D1@np.linalg.inv(eig[1])"
   ]
  },
  {
   "cell_type": "code",
   "execution_count": 138,
   "id": "c14e3cbb",
   "metadata": {},
   "outputs": [
    {
     "data": {
      "text/plain": [
       "array([[2.30769231e+09, 6.92307692e+08, 0.00000000e+00],\n",
       "       [6.92307692e+08, 2.30769231e+09, 0.00000000e+00],\n",
       "       [0.00000000e+00, 0.00000000e+00, 8.07692308e+08]])"
      ]
     },
     "execution_count": 138,
     "metadata": {},
     "output_type": "execute_result"
    }
   ],
   "source": [
    "eig[1]@D1@eig[1].T"
   ]
  },
  {
   "cell_type": "code",
   "execution_count": 139,
   "id": "81dae900",
   "metadata": {},
   "outputs": [
    {
     "data": {
      "text/plain": [
       "array([[3.00000000e+09, 8.84847506e-08, 0.00000000e+00],\n",
       "       [1.46020094e-07, 1.61538462e+09, 0.00000000e+00],\n",
       "       [0.00000000e+00, 0.00000000e+00, 8.07692308e+08]])"
      ]
     },
     "execution_count": 139,
     "metadata": {},
     "output_type": "execute_result"
    }
   ],
   "source": [
    "np.linalg.inv(eig[1])@D@np.linalg.inv(eig[1].T)"
   ]
  },
  {
   "cell_type": "code",
   "execution_count": 140,
   "id": "a36f4f0a",
   "metadata": {},
   "outputs": [],
   "source": [
    "T = np.linalg.inv(eig[1])"
   ]
  },
  {
   "cell_type": "code",
   "execution_count": 141,
   "id": "52c1db03",
   "metadata": {},
   "outputs": [
    {
     "data": {
      "text/plain": [
       "array([[ 0.70710678,  0.70710678,  0.        ],\n",
       "       [-0.70710678,  0.70710678,  0.        ],\n",
       "       [ 0.        ,  0.        ,  1.        ]])"
      ]
     },
     "execution_count": 141,
     "metadata": {},
     "output_type": "execute_result"
    }
   ],
   "source": [
    "T"
   ]
  },
  {
   "cell_type": "markdown",
   "id": "d52de49f",
   "metadata": {},
   "source": [
    "### 2.11"
   ]
  },
  {
   "cell_type": "code",
   "execution_count": 142,
   "id": "93b0c4d2",
   "metadata": {},
   "outputs": [],
   "source": [
    "# by multiplying both sides of 2.70 by g_j, we would get definition 2.67"
   ]
  },
  {
   "cell_type": "markdown",
   "id": "03c271b1",
   "metadata": {},
   "source": [
    "### 2.12"
   ]
  },
  {
   "cell_type": "markdown",
   "id": "30697e07",
   "metadata": {},
   "source": [
    "#### a)."
   ]
  },
  {
   "cell_type": "code",
   "execution_count": 143,
   "id": "4ff54cca",
   "metadata": {},
   "outputs": [],
   "source": [
    "g1=np.array([1,0])"
   ]
  },
  {
   "cell_type": "code",
   "execution_count": 144,
   "id": "3b443f7d",
   "metadata": {},
   "outputs": [],
   "source": [
    "g2=np.array([1/np.sqrt(2),1/np.sqrt(2)])"
   ]
  },
  {
   "cell_type": "code",
   "execution_count": 145,
   "id": "2a63d19c",
   "metadata": {},
   "outputs": [],
   "source": [
    "R = 3*g1+4*g2"
   ]
  },
  {
   "cell_type": "code",
   "execution_count": 146,
   "id": "c770c51b",
   "metadata": {},
   "outputs": [],
   "source": [
    "u = -2*g1+3*g2"
   ]
  },
  {
   "cell_type": "code",
   "execution_count": 147,
   "id": "57501a41",
   "metadata": {},
   "outputs": [
    {
     "data": {
      "text/plain": [
       "6.707106781186545"
      ]
     },
     "execution_count": 147,
     "metadata": {},
     "output_type": "execute_result"
    }
   ],
   "source": [
    "R@u"
   ]
  },
  {
   "cell_type": "markdown",
   "id": "8128c888",
   "metadata": {},
   "source": [
    "#### b)."
   ]
  },
  {
   "cell_type": "code",
   "execution_count": 148,
   "id": "dbf016c6",
   "metadata": {},
   "outputs": [],
   "source": [
    "# a=g1.reshape(2,1)@g2.reshape(1,2)"
   ]
  },
  {
   "cell_type": "code",
   "execution_count": 149,
   "id": "9ba2c969",
   "metadata": {},
   "outputs": [],
   "source": [
    "# inv_a=np.linalg.pinv(a)"
   ]
  },
  {
   "cell_type": "code",
   "execution_count": 150,
   "id": "1d5948ba",
   "metadata": {},
   "outputs": [],
   "source": [
    "# g1_cont=inv_a@g1\n",
    "# g2_cont=inv_a@g2"
   ]
  },
  {
   "cell_type": "code",
   "execution_count": 151,
   "id": "a921acf1",
   "metadata": {},
   "outputs": [],
   "source": [
    "# u_cont=-2*(a@g1_cont)+3*(a@g2_cont)=-2*(a@inv_a@g1)+3*(a@inv_a@g2)=u"
   ]
  },
  {
   "cell_type": "code",
   "execution_count": 152,
   "id": "e80d1569",
   "metadata": {},
   "outputs": [],
   "source": [
    "# R@u_cont=R@u"
   ]
  },
  {
   "cell_type": "code",
   "execution_count": null,
   "id": "4e7df001",
   "metadata": {},
   "outputs": [],
   "source": []
  }
 ],
 "metadata": {
  "kernelspec": {
   "display_name": "Python 3 (ipykernel)",
   "language": "python",
   "name": "python3"
  },
  "language_info": {
   "codemirror_mode": {
    "name": "ipython",
    "version": 3
   },
   "file_extension": ".py",
   "mimetype": "text/x-python",
   "name": "python",
   "nbconvert_exporter": "python",
   "pygments_lexer": "ipython3",
   "version": "3.9.6"
  }
 },
 "nbformat": 4,
 "nbformat_minor": 5
}
