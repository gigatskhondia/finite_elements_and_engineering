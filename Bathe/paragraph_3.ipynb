{
 "cells": [
  {
   "cell_type": "code",
   "execution_count": 1,
   "id": "aae1a58a",
   "metadata": {},
   "outputs": [],
   "source": [
    "# not validated solutions"
   ]
  },
  {
   "cell_type": "code",
   "execution_count": 2,
   "id": "424e0d00",
   "metadata": {},
   "outputs": [],
   "source": [
    "import matplotlib.pyplot as plt"
   ]
  },
  {
   "cell_type": "code",
   "execution_count": 3,
   "id": "ce13e6ad",
   "metadata": {},
   "outputs": [],
   "source": [
    "import numpy as np\n",
    "import scipy"
   ]
  },
  {
   "cell_type": "code",
   "execution_count": null,
   "id": "c83430ad",
   "metadata": {},
   "outputs": [],
   "source": []
  },
  {
   "cell_type": "markdown",
   "id": "a140005c",
   "metadata": {},
   "source": [
    "### 3.1"
   ]
  },
  {
   "cell_type": "code",
   "execution_count": 4,
   "id": "adc7f67a",
   "metadata": {},
   "outputs": [],
   "source": [
    "# in accord with EXAMPLE 3.1"
   ]
  },
  {
   "cell_type": "markdown",
   "id": "1ba74e27",
   "metadata": {},
   "source": [
    "### 3.2"
   ]
  },
  {
   "cell_type": "code",
   "execution_count": 5,
   "id": "2776cb52",
   "metadata": {},
   "outputs": [],
   "source": [
    "# in accord with EXAMPLE 3.2, gaussian elimination for prescribed temperature theta_1 ?"
   ]
  },
  {
   "cell_type": "markdown",
   "id": "9ef9e926",
   "metadata": {},
   "source": [
    "### 3.3"
   ]
  },
  {
   "cell_type": "code",
   "execution_count": 6,
   "id": "60804e32",
   "metadata": {},
   "outputs": [],
   "source": [
    "# in accord with EXAMPLE 3.3"
   ]
  },
  {
   "cell_type": "markdown",
   "id": "789121f7",
   "metadata": {},
   "source": [
    "### 3.4"
   ]
  },
  {
   "cell_type": "code",
   "execution_count": 7,
   "id": "d31eebf7",
   "metadata": {},
   "outputs": [],
   "source": [
    "# by applying Kirchhoff's Voltage Law, Grok's Think option derived based on the screenshot of the circuit:"
   ]
  },
  {
   "cell_type": "code",
   "execution_count": 8,
   "id": "c359964a",
   "metadata": {},
   "outputs": [],
   "source": [
    "# I*(2*R+3*R/4)+2*E=0"
   ]
  },
  {
   "cell_type": "markdown",
   "id": "eb7428b6",
   "metadata": {},
   "source": [
    "### 3.5"
   ]
  },
  {
   "cell_type": "code",
   "execution_count": 9,
   "id": "735a59f9",
   "metadata": {},
   "outputs": [],
   "source": [
    "# in accord with EXAMPLE 3.7"
   ]
  },
  {
   "cell_type": "markdown",
   "id": "3a37e73b",
   "metadata": {},
   "source": [
    "### 3.6"
   ]
  },
  {
   "cell_type": "code",
   "execution_count": 10,
   "id": "ff2d9797",
   "metadata": {},
   "outputs": [],
   "source": [
    "# U = W = 1/2*k*dT ???"
   ]
  },
  {
   "cell_type": "markdown",
   "id": "90a9a172",
   "metadata": {},
   "source": [
    "### 3.7"
   ]
  },
  {
   "cell_type": "code",
   "execution_count": 11,
   "id": "62d2c017",
   "metadata": {},
   "outputs": [],
   "source": [
    "# in accord with EXAMPLE 3.8"
   ]
  },
  {
   "cell_type": "markdown",
   "id": "e5f75f0f",
   "metadata": {},
   "source": [
    "### 3.8"
   ]
  },
  {
   "cell_type": "code",
   "execution_count": 12,
   "id": "8b2d9f2b",
   "metadata": {},
   "outputs": [],
   "source": [
    "# in accord with EXAMPLE 3.8, do we need dynamic or pseudo steady-state analysis as R is constant in time ?"
   ]
  },
  {
   "cell_type": "markdown",
   "id": "0f39d2c8",
   "metadata": {},
   "source": [
    "### 3.9 - 3.12"
   ]
  },
  {
   "cell_type": "code",
   "execution_count": 14,
   "id": "946b9ee0",
   "metadata": {},
   "outputs": [],
   "source": [
    "# in accord with EXAMPLE 3.10, 3.11, 3.14"
   ]
  },
  {
   "cell_type": "markdown",
   "id": "1e524ee5",
   "metadata": {},
   "source": [
    "### 3.13 - 3.14"
   ]
  },
  {
   "cell_type": "code",
   "execution_count": 15,
   "id": "068cf866",
   "metadata": {},
   "outputs": [],
   "source": [
    "# in accord with EXAMPLE 3.9, 3.2"
   ]
  },
  {
   "cell_type": "code",
   "execution_count": null,
   "id": "5011a2e4",
   "metadata": {},
   "outputs": [],
   "source": []
  }
 ],
 "metadata": {
  "kernelspec": {
   "display_name": "Python 3 (ipykernel)",
   "language": "python",
   "name": "python3"
  },
  "language_info": {
   "codemirror_mode": {
    "name": "ipython",
    "version": 3
   },
   "file_extension": ".py",
   "mimetype": "text/x-python",
   "name": "python",
   "nbconvert_exporter": "python",
   "pygments_lexer": "ipython3",
   "version": "3.9.6"
  }
 },
 "nbformat": 4,
 "nbformat_minor": 5
}
