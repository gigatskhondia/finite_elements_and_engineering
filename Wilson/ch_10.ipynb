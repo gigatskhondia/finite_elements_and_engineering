{
 "cells": [
  {
   "cell_type": "code",
   "execution_count": 1,
   "id": "2e67790e",
   "metadata": {},
   "outputs": [],
   "source": [
    "# Not validated solutions"
   ]
  },
  {
   "cell_type": "code",
   "execution_count": 2,
   "id": "fdbbb8f2",
   "metadata": {},
   "outputs": [],
   "source": [
    "from sympy import *"
   ]
  },
  {
   "cell_type": "markdown",
   "id": "a4ade970",
   "metadata": {},
   "source": [
    "### ex. 10.1"
   ]
  },
  {
   "cell_type": "code",
   "execution_count": 3,
   "id": "b024c3ed",
   "metadata": {},
   "outputs": [],
   "source": [
    "x, D1, D2, D3, D4, alpha, l = symbols('x, D1, D2, D3, D4, alpha, l')"
   ]
  },
  {
   "cell_type": "code",
   "execution_count": 4,
   "id": "30ed4e6a",
   "metadata": {},
   "outputs": [],
   "source": [
    "# clamped end\n",
    "# X(0) = X'(0) = 0\n",
    "\n",
    "# free end\n",
    "# X''(l) = X'''(l) = 0"
   ]
  },
  {
   "cell_type": "code",
   "execution_count": 5,
   "id": "1b9d18c2",
   "metadata": {},
   "outputs": [],
   "source": [
    "def X(x, D1, D2, D3, D4, alpha):\n",
    "    return D1*sin(alpha*x)+D2*cos(alpha*x)+D3*sinh(alpha*x)+D4*cosh(alpha*x)"
   ]
  },
  {
   "cell_type": "code",
   "execution_count": 6,
   "id": "724968eb",
   "metadata": {},
   "outputs": [
    {
     "data": {
      "text/latex": [
       "$\\displaystyle D_{1} \\alpha \\cos{\\left(\\alpha x \\right)} - D_{2} \\alpha \\sin{\\left(\\alpha x \\right)} + D_{3} \\alpha \\cosh{\\left(\\alpha x \\right)} + D_{4} \\alpha \\sinh{\\left(\\alpha x \\right)}$"
      ],
      "text/plain": [
       "D1*alpha*cos(alpha*x) - D2*alpha*sin(alpha*x) + D3*alpha*cosh(alpha*x) + D4*alpha*sinh(alpha*x)"
      ]
     },
     "execution_count": 6,
     "metadata": {},
     "output_type": "execute_result"
    }
   ],
   "source": [
    "diff(X(x, D1, D2, D3, D4, alpha),x,1)"
   ]
  },
  {
   "cell_type": "code",
   "execution_count": 7,
   "id": "34aea51f",
   "metadata": {},
   "outputs": [
    {
     "data": {
      "text/latex": [
       "$\\displaystyle \\alpha^{2} \\left(- D_{1} \\sin{\\left(\\alpha x \\right)} - D_{2} \\cos{\\left(\\alpha x \\right)} + D_{3} \\sinh{\\left(\\alpha x \\right)} + D_{4} \\cosh{\\left(\\alpha x \\right)}\\right)$"
      ],
      "text/plain": [
       "alpha**2*(-D1*sin(alpha*x) - D2*cos(alpha*x) + D3*sinh(alpha*x) + D4*cosh(alpha*x))"
      ]
     },
     "execution_count": 7,
     "metadata": {},
     "output_type": "execute_result"
    }
   ],
   "source": [
    "diff(X(x, D1, D2, D3, D4, alpha),x,2)"
   ]
  },
  {
   "cell_type": "code",
   "execution_count": 8,
   "id": "ef7a84ce",
   "metadata": {},
   "outputs": [
    {
     "data": {
      "text/latex": [
       "$\\displaystyle \\alpha^{3} \\left(- D_{1} \\cos{\\left(\\alpha x \\right)} + D_{2} \\sin{\\left(\\alpha x \\right)} + D_{3} \\cosh{\\left(\\alpha x \\right)} + D_{4} \\sinh{\\left(\\alpha x \\right)}\\right)$"
      ],
      "text/plain": [
       "alpha**3*(-D1*cos(alpha*x) + D2*sin(alpha*x) + D3*cosh(alpha*x) + D4*sinh(alpha*x))"
      ]
     },
     "execution_count": 8,
     "metadata": {},
     "output_type": "execute_result"
    }
   ],
   "source": [
    "diff(X(x, D1, D2, D3, D4, alpha),x,3)"
   ]
  },
  {
   "cell_type": "code",
   "execution_count": 9,
   "id": "b331fa98",
   "metadata": {},
   "outputs": [
    {
     "data": {
      "text/latex": [
       "$\\displaystyle \\left\\{\\left( 0, \\  0, \\  0, \\  0\\right)\\right\\}$"
      ],
      "text/plain": [
       "{(0, 0, 0, 0)}"
      ]
     },
     "execution_count": 9,
     "metadata": {},
     "output_type": "execute_result"
    }
   ],
   "source": [
    "linsolve([D2+D4, \n",
    "          D1+D3,\n",
    "         -D1*sin(alpha*l)-D2*cos(alpha*l)+D3*sinh(alpha*l)+D4*cosh(alpha*l),\n",
    "         -D1*cos(alpha*l)+D2*sin(alpha*l)+D3*cosh(alpha*l)+D4*sinh(alpha*l)], \n",
    "         (D1,D2,D3,D4))"
   ]
  },
  {
   "cell_type": "code",
   "execution_count": 10,
   "id": "a2970319",
   "metadata": {},
   "outputs": [],
   "source": [
    "# e.g. sin(alpha*l) = 0; cos(alpha*l)!=0 \n",
    "# alpha*l = pi*n\n",
    "# (alpha*l)_min = [pi, 2*pi, 3*pi]"
   ]
  },
  {
   "cell_type": "code",
   "execution_count": null,
   "id": "d3e57734",
   "metadata": {},
   "outputs": [],
   "source": []
  }
 ],
 "metadata": {
  "kernelspec": {
   "display_name": "Python 3 (ipykernel)",
   "language": "python",
   "name": "python3"
  },
  "language_info": {
   "codemirror_mode": {
    "name": "ipython",
    "version": 3
   },
   "file_extension": ".py",
   "mimetype": "text/x-python",
   "name": "python",
   "nbconvert_exporter": "python",
   "pygments_lexer": "ipython3",
   "version": "3.9.6"
  }
 },
 "nbformat": 4,
 "nbformat_minor": 5
}
