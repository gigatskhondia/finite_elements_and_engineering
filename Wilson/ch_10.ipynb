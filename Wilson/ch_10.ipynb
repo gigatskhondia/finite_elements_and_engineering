{
 "cells": [
  {
   "cell_type": "code",
   "execution_count": 1,
   "id": "2e67790e",
   "metadata": {},
   "outputs": [],
   "source": [
    "# Not validated solutions"
   ]
  },
  {
   "cell_type": "code",
   "execution_count": 2,
   "id": "fdbbb8f2",
   "metadata": {},
   "outputs": [],
   "source": [
    "from sympy import *"
   ]
  },
  {
   "cell_type": "markdown",
   "id": "a4ade970",
   "metadata": {},
   "source": [
    "### ex. 10.1"
   ]
  },
  {
   "cell_type": "code",
   "execution_count": 3,
   "id": "b024c3ed",
   "metadata": {},
   "outputs": [],
   "source": [
    "x, D1, D2, D3, D4, alpha, l = symbols('x, D1, D2, D3, D4, alpha, l')"
   ]
  },
  {
   "cell_type": "code",
   "execution_count": 4,
   "id": "30ed4e6a",
   "metadata": {},
   "outputs": [],
   "source": [
    "# clamped end\n",
    "# X(0) = X'(0) = 0\n",
    "\n",
    "# free end\n",
    "# X''(l) = X'''(l) = 0"
   ]
  },
  {
   "cell_type": "code",
   "execution_count": 5,
   "id": "1b9d18c2",
   "metadata": {},
   "outputs": [],
   "source": [
    "def X(x, D1, D2, D3, D4, alpha):\n",
    "    return D1*sin(alpha*x)+D2*cos(alpha*x)+D3*sinh(alpha*x)+D4*cosh(alpha*x)"
   ]
  },
  {
   "cell_type": "code",
   "execution_count": 6,
   "id": "724968eb",
   "metadata": {},
   "outputs": [
    {
     "data": {
      "text/latex": [
       "$\\displaystyle D_{1} \\alpha \\cos{\\left(\\alpha x \\right)} - D_{2} \\alpha \\sin{\\left(\\alpha x \\right)} + D_{3} \\alpha \\cosh{\\left(\\alpha x \\right)} + D_{4} \\alpha \\sinh{\\left(\\alpha x \\right)}$"
      ],
      "text/plain": [
       "D1*alpha*cos(alpha*x) - D2*alpha*sin(alpha*x) + D3*alpha*cosh(alpha*x) + D4*alpha*sinh(alpha*x)"
      ]
     },
     "execution_count": 6,
     "metadata": {},
     "output_type": "execute_result"
    }
   ],
   "source": [
    "diff(X(x, D1, D2, D3, D4, alpha),x,1)"
   ]
  },
  {
   "cell_type": "code",
   "execution_count": 7,
   "id": "34aea51f",
   "metadata": {},
   "outputs": [
    {
     "data": {
      "text/latex": [
       "$\\displaystyle \\alpha^{2} \\left(- D_{1} \\sin{\\left(\\alpha x \\right)} - D_{2} \\cos{\\left(\\alpha x \\right)} + D_{3} \\sinh{\\left(\\alpha x \\right)} + D_{4} \\cosh{\\left(\\alpha x \\right)}\\right)$"
      ],
      "text/plain": [
       "alpha**2*(-D1*sin(alpha*x) - D2*cos(alpha*x) + D3*sinh(alpha*x) + D4*cosh(alpha*x))"
      ]
     },
     "execution_count": 7,
     "metadata": {},
     "output_type": "execute_result"
    }
   ],
   "source": [
    "diff(X(x, D1, D2, D3, D4, alpha),x,2)"
   ]
  },
  {
   "cell_type": "code",
   "execution_count": 8,
   "id": "ef7a84ce",
   "metadata": {},
   "outputs": [
    {
     "data": {
      "text/latex": [
       "$\\displaystyle \\alpha^{3} \\left(- D_{1} \\cos{\\left(\\alpha x \\right)} + D_{2} \\sin{\\left(\\alpha x \\right)} + D_{3} \\cosh{\\left(\\alpha x \\right)} + D_{4} \\sinh{\\left(\\alpha x \\right)}\\right)$"
      ],
      "text/plain": [
       "alpha**3*(-D1*cos(alpha*x) + D2*sin(alpha*x) + D3*cosh(alpha*x) + D4*sinh(alpha*x))"
      ]
     },
     "execution_count": 8,
     "metadata": {},
     "output_type": "execute_result"
    }
   ],
   "source": [
    "diff(X(x, D1, D2, D3, D4, alpha),x,3)"
   ]
  },
  {
   "cell_type": "code",
   "execution_count": 9,
   "id": "b331fa98",
   "metadata": {},
   "outputs": [
    {
     "data": {
      "text/latex": [
       "$\\displaystyle D_{1} D_{2} D_{3} D_{4} \\left(2 \\cos{\\left(\\alpha l \\right)} \\cosh{\\left(\\alpha l \\right)} + 2\\right)$"
      ],
      "text/plain": [
       "D1*D2*D3*D4*(2*cos(alpha*l)*cosh(alpha*l) + 2)"
      ]
     },
     "execution_count": 9,
     "metadata": {},
     "output_type": "execute_result"
    }
   ],
   "source": [
    "simplify(Matrix([[0,D2,0,D4], \n",
    "        [D1,0,D3,0],\n",
    "         [-D1*sin(alpha*l),-D2*cos(alpha*l),+D3*sinh(alpha*l),+D4*cosh(alpha*l)],\n",
    "         [-D1*cos(alpha*l),+D2*sin(alpha*l),+D3*cosh(alpha*l),+D4*sinh(alpha*l)]]).det())"
   ]
  },
  {
   "cell_type": "code",
   "execution_count": 10,
   "id": "a02b0385",
   "metadata": {},
   "outputs": [],
   "source": [
    "# cos(alpha*l)*cosh(alpha*l) = -1"
   ]
  },
  {
   "cell_type": "code",
   "execution_count": 11,
   "id": "ba581ce3",
   "metadata": {},
   "outputs": [],
   "source": [
    "from scipy.optimize import minimize\n",
    "import numpy as np"
   ]
  },
  {
   "cell_type": "code",
   "execution_count": 12,
   "id": "690939ce",
   "metadata": {},
   "outputs": [],
   "source": [
    "def eq(alpha_l):\n",
    "    return np.cos(alpha_l)*np.cosh(alpha_l)+1"
   ]
  },
  {
   "cell_type": "code",
   "execution_count": 13,
   "id": "e2f7b0a8",
   "metadata": {},
   "outputs": [],
   "source": [
    "res = minimize(lambda x: eq(x), x0=0.001)"
   ]
  },
  {
   "cell_type": "code",
   "execution_count": 14,
   "id": "b8dc59c2",
   "metadata": {},
   "outputs": [
    {
     "data": {
      "text/plain": [
       "  message: Optimization terminated successfully.\n",
       "  success: True\n",
       "   status: 0\n",
       "      fun: 1.9999999999998332\n",
       "        x: [ 1.000e-03]\n",
       "      nit: 0\n",
       "      jac: [ 1.490e-08]\n",
       " hess_inv: [[1]]\n",
       "     nfev: 2\n",
       "     njev: 1"
      ]
     },
     "execution_count": 14,
     "metadata": {},
     "output_type": "execute_result"
    }
   ],
   "source": [
    "res"
   ]
  },
  {
   "cell_type": "markdown",
   "id": "2fc0a568",
   "metadata": {},
   "source": [
    "### ex.10.2"
   ]
  },
  {
   "cell_type": "code",
   "execution_count": 15,
   "id": "fa8a2ea2",
   "metadata": {},
   "outputs": [],
   "source": [
    "# clamped end\n",
    "# X(0) = X'(0) = 0\n",
    "\n",
    "# clamped end\n",
    "# X(l) = X'''(l) = 0"
   ]
  },
  {
   "cell_type": "code",
   "execution_count": 16,
   "id": "207f77c1",
   "metadata": {},
   "outputs": [
    {
     "data": {
      "text/latex": [
       "$\\displaystyle 2 D_{1} D_{2} D_{3} D_{4} \\sin{\\left(\\alpha l \\right)} \\sinh{\\left(\\alpha l \\right)}$"
      ],
      "text/plain": [
       "2*D1*D2*D3*D4*sin(alpha*l)*sinh(alpha*l)"
      ]
     },
     "execution_count": 16,
     "metadata": {},
     "output_type": "execute_result"
    }
   ],
   "source": [
    "simplify(Matrix([[0,D2,0,D4], \n",
    "          [D1,0,D3,0],\n",
    "          [D1*sin(alpha*l),+D2*cos(alpha*l),+D3*sinh(alpha*l),+D4*cosh(alpha*l)],\n",
    "          [-D1*cos(alpha*l),+D2*sin(alpha*l),+D3*cosh(alpha*l),+D4*sinh(alpha*l)]] ).det())"
   ]
  },
  {
   "cell_type": "code",
   "execution_count": 17,
   "id": "540ac0ee",
   "metadata": {},
   "outputs": [],
   "source": [
    "# sin(alpha*l)*sinh(alpha*l)=0\n",
    "# alpha*l = pi*n\n",
    "# (alpha*l)_min = [pi, 2*pi, 3*pi]"
   ]
  },
  {
   "cell_type": "markdown",
   "id": "67e3ebc4",
   "metadata": {},
   "source": [
    "### ex.10.3"
   ]
  },
  {
   "cell_type": "code",
   "execution_count": 18,
   "id": "a4ae5a4f",
   "metadata": {},
   "outputs": [],
   "source": [
    "# v(0,t) = d(M(0,t)/k)/dx\n",
    "# v(l,t) = ddv(l,t)/ddx=0"
   ]
  },
  {
   "cell_type": "code",
   "execution_count": 19,
   "id": "7086e73c",
   "metadata": {},
   "outputs": [],
   "source": [
    "# v(x,t) = sum(M(x,t)/k*sin(n*pi*x/l))"
   ]
  },
  {
   "cell_type": "code",
   "execution_count": 20,
   "id": "138f6162",
   "metadata": {},
   "outputs": [],
   "source": [
    "# EI*ddddv/ddddx-W/2*ddv/ddx+m_hat*ddv/ddt=0"
   ]
  },
  {
   "cell_type": "code",
   "execution_count": 21,
   "id": "33b9dcad",
   "metadata": {},
   "outputs": [],
   "source": [
    "# omega=n*pi/l*sqrt(W/(2*m_hat))"
   ]
  },
  {
   "cell_type": "markdown",
   "id": "130485d7",
   "metadata": {},
   "source": [
    "### ex.10.4"
   ]
  },
  {
   "cell_type": "code",
   "execution_count": 22,
   "id": "514c201e",
   "metadata": {},
   "outputs": [],
   "source": [
    "# Measured and predicted frequencies can deviate because:\n",
    "# 1. Measurement Errors\n",
    "# 2. Model Assumptions. For example, in reality resonance occur not exactly aе resonance frequency.\n",
    "# 3. Data quality \n",
    "# 4. Unforeseen Events: Unexpected events or changes \n",
    "# in conditions that were not accounted for in the model. \n",
    "# 5. Statistical Variability: Natural variability in the data."
   ]
  },
  {
   "cell_type": "markdown",
   "id": "0ff09cc2",
   "metadata": {},
   "source": [
    "### ex.10.5"
   ]
  },
  {
   "cell_type": "code",
   "execution_count": 23,
   "id": "1719749c",
   "metadata": {},
   "outputs": [],
   "source": [
    "# Experimental."
   ]
  },
  {
   "cell_type": "markdown",
   "id": "46f8902c",
   "metadata": {},
   "source": [
    "### ex.10.6"
   ]
  },
  {
   "cell_type": "code",
   "execution_count": 24,
   "id": "8ff26aaa",
   "metadata": {},
   "outputs": [],
   "source": [
    "# Experimental."
   ]
  },
  {
   "cell_type": "code",
   "execution_count": null,
   "id": "db2d522a",
   "metadata": {},
   "outputs": [],
   "source": []
  }
 ],
 "metadata": {
  "kernelspec": {
   "display_name": "Python 3 (ipykernel)",
   "language": "python",
   "name": "python3"
  },
  "language_info": {
   "codemirror_mode": {
    "name": "ipython",
    "version": 3
   },
   "file_extension": ".py",
   "mimetype": "text/x-python",
   "name": "python",
   "nbconvert_exporter": "python",
   "pygments_lexer": "ipython3",
   "version": "3.9.6"
  }
 },
 "nbformat": 4,
 "nbformat_minor": 5
}
