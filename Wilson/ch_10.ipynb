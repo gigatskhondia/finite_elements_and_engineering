{
 "cells": [
  {
   "cell_type": "code",
   "execution_count": 1,
   "id": "2e67790e",
   "metadata": {},
   "outputs": [],
   "source": [
    "# Not validated solutions"
   ]
  },
  {
   "cell_type": "code",
   "execution_count": 2,
   "id": "fdbbb8f2",
   "metadata": {},
   "outputs": [],
   "source": [
    "from sympy import *"
   ]
  },
  {
   "cell_type": "markdown",
   "id": "a4ade970",
   "metadata": {},
   "source": [
    "### ex. 10.1"
   ]
  },
  {
   "cell_type": "code",
   "execution_count": 3,
   "id": "b024c3ed",
   "metadata": {},
   "outputs": [],
   "source": [
    "x, D1, D2, D3, D4, alpha, l = symbols('x, D1, D2, D3, D4, alpha, l')"
   ]
  },
  {
   "cell_type": "code",
   "execution_count": 4,
   "id": "30ed4e6a",
   "metadata": {},
   "outputs": [],
   "source": [
    "# clamped end\n",
    "# X(0) = X'(0) = 0\n",
    "\n",
    "# free end\n",
    "# X''(l) = X'''(l) = 0"
   ]
  },
  {
   "cell_type": "code",
   "execution_count": 5,
   "id": "1b9d18c2",
   "metadata": {},
   "outputs": [],
   "source": [
    "def X(x, D1, D2, D3, D4, alpha):\n",
    "    return D1*sin(alpha*x)+D2*cos(alpha*x)+D3*sinh(alpha*x)+D4*cosh(alpha*x)"
   ]
  },
  {
   "cell_type": "code",
   "execution_count": 6,
   "id": "724968eb",
   "metadata": {},
   "outputs": [
    {
     "data": {
      "text/latex": [
       "$\\displaystyle D_{1} \\alpha \\cos{\\left(\\alpha x \\right)} - D_{2} \\alpha \\sin{\\left(\\alpha x \\right)} + D_{3} \\alpha \\cosh{\\left(\\alpha x \\right)} + D_{4} \\alpha \\sinh{\\left(\\alpha x \\right)}$"
      ],
      "text/plain": [
       "D1*alpha*cos(alpha*x) - D2*alpha*sin(alpha*x) + D3*alpha*cosh(alpha*x) + D4*alpha*sinh(alpha*x)"
      ]
     },
     "execution_count": 6,
     "metadata": {},
     "output_type": "execute_result"
    }
   ],
   "source": [
    "diff(X(x, D1, D2, D3, D4, alpha),x,1)"
   ]
  },
  {
   "cell_type": "code",
   "execution_count": 7,
   "id": "34aea51f",
   "metadata": {},
   "outputs": [
    {
     "data": {
      "text/latex": [
       "$\\displaystyle \\alpha^{2} \\left(- D_{1} \\sin{\\left(\\alpha x \\right)} - D_{2} \\cos{\\left(\\alpha x \\right)} + D_{3} \\sinh{\\left(\\alpha x \\right)} + D_{4} \\cosh{\\left(\\alpha x \\right)}\\right)$"
      ],
      "text/plain": [
       "alpha**2*(-D1*sin(alpha*x) - D2*cos(alpha*x) + D3*sinh(alpha*x) + D4*cosh(alpha*x))"
      ]
     },
     "execution_count": 7,
     "metadata": {},
     "output_type": "execute_result"
    }
   ],
   "source": [
    "diff(X(x, D1, D2, D3, D4, alpha),x,2)"
   ]
  },
  {
   "cell_type": "code",
   "execution_count": 8,
   "id": "ef7a84ce",
   "metadata": {},
   "outputs": [
    {
     "data": {
      "text/latex": [
       "$\\displaystyle \\alpha^{3} \\left(- D_{1} \\cos{\\left(\\alpha x \\right)} + D_{2} \\sin{\\left(\\alpha x \\right)} + D_{3} \\cosh{\\left(\\alpha x \\right)} + D_{4} \\sinh{\\left(\\alpha x \\right)}\\right)$"
      ],
      "text/plain": [
       "alpha**3*(-D1*cos(alpha*x) + D2*sin(alpha*x) + D3*cosh(alpha*x) + D4*sinh(alpha*x))"
      ]
     },
     "execution_count": 8,
     "metadata": {},
     "output_type": "execute_result"
    }
   ],
   "source": [
    "diff(X(x, D1, D2, D3, D4, alpha),x,3)"
   ]
  },
  {
   "cell_type": "code",
   "execution_count": 9,
   "id": "b331fa98",
   "metadata": {},
   "outputs": [
    {
     "data": {
      "text/latex": [
       "$\\displaystyle D_{1} D_{2} D_{3} D_{4} \\left(2 \\cos{\\left(\\alpha l \\right)} \\cosh{\\left(\\alpha l \\right)} + 2\\right)$"
      ],
      "text/plain": [
       "D1*D2*D3*D4*(2*cos(alpha*l)*cosh(alpha*l) + 2)"
      ]
     },
     "execution_count": 9,
     "metadata": {},
     "output_type": "execute_result"
    }
   ],
   "source": [
    "simplify(Matrix([[0,D2,0,D4], \n",
    "        [D1,0,D3,0],\n",
    "         [-D1*sin(alpha*l),-D2*cos(alpha*l),+D3*sinh(alpha*l),+D4*cosh(alpha*l)],\n",
    "         [-D1*cos(alpha*l),+D2*sin(alpha*l),+D3*cosh(alpha*l),+D4*sinh(alpha*l)]]).det())"
   ]
  },
  {
   "cell_type": "code",
   "execution_count": 10,
   "id": "a02b0385",
   "metadata": {},
   "outputs": [],
   "source": [
    "# cos(alpha*l)*cosh(alpha*l) = -1"
   ]
  },
  {
   "cell_type": "code",
   "execution_count": 11,
   "id": "ba581ce3",
   "metadata": {},
   "outputs": [],
   "source": [
    "from scipy.optimize import minimize\n",
    "import numpy as np"
   ]
  },
  {
   "cell_type": "code",
   "execution_count": 12,
   "id": "690939ce",
   "metadata": {},
   "outputs": [],
   "source": [
    "def eq(alpha_l):\n",
    "    return np.cos(alpha_l)*np.cosh(alpha_l)+1"
   ]
  },
  {
   "cell_type": "code",
   "execution_count": 13,
   "id": "e2f7b0a8",
   "metadata": {},
   "outputs": [],
   "source": [
    "res = minimize(lambda x: eq(x), x0=0.001)"
   ]
  },
  {
   "cell_type": "code",
   "execution_count": 14,
   "id": "b8dc59c2",
   "metadata": {},
   "outputs": [
    {
     "data": {
      "text/plain": [
       "  message: Optimization terminated successfully.\n",
       "  success: True\n",
       "   status: 0\n",
       "      fun: 1.9999999999998332\n",
       "        x: [ 1.000e-03]\n",
       "      nit: 0\n",
       "      jac: [ 1.490e-08]\n",
       " hess_inv: [[1]]\n",
       "     nfev: 2\n",
       "     njev: 1"
      ]
     },
     "execution_count": 14,
     "metadata": {},
     "output_type": "execute_result"
    }
   ],
   "source": [
    "res"
   ]
  },
  {
   "cell_type": "markdown",
   "id": "2fc0a568",
   "metadata": {},
   "source": [
    "### ex.10.2"
   ]
  },
  {
   "cell_type": "code",
   "execution_count": 15,
   "id": "fa8a2ea2",
   "metadata": {},
   "outputs": [],
   "source": [
    "# clamped end\n",
    "# X(0) = X'(0) = 0\n",
    "\n",
    "# clamped end\n",
    "# X(l) = X'''(l) = 0"
   ]
  },
  {
   "cell_type": "code",
   "execution_count": 16,
   "id": "207f77c1",
   "metadata": {},
   "outputs": [
    {
     "data": {
      "text/latex": [
       "$\\displaystyle 2 D_{1} D_{2} D_{3} D_{4} \\sin{\\left(\\alpha l \\right)} \\sinh{\\left(\\alpha l \\right)}$"
      ],
      "text/plain": [
       "2*D1*D2*D3*D4*sin(alpha*l)*sinh(alpha*l)"
      ]
     },
     "execution_count": 16,
     "metadata": {},
     "output_type": "execute_result"
    }
   ],
   "source": [
    "simplify(Matrix([[0,D2,0,D4], \n",
    "          [D1,0,D3,0],\n",
    "          [D1*sin(alpha*l),+D2*cos(alpha*l),+D3*sinh(alpha*l),+D4*cosh(alpha*l)],\n",
    "          [-D1*cos(alpha*l),+D2*sin(alpha*l),+D3*cosh(alpha*l),+D4*sinh(alpha*l)]] ).det())"
   ]
  },
  {
   "cell_type": "code",
   "execution_count": 17,
   "id": "540ac0ee",
   "metadata": {},
   "outputs": [],
   "source": [
    "# sin(alpha*l)*sinh(alpha*l)=0\n",
    "# alpha*l = pi*n\n",
    "# (alpha*l)_min = [pi, 2*pi, 3*pi]"
   ]
  },
  {
   "cell_type": "markdown",
   "id": "67e3ebc4",
   "metadata": {},
   "source": [
    "### ex.10.3"
   ]
  },
  {
   "cell_type": "code",
   "execution_count": 18,
   "id": "a4ae5a4f",
   "metadata": {},
   "outputs": [],
   "source": [
    "# v(0,t) = d(M(0,t)/k)/dx\n",
    "# v(l,t) = ddv(l,t)/ddx=0"
   ]
  },
  {
   "cell_type": "code",
   "execution_count": 19,
   "id": "7086e73c",
   "metadata": {},
   "outputs": [],
   "source": [
    "# v(x,t) = sum(M(x,t)/k*sin(n*pi*x/l))"
   ]
  },
  {
   "cell_type": "code",
   "execution_count": 20,
   "id": "138f6162",
   "metadata": {},
   "outputs": [],
   "source": [
    "# EI*ddddv/ddddx-W/2*ddv/ddx+m_hat*ddv/ddt=0"
   ]
  },
  {
   "cell_type": "code",
   "execution_count": 21,
   "id": "33b9dcad",
   "metadata": {},
   "outputs": [],
   "source": [
    "# omega=n*pi/l*sqrt(W/(2*m_hat))"
   ]
  },
  {
   "cell_type": "markdown",
   "id": "130485d7",
   "metadata": {},
   "source": [
    "### ex.10.4"
   ]
  },
  {
   "cell_type": "code",
   "execution_count": 22,
   "id": "514c201e",
   "metadata": {},
   "outputs": [],
   "source": [
    "# Measured and predicted frequencies can deviate because:\n",
    "# 1. Measurement Errors\n",
    "# 2. Model Assumptions. For example, in reality resonance occur not exactly aе resonance frequency.\n",
    "# 3. Data quality \n",
    "# 4. Unforeseen Events: Unexpected events or changes \n",
    "# in conditions that were not accounted for in the model. \n",
    "# 5. Statistical Variability: Natural variability in the data."
   ]
  },
  {
   "cell_type": "markdown",
   "id": "0ff09cc2",
   "metadata": {},
   "source": [
    "### ex.10.5"
   ]
  },
  {
   "cell_type": "code",
   "execution_count": 23,
   "id": "1719749c",
   "metadata": {},
   "outputs": [],
   "source": [
    "# Experimental."
   ]
  },
  {
   "cell_type": "markdown",
   "id": "46f8902c",
   "metadata": {},
   "source": [
    "### ex.10.6"
   ]
  },
  {
   "cell_type": "code",
   "execution_count": 24,
   "id": "8ff26aaa",
   "metadata": {},
   "outputs": [],
   "source": [
    "# Experimental."
   ]
  },
  {
   "cell_type": "markdown",
   "id": "ca865dc9",
   "metadata": {},
   "source": [
    "### ex.10.7"
   ]
  },
  {
   "cell_type": "code",
   "execution_count": 25,
   "id": "7407a82f",
   "metadata": {},
   "outputs": [],
   "source": [
    "cable_density = 0.2\n",
    "D=2\n",
    "l=500\n",
    "P0=100000\n",
    "seawater_viscosity=1.8e-5\n",
    "seawater_density=0.0372 "
   ]
  },
  {
   "cell_type": "code",
   "execution_count": 26,
   "id": "de8f8611",
   "metadata": {},
   "outputs": [],
   "source": [
    "m_cable=cable_density*np.pi*(D/2)**2"
   ]
  },
  {
   "cell_type": "code",
   "execution_count": 27,
   "id": "c1f124e4",
   "metadata": {},
   "outputs": [],
   "source": [
    "m_water=seawater_density*np.pi*(D/2)**2"
   ]
  },
  {
   "cell_type": "code",
   "execution_count": 28,
   "id": "7350e669",
   "metadata": {},
   "outputs": [],
   "source": [
    "m_hat=m_cable+m_water"
   ]
  },
  {
   "cell_type": "code",
   "execution_count": 29,
   "id": "ce7bb092",
   "metadata": {},
   "outputs": [
    {
     "data": {
      "text/plain": [
       "0.7451857774314989"
      ]
     },
     "execution_count": 29,
     "metadata": {},
     "output_type": "execute_result"
    }
   ],
   "source": [
    "m_hat"
   ]
  },
  {
   "cell_type": "code",
   "execution_count": 30,
   "id": "1b9a19c8",
   "metadata": {},
   "outputs": [],
   "source": [
    "# V - is the current velocity"
   ]
  },
  {
   "cell_type": "code",
   "execution_count": null,
   "id": "8825f2c7",
   "metadata": {},
   "outputs": [],
   "source": []
  },
  {
   "cell_type": "code",
   "execution_count": 31,
   "id": "43870ee9",
   "metadata": {},
   "outputs": [],
   "source": [
    "# First approach:"
   ]
  },
  {
   "cell_type": "code",
   "execution_count": 32,
   "id": "2d41d65f",
   "metadata": {},
   "outputs": [],
   "source": [
    "# Re=seawater_density*V*D/seawater_viscosity"
   ]
  },
  {
   "cell_type": "code",
   "execution_count": 33,
   "id": "8bfe895e",
   "metadata": {},
   "outputs": [],
   "source": [
    "# Re for vortex shedding:\n",
    "Re=100"
   ]
  },
  {
   "cell_type": "code",
   "execution_count": 34,
   "id": "24eb770b",
   "metadata": {},
   "outputs": [],
   "source": [
    "V=Re*seawater_viscosity/(D*seawater_density)"
   ]
  },
  {
   "cell_type": "code",
   "execution_count": 35,
   "id": "fdfdb908",
   "metadata": {},
   "outputs": [
    {
     "data": {
      "text/plain": [
       "0.024193548387096777"
      ]
     },
     "execution_count": 35,
     "metadata": {},
     "output_type": "execute_result"
    }
   ],
   "source": [
    "V"
   ]
  },
  {
   "cell_type": "code",
   "execution_count": null,
   "id": "ce323ffc",
   "metadata": {},
   "outputs": [],
   "source": []
  },
  {
   "cell_type": "code",
   "execution_count": 36,
   "id": "91029b18",
   "metadata": {},
   "outputs": [],
   "source": [
    "# Second approach:"
   ]
  },
  {
   "cell_type": "code",
   "execution_count": 37,
   "id": "a50bb105",
   "metadata": {},
   "outputs": [],
   "source": [
    "#St=f*D/V"
   ]
  },
  {
   "cell_type": "code",
   "execution_count": 38,
   "id": "9462f037",
   "metadata": {},
   "outputs": [],
   "source": [
    "St=0.18"
   ]
  },
  {
   "cell_type": "code",
   "execution_count": 39,
   "id": "d1ce80fa",
   "metadata": {},
   "outputs": [],
   "source": [
    "f=2*np.pi/l*np.sqrt(P0/m_hat)"
   ]
  },
  {
   "cell_type": "code",
   "execution_count": 40,
   "id": "5fe4485f",
   "metadata": {},
   "outputs": [],
   "source": [
    "V=f*D/St"
   ]
  },
  {
   "cell_type": "code",
   "execution_count": 41,
   "id": "f6868d27",
   "metadata": {},
   "outputs": [
    {
     "data": {
      "text/plain": [
       "51.148756033371995"
      ]
     },
     "execution_count": 41,
     "metadata": {},
     "output_type": "execute_result"
    }
   ],
   "source": [
    "V"
   ]
  },
  {
   "cell_type": "markdown",
   "id": "c6d5ec8f",
   "metadata": {},
   "source": [
    "### ex.10.8"
   ]
  },
  {
   "cell_type": "code",
   "execution_count": 42,
   "id": "ced53501",
   "metadata": {},
   "outputs": [],
   "source": [
    "# Xn = Cn*sin(n*pi*x/l)  - eq.10.41\n",
    "# omega_n = n**2*pi**2/l**2*sqrt(E*I/m_hat)  - eq.10.40"
   ]
  },
  {
   "cell_type": "code",
   "execution_count": 43,
   "id": "f283fd59",
   "metadata": {},
   "outputs": [],
   "source": [
    "# v(x,t) - eq. 10.82"
   ]
  },
  {
   "cell_type": "code",
   "execution_count": 44,
   "id": "561deb29",
   "metadata": {},
   "outputs": [],
   "source": [
    "# yn(t) - eq. 10.89 to 10.91"
   ]
  },
  {
   "cell_type": "code",
   "execution_count": 45,
   "id": "5ff44755",
   "metadata": {},
   "outputs": [],
   "source": [
    "Cn,n,pi,x,l,E,I,m_hat,q0,omega_hat,t  = symbols('Cn,n,pi,x,l,E,I,m_hat,q0,omega_hat,t ')"
   ]
  },
  {
   "cell_type": "code",
   "execution_count": 46,
   "id": "0c40cfae",
   "metadata": {},
   "outputs": [],
   "source": [
    "Xn = Cn*sin(n*pi*x/l)"
   ]
  },
  {
   "cell_type": "code",
   "execution_count": 47,
   "id": "88e57551",
   "metadata": {},
   "outputs": [],
   "source": [
    "q=q0*sin(omega_hat*t)"
   ]
  },
  {
   "cell_type": "code",
   "execution_count": 48,
   "id": "efb6e9eb",
   "metadata": {},
   "outputs": [],
   "source": [
    "C0=integrate(Xn**2, (x,0,l))"
   ]
  },
  {
   "cell_type": "code",
   "execution_count": 49,
   "id": "7d03cf6c",
   "metadata": {},
   "outputs": [],
   "source": [
    "p=1/(m_hat*C0)*integrate(Xn*q, (x,0,l))"
   ]
  },
  {
   "cell_type": "code",
   "execution_count": 50,
   "id": "875c456c",
   "metadata": {},
   "outputs": [],
   "source": [
    "omega_n = n**2*pi**2/l**2*sqrt(E*I/m_hat) "
   ]
  },
  {
   "cell_type": "code",
   "execution_count": 51,
   "id": "a59b2cec",
   "metadata": {},
   "outputs": [],
   "source": [
    "tau=omega_hat*t"
   ]
  },
  {
   "cell_type": "code",
   "execution_count": 52,
   "id": "4c7d9b61",
   "metadata": {},
   "outputs": [],
   "source": [
    "yn=1/omega_n*integrate(p*sin(omega_n*(t-tau)), (x,0,l))"
   ]
  },
  {
   "cell_type": "code",
   "execution_count": 53,
   "id": "712cacd9",
   "metadata": {},
   "outputs": [],
   "source": [
    "v_=Xn*yn"
   ]
  },
  {
   "cell_type": "code",
   "execution_count": 54,
   "id": "e3ab3f47",
   "metadata": {},
   "outputs": [
    {
     "data": {
      "text/latex": [
       "$\\displaystyle \\begin{cases} \\frac{4 l^{3} q_{0} \\left(\\cos{\\left(n \\pi \\right)} - 1\\right) \\sin{\\left(\\omega_{hat} t \\right)} \\sin{\\left(\\frac{n \\pi x}{l} \\right)} \\sin{\\left(\\frac{n^{2} \\pi^{2} t \\sqrt{\\frac{E I}{m_{hat}}} \\left(\\omega_{hat} - 1\\right)}{l^{2}} \\right)}}{m_{hat} n^{2} \\pi^{2} \\sqrt{\\frac{E I}{m_{hat}}} \\left(2 n \\pi - \\sin{\\left(2 n \\pi \\right)}\\right)} & \\text{for}\\: \\frac{n \\pi}{l} \\neq 0 \\\\\\text{NaN} & \\text{otherwise} \\end{cases}$"
      ],
      "text/plain": [
       "Piecewise((4*l**3*q0*(cos(n*pi) - 1)*sin(omega_hat*t)*sin(n*pi*x/l)*sin(n**2*pi**2*t*sqrt(E*I/m_hat)*(omega_hat - 1)/l**2)/(m_hat*n**2*pi**2*sqrt(E*I/m_hat)*(2*n*pi - sin(2*n*pi))), Ne(n*pi/l, 0)), (nan, True))"
      ]
     },
     "execution_count": 54,
     "metadata": {},
     "output_type": "execute_result"
    }
   ],
   "source": [
    "simplify(v_)"
   ]
  },
  {
   "cell_type": "code",
   "execution_count": 55,
   "id": "9b8b196c",
   "metadata": {},
   "outputs": [],
   "source": [
    "# v = sum(v_) from 1 to inf"
   ]
  },
  {
   "cell_type": "markdown",
   "id": "98efd541",
   "metadata": {},
   "source": [
    "### ex. 10.9"
   ]
  },
  {
   "cell_type": "code",
   "execution_count": 56,
   "id": "f016022e",
   "metadata": {},
   "outputs": [],
   "source": [
    "# similar to 10.8"
   ]
  },
  {
   "cell_type": "markdown",
   "id": "26a19b8b",
   "metadata": {},
   "source": [
    "### ex.10.10"
   ]
  },
  {
   "cell_type": "code",
   "execution_count": 57,
   "id": "115c2116",
   "metadata": {},
   "outputs": [],
   "source": [
    "# ddX+gamma**2*X=0,   (my 1)\n",
    "# omega=gamma*sqrt(P0/m_hat), (my 2)"
   ]
  },
  {
   "cell_type": "code",
   "execution_count": 58,
   "id": "9442873d",
   "metadata": {},
   "outputs": [],
   "source": [
    "# v(x,t)=sum(Xn(x)*yn(t)) substituting to eq. 10.11 |=>\n",
    "# sum(-P0*ddXn*yn+m_hat*Xn*ddyn)=q_hat(x,t) |=> multiplying by Xm\n",
    "# integral(sum(-P0*Xm*ddXn*yn)+sum(Xm*m_hat*Xn*ddyn))=integral(Xm*q_hat(x,t)) |=> from (my 1) |=>\n",
    "# |=> Xm*ddXn=-Xm*gamma**2*Xn |=>\n",
    "# integral(sum(P0*Xm*gamma**2*Xn*yn)+sum(Xm*m_hat*Xn*ddyn))=integral(Xm*q_hat(x,t))|=>\n",
    "# sum(P0*gamma**2*yn+m_hat*ddyn)*integral(Xm*Xn)=integral(Xm*q_hat(x,t)) |=> \n",
    "# |=> considering the first sentence on p.269 i.e. only m=n remain |=>\n",
    "\n",
    "# P0*gamma**2*yn+m_hat*ddyn=integral(Xn*q_hat(x,t))/integral(Xn*Xn)|=> considering (my 2)|=> \n",
    "# |=>omega**2*yn+ddyn=1/(m_hat*integral(Xn*Xn))*integral(Xn*q_hat(x,t))|=>\n",
    "# |=> omega**2*yn+ddyn=pn(t), where pn(t)=1/(m_hat*integral(Xn*Xn))*integral(Xn*q_hat(x,t))\n",
    "# |=> the rest as in ex.10.8"
   ]
  },
  {
   "cell_type": "markdown",
   "id": "284044ee",
   "metadata": {},
   "source": [
    "### ex.10.11"
   ]
  },
  {
   "cell_type": "code",
   "execution_count": 59,
   "id": "1b174ce8",
   "metadata": {},
   "outputs": [],
   "source": [
    "# Outside the book material, one can use Gen AI for insight.  "
   ]
  },
  {
   "cell_type": "markdown",
   "id": "fc58357a",
   "metadata": {},
   "source": [
    "### ex.10.12"
   ]
  },
  {
   "cell_type": "code",
   "execution_count": 60,
   "id": "c8cfdb1c",
   "metadata": {},
   "outputs": [],
   "source": [
    "# Outside the book material, one can use Gen AI for insight."
   ]
  }
 ],
 "metadata": {
  "kernelspec": {
   "display_name": "Python 3 (ipykernel)",
   "language": "python",
   "name": "python3"
  },
  "language_info": {
   "codemirror_mode": {
    "name": "ipython",
    "version": 3
   },
   "file_extension": ".py",
   "mimetype": "text/x-python",
   "name": "python",
   "nbconvert_exporter": "python",
   "pygments_lexer": "ipython3",
   "version": "3.9.6"
  }
 },
 "nbformat": 4,
 "nbformat_minor": 5
}
