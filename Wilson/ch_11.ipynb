{
 "cells": [
  {
   "cell_type": "code",
   "execution_count": 1,
   "id": "d47c63a7",
   "metadata": {},
   "outputs": [],
   "source": [
    "# Not validated solutions"
   ]
  },
  {
   "cell_type": "code",
   "execution_count": 2,
   "id": "a09a0d86",
   "metadata": {},
   "outputs": [],
   "source": [
    "import numpy as np"
   ]
  },
  {
   "cell_type": "markdown",
   "id": "2ecb71dc",
   "metadata": {},
   "source": [
    "### ex.11.1"
   ]
  },
  {
   "cell_type": "code",
   "execution_count": 3,
   "id": "3d99671d",
   "metadata": {},
   "outputs": [],
   "source": [
    "Qs=680\n",
    "Qb=80\n",
    "qu=2.5\n",
    "epsilon50=0.005\n",
    "w_ult_over_2=0.36"
   ]
  },
  {
   "cell_type": "code",
   "execution_count": 4,
   "id": "f2295691",
   "metadata": {},
   "outputs": [],
   "source": [
    "w_b=0.02\n",
    "Qb=66.7*np.sqrt(w_b)"
   ]
  },
  {
   "cell_type": "code",
   "execution_count": 5,
   "id": "d1cde50a",
   "metadata": {},
   "outputs": [
    {
     "data": {
      "text/plain": [
       "9.432804461028544"
      ]
     },
     "execution_count": 5,
     "metadata": {},
     "output_type": "execute_result"
    }
   ],
   "source": [
    "Qb"
   ]
  },
  {
   "cell_type": "code",
   "execution_count": 6,
   "id": "032a8b64",
   "metadata": {},
   "outputs": [
    {
     "data": {
      "text/plain": [
       "0.020000115516524735"
      ]
     },
     "execution_count": 6,
     "metadata": {},
     "output_type": "execute_result"
    }
   ],
   "source": [
    "w_b+7.33*(1680-1200)/(210000*145038)"
   ]
  },
  {
   "cell_type": "code",
   "execution_count": 7,
   "id": "d9afa670",
   "metadata": {},
   "outputs": [],
   "source": [
    "# https://bouassidageotechnics.wordpress.com/wp-content/uploads/2020/10/ref5_ltm.pdf"
   ]
  },
  {
   "cell_type": "markdown",
   "id": "1195df14",
   "metadata": {},
   "source": [
    "### ex.11.2"
   ]
  },
  {
   "cell_type": "code",
   "execution_count": 8,
   "id": "a0a43449",
   "metadata": {},
   "outputs": [],
   "source": [
    "# outside the book's material"
   ]
  },
  {
   "cell_type": "markdown",
   "id": "f5ed247e",
   "metadata": {},
   "source": [
    "### ex.11.3"
   ]
  },
  {
   "cell_type": "code",
   "execution_count": 9,
   "id": "2fe3267d",
   "metadata": {},
   "outputs": [],
   "source": [
    "# TODO"
   ]
  },
  {
   "cell_type": "markdown",
   "id": "f9976b5a",
   "metadata": {},
   "source": [
    "### ex.11.4"
   ]
  },
  {
   "cell_type": "code",
   "execution_count": 10,
   "id": "b40100f6",
   "metadata": {},
   "outputs": [],
   "source": [
    "# TODO"
   ]
  },
  {
   "cell_type": "markdown",
   "id": "7a80cf7f",
   "metadata": {},
   "source": [
    "### ex.11.5"
   ]
  },
  {
   "cell_type": "code",
   "execution_count": 11,
   "id": "8bb46351",
   "metadata": {},
   "outputs": [],
   "source": [
    "# same method as in ex.11.4"
   ]
  },
  {
   "cell_type": "markdown",
   "id": "f339e1fb",
   "metadata": {},
   "source": [
    "### ex.11.6"
   ]
  },
  {
   "cell_type": "code",
   "execution_count": 12,
   "id": "3cb161bc",
   "metadata": {},
   "outputs": [],
   "source": [
    "# based on 11.5"
   ]
  },
  {
   "cell_type": "markdown",
   "id": "bee926b2",
   "metadata": {},
   "source": [
    "### ex.11.7"
   ]
  },
  {
   "cell_type": "code",
   "execution_count": 13,
   "id": "d10779ba",
   "metadata": {},
   "outputs": [],
   "source": [
    "# looking for the students to divide the work among :) "
   ]
  }
 ],
 "metadata": {
  "kernelspec": {
   "display_name": "Python 3 (ipykernel)",
   "language": "python",
   "name": "python3"
  },
  "language_info": {
   "codemirror_mode": {
    "name": "ipython",
    "version": 3
   },
   "file_extension": ".py",
   "mimetype": "text/x-python",
   "name": "python",
   "nbconvert_exporter": "python",
   "pygments_lexer": "ipython3",
   "version": "3.9.6"
  }
 },
 "nbformat": 4,
 "nbformat_minor": 5
}
