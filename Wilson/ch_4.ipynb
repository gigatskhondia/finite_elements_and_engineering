{
 "cells": [
  {
   "cell_type": "code",
   "execution_count": 1,
   "id": "3910a242",
   "metadata": {},
   "outputs": [],
   "source": [
    "# Not validated solutions"
   ]
  },
  {
   "cell_type": "markdown",
   "id": "a225d436",
   "metadata": {},
   "source": [
    "### ex. 4.1"
   ]
  },
  {
   "cell_type": "code",
   "execution_count": 2,
   "id": "260ce204",
   "metadata": {},
   "outputs": [],
   "source": [
    "from sympy import symbols, integrate, cosh, sinh, sin, cos, Abs"
   ]
  },
  {
   "cell_type": "code",
   "execution_count": 3,
   "id": "91699dfa",
   "metadata": {},
   "outputs": [],
   "source": [
    "# v is independent of z"
   ]
  },
  {
   "cell_type": "code",
   "execution_count": 4,
   "id": "12409e74",
   "metadata": {},
   "outputs": [],
   "source": [
    "# du from Table 3.1"
   ]
  },
  {
   "cell_type": "code",
   "execution_count": 5,
   "id": "d0c3e0ca",
   "metadata": {},
   "outputs": [],
   "source": [
    "pi, A, T, k, z, d, x, omega, t, l =symbols ('pi, A, T, k, z, d, x, omega, t, l')"
   ]
  },
  {
   "cell_type": "code",
   "execution_count": 6,
   "id": "02c76229",
   "metadata": {},
   "outputs": [],
   "source": [
    "du= 4*pi**2*A/T**2*cosh(k*(z+d))/sinh(k*d)*sin(k*x-omega*t)"
   ]
  },
  {
   "cell_type": "code",
   "execution_count": 7,
   "id": "94d3cac7",
   "metadata": {},
   "outputs": [
    {
     "data": {
      "text/latex": [
       "$\\displaystyle \\frac{4 A \\pi^{2} \\sin{\\left(k x - \\omega t \\right)} \\cosh{\\left(k \\left(d + z\\right) \\right)}}{T^{2} \\sinh{\\left(d k \\right)}}$"
      ],
      "text/plain": [
       "4*A*pi**2*sin(k*x - omega*t)*cosh(k*(d + z))/(T**2*sinh(d*k))"
      ]
     },
     "execution_count": 7,
     "metadata": {},
     "output_type": "execute_result"
    }
   ],
   "source": [
    "du"
   ]
  },
  {
   "cell_type": "code",
   "execution_count": 8,
   "id": "7c21b5c0",
   "metadata": {},
   "outputs": [
    {
     "data": {
      "text/latex": [
       "$\\displaystyle \\frac{4 A \\pi^{2} \\sin{\\left(k x - \\omega t \\right)} \\sinh{\\left(k l \\right)}}{T^{2} k \\sinh{\\left(d k \\right)}}$"
      ],
      "text/plain": [
       "4*A*pi**2*sin(k*x - omega*t)*sinh(k*l)/(T**2*k*sinh(d*k))"
      ]
     },
     "execution_count": 8,
     "metadata": {},
     "output_type": "execute_result"
    }
   ],
   "source": [
    "integrate(du, (z, -d, l-d))"
   ]
  },
  {
   "cell_type": "code",
   "execution_count": null,
   "id": "c02be793",
   "metadata": {},
   "outputs": [],
   "source": []
  },
  {
   "cell_type": "markdown",
   "id": "a27e3991",
   "metadata": {},
   "source": [
    "### ex. 4.2"
   ]
  },
  {
   "cell_type": "code",
   "execution_count": 9,
   "id": "4563caa2",
   "metadata": {},
   "outputs": [],
   "source": [
    "pi, A, T, k, z, d, x, omega, t, l = symbols('pi, A, T, k, z, d, x, omega, t, l')"
   ]
  },
  {
   "cell_type": "code",
   "execution_count": 10,
   "id": "b8e96c4b",
   "metadata": {},
   "outputs": [],
   "source": [
    "# u and du from Table 3.1"
   ]
  },
  {
   "cell_type": "code",
   "execution_count": 11,
   "id": "b24c78c2",
   "metadata": {},
   "outputs": [],
   "source": [
    "du= 4*pi**2*A/T**2*cosh(k*(z+d))/sinh(k*d)*sin(k*x-omega*t)"
   ]
  },
  {
   "cell_type": "code",
   "execution_count": 12,
   "id": "b92e5a38",
   "metadata": {},
   "outputs": [],
   "source": [
    "u= 2*pi*A/T*cosh(k*(z+d))/sinh(k*d)*cos(k*x-omega*t)"
   ]
  },
  {
   "cell_type": "code",
   "execution_count": 13,
   "id": "9376acec",
   "metadata": {},
   "outputs": [
    {
     "data": {
      "text/latex": [
       "$\\displaystyle \\frac{4 A \\pi^{2} \\sin{\\left(k x - \\omega t \\right)} \\sinh{\\left(k l \\right)}}{T^{2} k \\sinh{\\left(d k \\right)}}$"
      ],
      "text/plain": [
       "4*A*pi**2*sin(k*x - omega*t)*sinh(k*l)/(T**2*k*sinh(d*k))"
      ]
     },
     "execution_count": 13,
     "metadata": {},
     "output_type": "execute_result"
    }
   ],
   "source": [
    "integrate(du, (z, -d, l-d))"
   ]
  },
  {
   "cell_type": "code",
   "execution_count": 14,
   "id": "8e2f6cb5",
   "metadata": {},
   "outputs": [
    {
     "data": {
      "text/latex": [
       "$\\displaystyle \\frac{2 A \\pi \\cos{\\left(k x - \\omega t \\right)} \\sinh{\\left(k l \\right)}}{T k \\sinh{\\left(d k \\right)}}$"
      ],
      "text/plain": [
       "2*A*pi*cos(k*x - omega*t)*sinh(k*l)/(T*k*sinh(d*k))"
      ]
     },
     "execution_count": 14,
     "metadata": {},
     "output_type": "execute_result"
    }
   ],
   "source": [
    "integrate(u, (z, -d, l-d))"
   ]
  },
  {
   "cell_type": "code",
   "execution_count": null,
   "id": "cd564f8b",
   "metadata": {},
   "outputs": [],
   "source": []
  },
  {
   "cell_type": "markdown",
   "id": "aa6b88bb",
   "metadata": {},
   "source": [
    "### ex. 4.3"
   ]
  },
  {
   "cell_type": "code",
   "execution_count": 15,
   "id": "e420b27b",
   "metadata": {},
   "outputs": [],
   "source": [
    "pi, A, T, k, z, d, x, omega, t, l = symbols('pi, A, T, k, z, d, x, omega, t, l0')"
   ]
  },
  {
   "cell_type": "code",
   "execution_count": 16,
   "id": "866d2d61",
   "metadata": {},
   "outputs": [],
   "source": [
    "m0_hat, CM2, rho, D, ddv, c1, dv, EI, v, CM, M = symbols('mhat_0, CM2, rho, D, ddv, c1, dv, EI, v, CM, M')"
   ]
  },
  {
   "cell_type": "code",
   "execution_count": 17,
   "id": "7ad7061b",
   "metadata": {},
   "outputs": [],
   "source": [
    "inti = integrate(du, (z, -d, l-d))"
   ]
  },
  {
   "cell_type": "code",
   "execution_count": 18,
   "id": "8ec523ed",
   "metadata": {},
   "outputs": [
    {
     "data": {
      "text/latex": [
       "$\\displaystyle - \\frac{A CM D^{2} \\pi^{3} \\rho \\sin{\\left(k x - \\omega t \\right)} \\sinh{\\left(k l_{0} \\right)}}{T^{2} k \\sinh{\\left(d k \\right)}} + \\frac{3 EI v}{l_{0}^{3}} + c_{1} dv + ddv \\left(\\frac{CM_{2} D^{2} l_{0} \\pi \\rho}{4} + M + 0.227 l_{0} \\hat{m}_{0}\\right)$"
      ],
      "text/plain": [
       "-A*CM*D**2*pi**3*rho*sin(k*x - omega*t)*sinh(k*l0)/(T**2*k*sinh(d*k)) + 3*EI*v/l0**3 + c1*dv + ddv*(CM2*D**2*l0*pi*rho/4 + M + 0.227*l0*mhat_0)"
      ]
     },
     "execution_count": 18,
     "metadata": {},
     "output_type": "execute_result"
    }
   ],
   "source": [
    "(M+0.227*m0_hat*l+CM2*pi/4*rho*D**2*l)*ddv+c1*dv+3*EI*v/l**3-CM*pi/4*rho*D**2*inti"
   ]
  },
  {
   "cell_type": "code",
   "execution_count": null,
   "id": "59fb5560",
   "metadata": {},
   "outputs": [],
   "source": []
  },
  {
   "cell_type": "markdown",
   "id": "370172f4",
   "metadata": {},
   "source": [
    "### ex. 4.4"
   ]
  },
  {
   "cell_type": "code",
   "execution_count": 19,
   "id": "e265852f",
   "metadata": {},
   "outputs": [],
   "source": [
    "CD=symbols('C_D')"
   ]
  },
  {
   "cell_type": "code",
   "execution_count": 20,
   "id": "bbddd296",
   "metadata": {},
   "outputs": [
    {
     "data": {
      "text/latex": [
       "$\\displaystyle C_{D}$"
      ],
      "text/plain": [
       "C_D"
      ]
     },
     "execution_count": 20,
     "metadata": {},
     "output_type": "execute_result"
    }
   ],
   "source": [
    "CD"
   ]
  },
  {
   "cell_type": "code",
   "execution_count": 21,
   "id": "eb3ba923",
   "metadata": {},
   "outputs": [],
   "source": [
    "drag1=CD*0.5*rho*D*(u-dv)*(u-dv)"
   ]
  },
  {
   "cell_type": "code",
   "execution_count": 22,
   "id": "1f20c54c",
   "metadata": {},
   "outputs": [
    {
     "data": {
      "text/latex": [
       "$\\displaystyle - 0.5 C_{D} D \\rho \\left(\\frac{4 A^{2} \\pi^{2} \\left(\\begin{cases} - \\frac{d}{2} & \\text{for}\\: k \\neq 0 \\\\- d & \\text{otherwise} \\end{cases}\\right) \\cos^{2}{\\left(k x - \\omega t \\right)}}{T^{2} \\sinh^{2}{\\left(d k \\right)}} - \\frac{4 A dv \\pi \\left(\\begin{cases} - d & \\text{for}\\: k = 0 \\\\0 & \\text{otherwise} \\end{cases}\\right) \\cos{\\left(k x - \\omega t \\right)}}{T \\sinh{\\left(d k \\right)}} - d dv^{2}\\right) + 0.5 C_{D} D \\rho \\left(\\frac{4 A^{2} \\pi^{2} \\left(\\begin{cases} - \\frac{\\left(- d + l_{0}\\right) \\sinh^{2}{\\left(d k + k \\left(- d + l_{0}\\right) \\right)}}{2} + \\frac{\\left(- d + l_{0}\\right) \\cosh^{2}{\\left(d k + k \\left(- d + l_{0}\\right) \\right)}}{2} + \\frac{\\sinh{\\left(d k + k \\left(- d + l_{0}\\right) \\right)} \\cosh{\\left(d k + k \\left(- d + l_{0}\\right) \\right)}}{2 k} & \\text{for}\\: k \\neq 0 \\\\- d + l_{0} & \\text{otherwise} \\end{cases}\\right) \\cos^{2}{\\left(k x - \\omega t \\right)}}{T^{2} \\sinh^{2}{\\left(d k \\right)}} - \\frac{4 A dv \\pi \\left(\\begin{cases} - d + l_{0} & \\text{for}\\: k = 0 \\\\\\frac{\\sinh{\\left(d k + k \\left(- d + l_{0}\\right) \\right)}}{k} & \\text{otherwise} \\end{cases}\\right) \\cos{\\left(k x - \\omega t \\right)}}{T \\sinh{\\left(d k \\right)}} + dv^{2} \\left(- d + l_{0}\\right)\\right)$"
      ],
      "text/plain": [
       "-0.5*C_D*D*rho*(4*A**2*pi**2*Piecewise((-d/2, Ne(k, 0)), (-d, True))*cos(k*x - omega*t)**2/(T**2*sinh(d*k)**2) - 4*A*dv*pi*Piecewise((-d, Eq(k, 0)), (0, True))*cos(k*x - omega*t)/(T*sinh(d*k)) - d*dv**2) + 0.5*C_D*D*rho*(4*A**2*pi**2*Piecewise((-(-d + l0)*sinh(d*k + k*(-d + l0))**2/2 + (-d + l0)*cosh(d*k + k*(-d + l0))**2/2 + sinh(d*k + k*(-d + l0))*cosh(d*k + k*(-d + l0))/(2*k), Ne(k, 0)), (-d + l0, True))*cos(k*x - omega*t)**2/(T**2*sinh(d*k)**2) - 4*A*dv*pi*Piecewise((-d + l0, Eq(k, 0)), (sinh(d*k + k*(-d + l0))/k, True))*cos(k*x - omega*t)/(T*sinh(d*k)) + dv**2*(-d + l0))"
      ]
     },
     "execution_count": 22,
     "metadata": {},
     "output_type": "execute_result"
    }
   ],
   "source": [
    "integrate(drag1, (z, -d, l-d))"
   ]
  },
  {
   "cell_type": "code",
   "execution_count": 23,
   "id": "102b5911",
   "metadata": {},
   "outputs": [],
   "source": [
    "drag2=CD*0.5*rho*D*(u-dv)*(dv-u)"
   ]
  },
  {
   "cell_type": "code",
   "execution_count": 24,
   "id": "1ec3221f",
   "metadata": {},
   "outputs": [
    {
     "data": {
      "text/latex": [
       "$\\displaystyle - 0.5 C_{D} D \\rho \\left(- \\frac{4 A^{2} \\pi^{2} \\left(\\begin{cases} - \\frac{d}{2} & \\text{for}\\: k \\neq 0 \\\\- d & \\text{otherwise} \\end{cases}\\right) \\cos^{2}{\\left(k x - \\omega t \\right)}}{T^{2} \\sinh^{2}{\\left(d k \\right)}} + \\frac{4 A dv \\pi \\left(\\begin{cases} - d & \\text{for}\\: k = 0 \\\\0 & \\text{otherwise} \\end{cases}\\right) \\cos{\\left(k x - \\omega t \\right)}}{T \\sinh{\\left(d k \\right)}} + d dv^{2}\\right) + 0.5 C_{D} D \\rho \\left(- \\frac{4 A^{2} \\pi^{2} \\left(\\begin{cases} - \\frac{\\left(- d + l_{0}\\right) \\sinh^{2}{\\left(d k + k \\left(- d + l_{0}\\right) \\right)}}{2} + \\frac{\\left(- d + l_{0}\\right) \\cosh^{2}{\\left(d k + k \\left(- d + l_{0}\\right) \\right)}}{2} + \\frac{\\sinh{\\left(d k + k \\left(- d + l_{0}\\right) \\right)} \\cosh{\\left(d k + k \\left(- d + l_{0}\\right) \\right)}}{2 k} & \\text{for}\\: k \\neq 0 \\\\- d + l_{0} & \\text{otherwise} \\end{cases}\\right) \\cos^{2}{\\left(k x - \\omega t \\right)}}{T^{2} \\sinh^{2}{\\left(d k \\right)}} + \\frac{4 A dv \\pi \\left(\\begin{cases} - d + l_{0} & \\text{for}\\: k = 0 \\\\\\frac{\\sinh{\\left(d k + k \\left(- d + l_{0}\\right) \\right)}}{k} & \\text{otherwise} \\end{cases}\\right) \\cos{\\left(k x - \\omega t \\right)}}{T \\sinh{\\left(d k \\right)}} - dv^{2} \\left(- d + l_{0}\\right)\\right)$"
      ],
      "text/plain": [
       "-0.5*C_D*D*rho*(-4*A**2*pi**2*Piecewise((-d/2, Ne(k, 0)), (-d, True))*cos(k*x - omega*t)**2/(T**2*sinh(d*k)**2) + 4*A*dv*pi*Piecewise((-d, Eq(k, 0)), (0, True))*cos(k*x - omega*t)/(T*sinh(d*k)) + d*dv**2) + 0.5*C_D*D*rho*(-4*A**2*pi**2*Piecewise((-(-d + l0)*sinh(d*k + k*(-d + l0))**2/2 + (-d + l0)*cosh(d*k + k*(-d + l0))**2/2 + sinh(d*k + k*(-d + l0))*cosh(d*k + k*(-d + l0))/(2*k), Ne(k, 0)), (-d + l0, True))*cos(k*x - omega*t)**2/(T**2*sinh(d*k)**2) + 4*A*dv*pi*Piecewise((-d + l0, Eq(k, 0)), (sinh(d*k + k*(-d + l0))/k, True))*cos(k*x - omega*t)/(T*sinh(d*k)) - dv**2*(-d + l0))"
      ]
     },
     "execution_count": 24,
     "metadata": {},
     "output_type": "execute_result"
    }
   ],
   "source": [
    "integrate(drag2, (z, -d, l-d))"
   ]
  },
  {
   "cell_type": "code",
   "execution_count": 25,
   "id": "13fd5fde",
   "metadata": {},
   "outputs": [],
   "source": [
    "# substitute drag in eq. 4.5 as dv term multiplier i.e. (c1+drag)*dv"
   ]
  },
  {
   "cell_type": "code",
   "execution_count": null,
   "id": "618a0e62",
   "metadata": {},
   "outputs": [],
   "source": []
  },
  {
   "cell_type": "markdown",
   "id": "f6f3f4a0",
   "metadata": {},
   "source": [
    "### ex. 4.5"
   ]
  },
  {
   "cell_type": "code",
   "execution_count": 26,
   "id": "a6dcde6a",
   "metadata": {},
   "outputs": [],
   "source": [
    "from sympy import sqrt"
   ]
  },
  {
   "cell_type": "code",
   "execution_count": 27,
   "id": "60a8d19d",
   "metadata": {},
   "outputs": [],
   "source": [
    "sigma=symbols('sigma')"
   ]
  },
  {
   "cell_type": "code",
   "execution_count": 28,
   "id": "8b4891eb",
   "metadata": {},
   "outputs": [
    {
     "data": {
      "text/latex": [
       "$\\displaystyle \\sigma$"
      ],
      "text/plain": [
       "sigma"
      ]
     },
     "execution_count": 28,
     "metadata": {},
     "output_type": "execute_result"
    }
   ],
   "source": [
    "sigma"
   ]
  },
  {
   "cell_type": "code",
   "execution_count": 29,
   "id": "d8889278",
   "metadata": {},
   "outputs": [],
   "source": [
    "inti1 = integrate(u, (z, -d, l-d))"
   ]
  },
  {
   "cell_type": "code",
   "execution_count": 30,
   "id": "783ae039",
   "metadata": {},
   "outputs": [
    {
     "data": {
      "text/latex": [
       "$\\displaystyle - \\frac{A CM D^{2} \\pi^{3} \\rho \\sin{\\left(k x - \\omega t \\right)} \\sinh{\\left(k l_{0} \\right)}}{T^{2} k \\sinh{\\left(d k \\right)}} - \\frac{2 \\sqrt{2} A C_{D} \\pi \\rho \\sigma \\sqrt{\\frac{1}{\\pi}} \\cos{\\left(k x - \\omega t \\right)} \\sinh{\\left(k l_{0} \\right)}}{T k \\sinh{\\left(d k \\right)}} + \\frac{3 EI v}{l_{0}^{3}} + ddv \\left(\\frac{CM_{2} D^{2} l_{0} \\pi \\rho}{4} + M + 0.227 l_{0} \\hat{m}_{0}\\right) + dv \\left(\\sqrt{2} C_{D} D l_{0} \\rho \\sigma \\sqrt{\\frac{1}{\\pi}} + c_{1}\\right)$"
      ],
      "text/plain": [
       "-A*CM*D**2*pi**3*rho*sin(k*x - omega*t)*sinh(k*l0)/(T**2*k*sinh(d*k)) - 2*sqrt(2)*A*C_D*pi*rho*sigma*sqrt(1/pi)*cos(k*x - omega*t)*sinh(k*l0)/(T*k*sinh(d*k)) + 3*EI*v/l0**3 + ddv*(CM2*D**2*l0*pi*rho/4 + M + 0.227*l0*mhat_0) + dv*(sqrt(2)*C_D*D*l0*rho*sigma*sqrt(1/pi) + c1)"
      ]
     },
     "execution_count": 30,
     "metadata": {},
     "output_type": "execute_result"
    }
   ],
   "source": [
    "(M+0.227*m0_hat*l+CM2*pi/4*rho*D**2*l)*ddv+(c1+CD*sqrt(2/pi)*rho*D*l*sigma)*dv+3*EI*v/l**3-CM*pi/4*rho*D**2*inti-CD*sqrt(2/pi)*rho*sigma*inti1"
   ]
  },
  {
   "cell_type": "markdown",
   "id": "96f0163e",
   "metadata": {},
   "source": [
    "if velocity and acceleration are of the same order as those of a simple, incident wave than sigma is small"
   ]
  },
  {
   "cell_type": "markdown",
   "id": "b6c68def",
   "metadata": {},
   "source": [
    "As for numerical solutions we can start with sigma=0, then calcuate v, then recalculate for sigma, then agian solve for v, etc. iteratively"
   ]
  },
  {
   "cell_type": "code",
   "execution_count": null,
   "id": "0d3f83d4",
   "metadata": {},
   "outputs": [],
   "source": []
  },
  {
   "cell_type": "markdown",
   "id": "0a6686b5",
   "metadata": {},
   "source": [
    "### ex. 4.6"
   ]
  },
  {
   "cell_type": "markdown",
   "id": "eb450156",
   "metadata": {},
   "source": [
    "On the right-hand side of eq. 4.5, du is a sum of du like equation of Table 3.1. For example, for x=0 and N=3 and A=const*H and the same T and k:"
   ]
  },
  {
   "cell_type": "code",
   "execution_count": 31,
   "id": "d5d321f3",
   "metadata": {},
   "outputs": [],
   "source": [
    "omega1, epsilon1, H1,const1, omega2, epsilon2, H2,const2, omega3, epsilon3, H3, const3 = symbols('omega1, epsilon1, H1,const1, omega2, epsilon2, H2,const2, omega3, epsilon3, H3, const3')"
   ]
  },
  {
   "cell_type": "code",
   "execution_count": 32,
   "id": "aed14daa",
   "metadata": {},
   "outputs": [],
   "source": [
    "loading = (\n",
    "        -4*pi**2*const1*H1/T**2*cosh(k*(z+d))/sinh(k*d)*sin(omega1*t+epsilon1)\n",
    "        -4*pi**2*const2*H2/T**2*cosh(k*(z+d))/sinh(k*d)*sin(omega2*t+epsilon2)\n",
    "        -4*pi**2*const3*H3/T**2*cosh(k*(z+d))/sinh(k*d)*sin(omega3*t+epsilon3)\n",
    ")"
   ]
  },
  {
   "cell_type": "code",
   "execution_count": 33,
   "id": "975d1290",
   "metadata": {},
   "outputs": [
    {
     "data": {
      "text/latex": [
       "$\\displaystyle - \\frac{4 H_{1} const_{1} \\pi^{2} \\sin{\\left(\\epsilon_{1} + \\omega_{1} t \\right)} \\sinh{\\left(k l_{0} \\right)}}{T^{2} k \\sinh{\\left(d k \\right)}} - \\frac{4 H_{2} const_{2} \\pi^{2} \\sin{\\left(\\epsilon_{2} + \\omega_{2} t \\right)} \\sinh{\\left(k l_{0} \\right)}}{T^{2} k \\sinh{\\left(d k \\right)}} - \\frac{4 H_{3} const_{3} \\pi^{2} \\sin{\\left(\\epsilon_{3} + \\omega_{3} t \\right)} \\sinh{\\left(k l_{0} \\right)}}{T^{2} k \\sinh{\\left(d k \\right)}}$"
      ],
      "text/plain": [
       "-4*H1*const1*pi**2*sin(epsilon1 + omega1*t)*sinh(k*l0)/(T**2*k*sinh(d*k)) - 4*H2*const2*pi**2*sin(epsilon2 + omega2*t)*sinh(k*l0)/(T**2*k*sinh(d*k)) - 4*H3*const3*pi**2*sin(epsilon3 + omega3*t)*sinh(k*l0)/(T**2*k*sinh(d*k))"
      ]
     },
     "execution_count": 33,
     "metadata": {},
     "output_type": "execute_result"
    }
   ],
   "source": [
    "integrate(loading, (z, -d, l-d))"
   ]
  },
  {
   "cell_type": "code",
   "execution_count": null,
   "id": "4b84e434",
   "metadata": {},
   "outputs": [],
   "source": []
  },
  {
   "cell_type": "markdown",
   "id": "ee4ebf80",
   "metadata": {},
   "source": [
    "### ex. 4.7"
   ]
  },
  {
   "cell_type": "code",
   "execution_count": 34,
   "id": "2292e757",
   "metadata": {},
   "outputs": [],
   "source": [
    "import numpy as np"
   ]
  },
  {
   "cell_type": "code",
   "execution_count": 35,
   "id": "ef0eeccf",
   "metadata": {},
   "outputs": [],
   "source": [
    "# from eq. 4.1, if drag is zero, du >> ddv, lambda >> D, we have:"
   ]
  },
  {
   "cell_type": "code",
   "execution_count": 36,
   "id": "0bc01493",
   "metadata": {},
   "outputs": [],
   "source": [
    "q, C_M1, C_M2, pi, rho, D, u_t = symbols('q, C_M1, C_M2, pi, rho, D,u_t')"
   ]
  },
  {
   "cell_type": "code",
   "execution_count": 37,
   "id": "6bfba36f",
   "metadata": {},
   "outputs": [],
   "source": [
    "# q=C_M1*pi/4*rho*D**2*u_t+C_M2*pi/4*rho*D**2*u_t"
   ]
  },
  {
   "cell_type": "code",
   "execution_count": 38,
   "id": "9a686fec",
   "metadata": {},
   "outputs": [],
   "source": [
    "# CM1 = CM2 = 1 for lambda >> D"
   ]
  },
  {
   "cell_type": "code",
   "execution_count": 39,
   "id": "2b54e41a",
   "metadata": {},
   "outputs": [],
   "source": [
    "q = pi/4*rho*D**2*u_t + pi/4*rho*D**2*u_t"
   ]
  },
  {
   "cell_type": "code",
   "execution_count": 40,
   "id": "d68b15d2",
   "metadata": {},
   "outputs": [
    {
     "data": {
      "text/latex": [
       "$\\displaystyle \\frac{D^{2} \\pi \\rho u_{t}}{2}$"
      ],
      "text/plain": [
       "D**2*pi*rho*u_t/2"
      ]
     },
     "execution_count": 40,
     "metadata": {},
     "output_type": "execute_result"
    }
   ],
   "source": [
    "q # for individual leg"
   ]
  },
  {
   "cell_type": "code",
   "execution_count": 41,
   "id": "8975f03f",
   "metadata": {},
   "outputs": [],
   "source": [
    "q_= pi/4*rho*D**2*4*pi**2*A/T**2*cosh(k*(z+d))/sinh(k*d)*sin(k*x-omega*t)"
   ]
  },
  {
   "cell_type": "code",
   "execution_count": 42,
   "id": "be1a6d93",
   "metadata": {},
   "outputs": [
    {
     "data": {
      "text/latex": [
       "$\\displaystyle \\frac{A D^{2} \\pi^{3} \\rho \\sin{\\left(k x - \\omega t \\right)} \\cosh{\\left(k \\left(d + z\\right) \\right)}}{T^{2} \\sinh{\\left(d k \\right)}}$"
      ],
      "text/plain": [
       "A*D**2*pi**3*rho*sin(k*x - omega*t)*cosh(k*(d + z))/(T**2*sinh(d*k))"
      ]
     },
     "execution_count": 42,
     "metadata": {},
     "output_type": "execute_result"
    }
   ],
   "source": [
    "q_"
   ]
  },
  {
   "cell_type": "code",
   "execution_count": 43,
   "id": "9c34672e",
   "metadata": {},
   "outputs": [
    {
     "data": {
      "text/latex": [
       "$\\displaystyle \\frac{A D^{2} \\pi^{3} \\rho \\sin{\\left(k x - \\omega t \\right)} \\sinh{\\left(k l_{0} \\right)}}{T^{2} k \\sinh{\\left(d k \\right)}}$"
      ],
      "text/plain": [
       "A*D**2*pi**3*rho*sin(k*x - omega*t)*sinh(k*l0)/(T**2*k*sinh(d*k))"
      ]
     },
     "execution_count": 43,
     "metadata": {},
     "output_type": "execute_result"
    }
   ],
   "source": [
    "integrate(q_, (z, -d, l-d))"
   ]
  },
  {
   "cell_type": "code",
   "execution_count": null,
   "id": "f82807ef",
   "metadata": {},
   "outputs": [],
   "source": []
  },
  {
   "cell_type": "markdown",
   "id": "d1081fd1",
   "metadata": {},
   "source": [
    "For structure as a whole, we consider that it is a monopod with square cross section of dimensions - l x l"
   ]
  },
  {
   "cell_type": "code",
   "execution_count": 44,
   "id": "0b0f85d2",
   "metadata": {},
   "outputs": [],
   "source": [
    "# for l/lambda << 1:"
   ]
  },
  {
   "cell_type": "code",
   "execution_count": 45,
   "id": "d853103b",
   "metadata": {},
   "outputs": [],
   "source": [
    "# q = D**2*pi*rho*u_t/2\n",
    "# i.e. the same as for individual leg"
   ]
  },
  {
   "cell_type": "code",
   "execution_count": 46,
   "id": "ba7c8fe9",
   "metadata": {},
   "outputs": [],
   "source": [
    "# for l/lambda = 0.5"
   ]
  },
  {
   "cell_type": "code",
   "execution_count": 47,
   "id": "a46490a5",
   "metadata": {},
   "outputs": [],
   "source": [
    "CM1 = 1 - 0.12*np.pi*0.5"
   ]
  },
  {
   "cell_type": "code",
   "execution_count": 48,
   "id": "b9632c39",
   "metadata": {},
   "outputs": [
    {
     "data": {
      "text/plain": [
       "0.8115044407846124"
      ]
     },
     "execution_count": 48,
     "metadata": {},
     "output_type": "execute_result"
    }
   ],
   "source": [
    "CM1"
   ]
  },
  {
   "cell_type": "code",
   "execution_count": 49,
   "id": "3e62b8bf",
   "metadata": {},
   "outputs": [
    {
     "data": {
      "text/plain": [
       "1.5707963267948966"
      ]
     },
     "execution_count": 49,
     "metadata": {},
     "output_type": "execute_result"
    }
   ],
   "source": [
    "np.pi*0.5"
   ]
  },
  {
   "cell_type": "code",
   "execution_count": 50,
   "id": "521b558f",
   "metadata": {},
   "outputs": [],
   "source": [
    "CM2 = 1.54 - 1.08*np.pi*0.5"
   ]
  },
  {
   "cell_type": "code",
   "execution_count": 51,
   "id": "8e2a96bf",
   "metadata": {},
   "outputs": [
    {
     "data": {
      "text/plain": [
       "-0.15646003293848842"
      ]
     },
     "execution_count": 51,
     "metadata": {},
     "output_type": "execute_result"
    }
   ],
   "source": [
    "CM2 "
   ]
  },
  {
   "cell_type": "code",
   "execution_count": 52,
   "id": "b7544751",
   "metadata": {},
   "outputs": [
    {
     "data": {
      "text/plain": [
       "0.6550444078461239"
      ]
     },
     "execution_count": 52,
     "metadata": {},
     "output_type": "execute_result"
    }
   ],
   "source": [
    "CM1+CM2"
   ]
  },
  {
   "cell_type": "code",
   "execution_count": 53,
   "id": "cc63754e",
   "metadata": {},
   "outputs": [],
   "source": [
    "# for l/lambda = 1"
   ]
  },
  {
   "cell_type": "code",
   "execution_count": 54,
   "id": "4661dfcf",
   "metadata": {},
   "outputs": [],
   "source": [
    "CM1_ = 1 - 0.12*np.pi"
   ]
  },
  {
   "cell_type": "code",
   "execution_count": 55,
   "id": "449cad2a",
   "metadata": {},
   "outputs": [
    {
     "data": {
      "text/plain": [
       "0.6230088815692248"
      ]
     },
     "execution_count": 55,
     "metadata": {},
     "output_type": "execute_result"
    }
   ],
   "source": [
    "CM1_"
   ]
  },
  {
   "cell_type": "code",
   "execution_count": 56,
   "id": "8ec657ba",
   "metadata": {},
   "outputs": [],
   "source": [
    "CM2_ = 1.54 - 1.08*np.pi"
   ]
  },
  {
   "cell_type": "code",
   "execution_count": 57,
   "id": "93217a3f",
   "metadata": {},
   "outputs": [
    {
     "data": {
      "text/plain": [
       "-1.8529200658769769"
      ]
     },
     "execution_count": 57,
     "metadata": {},
     "output_type": "execute_result"
    }
   ],
   "source": [
    "CM2_"
   ]
  },
  {
   "cell_type": "code",
   "execution_count": 58,
   "id": "e1b202d5",
   "metadata": {},
   "outputs": [
    {
     "data": {
      "text/plain": [
       "-1.2299111843077521"
      ]
     },
     "execution_count": 58,
     "metadata": {},
     "output_type": "execute_result"
    }
   ],
   "source": [
    "CM1_ + CM2_  # |=> structure do not experience much loading for l/lambda = 1"
   ]
  },
  {
   "cell_type": "code",
   "execution_count": null,
   "id": "792c68d1",
   "metadata": {},
   "outputs": [],
   "source": []
  },
  {
   "cell_type": "markdown",
   "id": "aa94eaf0",
   "metadata": {},
   "source": [
    "### ex. 4.8"
   ]
  },
  {
   "cell_type": "markdown",
   "id": "dadab925",
   "metadata": {},
   "source": [
    "For example in the paper: 'Investigation of linear wave action around a truncated cylinder with non-circular cross section'.\n",
    "\n",
    "This paper presents an analytical model to solve the linear wave diffraction problem using a truncated cylinder with an arbitrary smooth cross section. Using the method of separation of variables, the boundary condition equations for the surface of a truncated cylinder are derived. Based on the condition that the radius function of a cylinder surface can be expanded into a Fourier series, the unknown coefficients of the diffraction potential can be obtained from a linear system equation. The surface elevation and wave force are calculated and analyzed in terms of the total velocity potential for different cases. The truncated error introduced in the solving process is discussed. Then, the accuracy of this method is verified by comparison with the results of the boundary element method. Finally, this method is further extended to a practical engineering application with a quasi-ellipse caisson for different drafts and exposures."
   ]
  },
  {
   "cell_type": "code",
   "execution_count": null,
   "id": "c25abc0a",
   "metadata": {},
   "outputs": [],
   "source": []
  },
  {
   "cell_type": "markdown",
   "id": "74e38521",
   "metadata": {},
   "source": [
    "### ex. 4.9"
   ]
  },
  {
   "cell_type": "code",
   "execution_count": 59,
   "id": "6e5fe97e",
   "metadata": {},
   "outputs": [],
   "source": [
    "# omega_squared = g*k*tanh(kd)"
   ]
  },
  {
   "cell_type": "code",
   "execution_count": 60,
   "id": "78491b71",
   "metadata": {},
   "outputs": [],
   "source": [
    "# for deep water d/lambda > 0.5 |=> tanh(kd)=tanh(2*Pi*d/lambda)~1 |=> omega_squared =g*k"
   ]
  },
  {
   "cell_type": "code",
   "execution_count": 61,
   "id": "ab138564",
   "metadata": {},
   "outputs": [],
   "source": [
    "# k=2*Pi/lambda=omega_squared/g |=>Pi/lambda =omega_squared/(2*g) |=> \n",
    "\n",
    "# in eq. 4.11,\n",
    "# Ch=1+0.75*(h/D)**(1/3)*[1-0.3*(omega**2/(2*g)*D)**2]\n",
    "\n",
    "# in eq. 4.13 \n",
    "# C0=1.9-0.35*(omega**2/(2*g)*D)"
   ]
  },
  {
   "cell_type": "code",
   "execution_count": null,
   "id": "8ebf1d2d",
   "metadata": {},
   "outputs": [],
   "source": []
  },
  {
   "cell_type": "markdown",
   "id": "3d191001",
   "metadata": {},
   "source": [
    "### ex. 4.10"
   ]
  },
  {
   "cell_type": "markdown",
   "id": "2ca1af7b",
   "metadata": {},
   "source": [
    "To calculate wave diffraction loads on a rigid, right circular conical monopod leg of an ice-resistant offshore platform, you can use both analytical and numerical methods. Here are some approaches based on classical references and recent literature:\n",
    "\n",
    "Analytical Methods\n",
    "1. Hogben (1976): Hogben's work on wave loads on offshore structures provides foundational methods for calculating wave forces. His approach involves linear wave theory and diffraction theory to estimate wave loads on various offshore structures.\n",
    "2. Linear Wave Diffraction Theory: This classical method involves solving the boundary value problem for wave diffraction around a conical structure. The potential flow theory is used to derive the diffraction coefficients, which can then be used to calculate the wave loads.\n",
    "\n",
    "Numerical Methods\n",
    "1. Boundary Element Method (BEM): This method involves discretizing the boundary of the structure into elements and solving the integral equations for wave diffraction. BEM is particularly effective for complex geometries like conical monopods.\n",
    "2. Finite Element Method (FEM): FEM can be used to solve the wave diffraction problem by discretizing the entire fluid domain. This method is highly accurate and can handle complex boundary conditions and geometries.\n",
    "3. Computational Fluid Dynamics (CFD): CFD simulations can model the interaction between waves and the conical monopod leg. This method provides detailed insights into the flow patterns and pressure distribution around the structure.\n",
    "\n"
   ]
  },
  {
   "cell_type": "code",
   "execution_count": null,
   "id": "9d29e0c4",
   "metadata": {},
   "outputs": [],
   "source": []
  }
 ],
 "metadata": {
  "kernelspec": {
   "display_name": "Python 3 (ipykernel)",
   "language": "python",
   "name": "python3"
  },
  "language_info": {
   "codemirror_mode": {
    "name": "ipython",
    "version": 3
   },
   "file_extension": ".py",
   "mimetype": "text/x-python",
   "name": "python",
   "nbconvert_exporter": "python",
   "pygments_lexer": "ipython3",
   "version": "3.9.6"
  }
 },
 "nbformat": 4,
 "nbformat_minor": 5
}
