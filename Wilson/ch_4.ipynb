{
 "cells": [
  {
   "cell_type": "code",
   "execution_count": 1,
   "id": "3910a242",
   "metadata": {},
   "outputs": [],
   "source": [
    "# Not validated solutions"
   ]
  },
  {
   "cell_type": "markdown",
   "id": "a225d436",
   "metadata": {},
   "source": [
    "### ex. 4.1"
   ]
  },
  {
   "cell_type": "code",
   "execution_count": 2,
   "id": "260ce204",
   "metadata": {},
   "outputs": [],
   "source": [
    "from sympy import symbols, integrate, cosh, sinh, sin, cos, Abs"
   ]
  },
  {
   "cell_type": "code",
   "execution_count": 3,
   "id": "91699dfa",
   "metadata": {},
   "outputs": [],
   "source": [
    "# v is independent of z"
   ]
  },
  {
   "cell_type": "code",
   "execution_count": 4,
   "id": "12409e74",
   "metadata": {},
   "outputs": [],
   "source": [
    "# du from Table 3.1"
   ]
  },
  {
   "cell_type": "code",
   "execution_count": 5,
   "id": "d0c3e0ca",
   "metadata": {},
   "outputs": [],
   "source": [
    "pi, A, T, k, z, d, x, omega, t, l =symbols ('pi, A, T, k, z, d, x, omega, t, l')"
   ]
  },
  {
   "cell_type": "code",
   "execution_count": 6,
   "id": "02c76229",
   "metadata": {},
   "outputs": [],
   "source": [
    "du= 4*pi**2*A/T**2*cosh(k*(z+d))/sinh(k*d)*sin(k*x-omega*t)"
   ]
  },
  {
   "cell_type": "code",
   "execution_count": 7,
   "id": "94d3cac7",
   "metadata": {},
   "outputs": [
    {
     "data": {
      "text/latex": [
       "$\\displaystyle \\frac{4 A \\pi^{2} \\sin{\\left(k x - \\omega t \\right)} \\cosh{\\left(k \\left(d + z\\right) \\right)}}{T^{2} \\sinh{\\left(d k \\right)}}$"
      ],
      "text/plain": [
       "4*A*pi**2*sin(k*x - omega*t)*cosh(k*(d + z))/(T**2*sinh(d*k))"
      ]
     },
     "execution_count": 7,
     "metadata": {},
     "output_type": "execute_result"
    }
   ],
   "source": [
    "du"
   ]
  },
  {
   "cell_type": "code",
   "execution_count": 8,
   "id": "7c21b5c0",
   "metadata": {},
   "outputs": [
    {
     "data": {
      "text/latex": [
       "$\\displaystyle \\frac{4 A \\pi^{2} \\sin{\\left(k x - \\omega t \\right)} \\sinh{\\left(k l \\right)}}{T^{2} k \\sinh{\\left(d k \\right)}}$"
      ],
      "text/plain": [
       "4*A*pi**2*sin(k*x - omega*t)*sinh(k*l)/(T**2*k*sinh(d*k))"
      ]
     },
     "execution_count": 8,
     "metadata": {},
     "output_type": "execute_result"
    }
   ],
   "source": [
    "integrate(du, (z, -d, l-d))"
   ]
  },
  {
   "cell_type": "code",
   "execution_count": null,
   "id": "c02be793",
   "metadata": {},
   "outputs": [],
   "source": []
  },
  {
   "cell_type": "markdown",
   "id": "a27e3991",
   "metadata": {},
   "source": [
    "### ex. 4.2"
   ]
  },
  {
   "cell_type": "code",
   "execution_count": 9,
   "id": "4563caa2",
   "metadata": {},
   "outputs": [],
   "source": [
    "pi, A, T, k, z, d, x, omega, t, l = symbols('pi, A, T, k, z, d, x, omega, t, l')"
   ]
  },
  {
   "cell_type": "code",
   "execution_count": 10,
   "id": "b8e96c4b",
   "metadata": {},
   "outputs": [],
   "source": [
    "# u and du from Table 3.1"
   ]
  },
  {
   "cell_type": "code",
   "execution_count": 11,
   "id": "b24c78c2",
   "metadata": {},
   "outputs": [],
   "source": [
    "du= 4*pi**2*A/T**2*cosh(k*(z+d))/sinh(k*d)*sin(k*x-omega*t)"
   ]
  },
  {
   "cell_type": "code",
   "execution_count": 12,
   "id": "b92e5a38",
   "metadata": {},
   "outputs": [],
   "source": [
    "u= 2*pi*A/T*cosh(k*(z+d))/sinh(k*d)*cos(k*x-omega*t)"
   ]
  },
  {
   "cell_type": "code",
   "execution_count": 13,
   "id": "9376acec",
   "metadata": {},
   "outputs": [
    {
     "data": {
      "text/latex": [
       "$\\displaystyle \\frac{4 A \\pi^{2} \\sin{\\left(k x - \\omega t \\right)} \\sinh{\\left(k l \\right)}}{T^{2} k \\sinh{\\left(d k \\right)}}$"
      ],
      "text/plain": [
       "4*A*pi**2*sin(k*x - omega*t)*sinh(k*l)/(T**2*k*sinh(d*k))"
      ]
     },
     "execution_count": 13,
     "metadata": {},
     "output_type": "execute_result"
    }
   ],
   "source": [
    "integrate(du, (z, -d, l-d))"
   ]
  },
  {
   "cell_type": "code",
   "execution_count": 14,
   "id": "8e2f6cb5",
   "metadata": {},
   "outputs": [
    {
     "data": {
      "text/latex": [
       "$\\displaystyle \\frac{2 A \\pi \\cos{\\left(k x - \\omega t \\right)} \\sinh{\\left(k l \\right)}}{T k \\sinh{\\left(d k \\right)}}$"
      ],
      "text/plain": [
       "2*A*pi*cos(k*x - omega*t)*sinh(k*l)/(T*k*sinh(d*k))"
      ]
     },
     "execution_count": 14,
     "metadata": {},
     "output_type": "execute_result"
    }
   ],
   "source": [
    "integrate(u, (z, -d, l-d))"
   ]
  },
  {
   "cell_type": "code",
   "execution_count": null,
   "id": "cd564f8b",
   "metadata": {},
   "outputs": [],
   "source": []
  },
  {
   "cell_type": "markdown",
   "id": "aa6b88bb",
   "metadata": {},
   "source": [
    "### ex. 4.3"
   ]
  },
  {
   "cell_type": "code",
   "execution_count": 15,
   "id": "e420b27b",
   "metadata": {},
   "outputs": [],
   "source": [
    "pi, A, T, k, z, d, x, omega, t, l = symbols('pi, A, T, k, z, d, x, omega, t, l0')"
   ]
  },
  {
   "cell_type": "code",
   "execution_count": 16,
   "id": "866d2d61",
   "metadata": {},
   "outputs": [],
   "source": [
    "m0_hat, CM2, rho, D, ddv, c1, dv, EI, v, CM, M = symbols('mhat_0, CM2, rho, D, ddv, c1, dv, EI, v, CM, M')"
   ]
  },
  {
   "cell_type": "code",
   "execution_count": 17,
   "id": "7ad7061b",
   "metadata": {},
   "outputs": [],
   "source": [
    "inti = integrate(du, (z, -d, l-d))"
   ]
  },
  {
   "cell_type": "code",
   "execution_count": 18,
   "id": "8ec523ed",
   "metadata": {},
   "outputs": [
    {
     "data": {
      "text/latex": [
       "$\\displaystyle - \\frac{A CM D^{2} \\pi^{3} \\rho \\sin{\\left(k x - \\omega t \\right)} \\sinh{\\left(k l_{0} \\right)}}{T^{2} k \\sinh{\\left(d k \\right)}} + \\frac{3 EI v}{l_{0}^{3}} + c_{1} dv + ddv \\left(\\frac{CM_{2} D^{2} l_{0} \\pi \\rho}{4} + M + 0.227 l_{0} \\hat{m}_{0}\\right)$"
      ],
      "text/plain": [
       "-A*CM*D**2*pi**3*rho*sin(k*x - omega*t)*sinh(k*l0)/(T**2*k*sinh(d*k)) + 3*EI*v/l0**3 + c1*dv + ddv*(CM2*D**2*l0*pi*rho/4 + M + 0.227*l0*mhat_0)"
      ]
     },
     "execution_count": 18,
     "metadata": {},
     "output_type": "execute_result"
    }
   ],
   "source": [
    "(M+0.227*m0_hat*l+CM2*pi/4*rho*D**2*l)*ddv+c1*dv+3*EI*v/l**3-CM*pi/4*rho*D**2*inti"
   ]
  },
  {
   "cell_type": "code",
   "execution_count": null,
   "id": "59fb5560",
   "metadata": {},
   "outputs": [],
   "source": []
  },
  {
   "cell_type": "markdown",
   "id": "370172f4",
   "metadata": {},
   "source": [
    "### ex. 4.4|"
   ]
  },
  {
   "cell_type": "code",
   "execution_count": 19,
   "id": "e265852f",
   "metadata": {},
   "outputs": [],
   "source": [
    "CD=symbols('C_D')"
   ]
  },
  {
   "cell_type": "code",
   "execution_count": 20,
   "id": "bbddd296",
   "metadata": {},
   "outputs": [
    {
     "data": {
      "text/latex": [
       "$\\displaystyle C_{D}$"
      ],
      "text/plain": [
       "C_D"
      ]
     },
     "execution_count": 20,
     "metadata": {},
     "output_type": "execute_result"
    }
   ],
   "source": [
    "CD"
   ]
  },
  {
   "cell_type": "code",
   "execution_count": 21,
   "id": "eb3ba923",
   "metadata": {},
   "outputs": [],
   "source": [
    "drag1=CD*0.5*rho*D*(u-dv)*(u-dv)"
   ]
  },
  {
   "cell_type": "code",
   "execution_count": 22,
   "id": "1f20c54c",
   "metadata": {},
   "outputs": [
    {
     "data": {
      "text/latex": [
       "$\\displaystyle - 0.5 C_{D} D \\rho \\left(\\frac{4 A^{2} \\pi^{2} \\left(\\begin{cases} - \\frac{d}{2} & \\text{for}\\: k \\neq 0 \\\\- d & \\text{otherwise} \\end{cases}\\right) \\cos^{2}{\\left(k x - \\omega t \\right)}}{T^{2} \\sinh^{2}{\\left(d k \\right)}} - \\frac{4 A dv \\pi \\left(\\begin{cases} - d & \\text{for}\\: k = 0 \\\\0 & \\text{otherwise} \\end{cases}\\right) \\cos{\\left(k x - \\omega t \\right)}}{T \\sinh{\\left(d k \\right)}} - d dv^{2}\\right) + 0.5 C_{D} D \\rho \\left(\\frac{4 A^{2} \\pi^{2} \\left(\\begin{cases} - \\frac{\\left(- d + l_{0}\\right) \\sinh^{2}{\\left(d k + k \\left(- d + l_{0}\\right) \\right)}}{2} + \\frac{\\left(- d + l_{0}\\right) \\cosh^{2}{\\left(d k + k \\left(- d + l_{0}\\right) \\right)}}{2} + \\frac{\\sinh{\\left(d k + k \\left(- d + l_{0}\\right) \\right)} \\cosh{\\left(d k + k \\left(- d + l_{0}\\right) \\right)}}{2 k} & \\text{for}\\: k \\neq 0 \\\\- d + l_{0} & \\text{otherwise} \\end{cases}\\right) \\cos^{2}{\\left(k x - \\omega t \\right)}}{T^{2} \\sinh^{2}{\\left(d k \\right)}} - \\frac{4 A dv \\pi \\left(\\begin{cases} - d + l_{0} & \\text{for}\\: k = 0 \\\\\\frac{\\sinh{\\left(d k + k \\left(- d + l_{0}\\right) \\right)}}{k} & \\text{otherwise} \\end{cases}\\right) \\cos{\\left(k x - \\omega t \\right)}}{T \\sinh{\\left(d k \\right)}} + dv^{2} \\left(- d + l_{0}\\right)\\right)$"
      ],
      "text/plain": [
       "-0.5*C_D*D*rho*(4*A**2*pi**2*Piecewise((-d/2, Ne(k, 0)), (-d, True))*cos(k*x - omega*t)**2/(T**2*sinh(d*k)**2) - 4*A*dv*pi*Piecewise((-d, Eq(k, 0)), (0, True))*cos(k*x - omega*t)/(T*sinh(d*k)) - d*dv**2) + 0.5*C_D*D*rho*(4*A**2*pi**2*Piecewise((-(-d + l0)*sinh(d*k + k*(-d + l0))**2/2 + (-d + l0)*cosh(d*k + k*(-d + l0))**2/2 + sinh(d*k + k*(-d + l0))*cosh(d*k + k*(-d + l0))/(2*k), Ne(k, 0)), (-d + l0, True))*cos(k*x - omega*t)**2/(T**2*sinh(d*k)**2) - 4*A*dv*pi*Piecewise((-d + l0, Eq(k, 0)), (sinh(d*k + k*(-d + l0))/k, True))*cos(k*x - omega*t)/(T*sinh(d*k)) + dv**2*(-d + l0))"
      ]
     },
     "execution_count": 22,
     "metadata": {},
     "output_type": "execute_result"
    }
   ],
   "source": [
    "integrate(drag1, (z, -d, l-d))"
   ]
  },
  {
   "cell_type": "code",
   "execution_count": 23,
   "id": "102b5911",
   "metadata": {},
   "outputs": [],
   "source": [
    "drag2=CD*0.5*rho*D*(u-dv)*(dv-u)"
   ]
  },
  {
   "cell_type": "code",
   "execution_count": 24,
   "id": "1ec3221f",
   "metadata": {},
   "outputs": [
    {
     "data": {
      "text/latex": [
       "$\\displaystyle - 0.5 C_{D} D \\rho \\left(- \\frac{4 A^{2} \\pi^{2} \\left(\\begin{cases} - \\frac{d}{2} & \\text{for}\\: k \\neq 0 \\\\- d & \\text{otherwise} \\end{cases}\\right) \\cos^{2}{\\left(k x - \\omega t \\right)}}{T^{2} \\sinh^{2}{\\left(d k \\right)}} + \\frac{4 A dv \\pi \\left(\\begin{cases} - d & \\text{for}\\: k = 0 \\\\0 & \\text{otherwise} \\end{cases}\\right) \\cos{\\left(k x - \\omega t \\right)}}{T \\sinh{\\left(d k \\right)}} + d dv^{2}\\right) + 0.5 C_{D} D \\rho \\left(- \\frac{4 A^{2} \\pi^{2} \\left(\\begin{cases} - \\frac{\\left(- d + l_{0}\\right) \\sinh^{2}{\\left(d k + k \\left(- d + l_{0}\\right) \\right)}}{2} + \\frac{\\left(- d + l_{0}\\right) \\cosh^{2}{\\left(d k + k \\left(- d + l_{0}\\right) \\right)}}{2} + \\frac{\\sinh{\\left(d k + k \\left(- d + l_{0}\\right) \\right)} \\cosh{\\left(d k + k \\left(- d + l_{0}\\right) \\right)}}{2 k} & \\text{for}\\: k \\neq 0 \\\\- d + l_{0} & \\text{otherwise} \\end{cases}\\right) \\cos^{2}{\\left(k x - \\omega t \\right)}}{T^{2} \\sinh^{2}{\\left(d k \\right)}} + \\frac{4 A dv \\pi \\left(\\begin{cases} - d + l_{0} & \\text{for}\\: k = 0 \\\\\\frac{\\sinh{\\left(d k + k \\left(- d + l_{0}\\right) \\right)}}{k} & \\text{otherwise} \\end{cases}\\right) \\cos{\\left(k x - \\omega t \\right)}}{T \\sinh{\\left(d k \\right)}} - dv^{2} \\left(- d + l_{0}\\right)\\right)$"
      ],
      "text/plain": [
       "-0.5*C_D*D*rho*(-4*A**2*pi**2*Piecewise((-d/2, Ne(k, 0)), (-d, True))*cos(k*x - omega*t)**2/(T**2*sinh(d*k)**2) + 4*A*dv*pi*Piecewise((-d, Eq(k, 0)), (0, True))*cos(k*x - omega*t)/(T*sinh(d*k)) + d*dv**2) + 0.5*C_D*D*rho*(-4*A**2*pi**2*Piecewise((-(-d + l0)*sinh(d*k + k*(-d + l0))**2/2 + (-d + l0)*cosh(d*k + k*(-d + l0))**2/2 + sinh(d*k + k*(-d + l0))*cosh(d*k + k*(-d + l0))/(2*k), Ne(k, 0)), (-d + l0, True))*cos(k*x - omega*t)**2/(T**2*sinh(d*k)**2) + 4*A*dv*pi*Piecewise((-d + l0, Eq(k, 0)), (sinh(d*k + k*(-d + l0))/k, True))*cos(k*x - omega*t)/(T*sinh(d*k)) - dv**2*(-d + l0))"
      ]
     },
     "execution_count": 24,
     "metadata": {},
     "output_type": "execute_result"
    }
   ],
   "source": [
    "integrate(drag2, (z, -d, l-d))"
   ]
  }
 ],
 "metadata": {
  "kernelspec": {
   "display_name": "Python 3 (ipykernel)",
   "language": "python",
   "name": "python3"
  },
  "language_info": {
   "codemirror_mode": {
    "name": "ipython",
    "version": 3
   },
   "file_extension": ".py",
   "mimetype": "text/x-python",
   "name": "python",
   "nbconvert_exporter": "python",
   "pygments_lexer": "ipython3",
   "version": "3.9.6"
  }
 },
 "nbformat": 4,
 "nbformat_minor": 5
}
