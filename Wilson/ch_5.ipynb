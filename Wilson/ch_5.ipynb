{
 "cells": [
  {
   "cell_type": "code",
   "execution_count": 1,
   "id": "ea8cf690",
   "metadata": {},
   "outputs": [],
   "source": [
    "# Not validated solutions"
   ]
  },
  {
   "cell_type": "markdown",
   "id": "f36571a1",
   "metadata": {},
   "source": [
    "### ex. 5.1"
   ]
  },
  {
   "cell_type": "code",
   "execution_count": 2,
   "id": "44b9d69f",
   "metadata": {},
   "outputs": [],
   "source": [
    "import numpy as np"
   ]
  },
  {
   "cell_type": "code",
   "execution_count": 3,
   "id": "34ed7bcb",
   "metadata": {},
   "outputs": [],
   "source": [
    "D=2.5\n",
    "m=2000\n",
    "rho_w=64\n",
    "# no friction of water \n",
    "CM=0\n",
    "# v - displacement\n",
    "# restoring force dW equals weight of the water displaced by the motion v"
   ]
  },
  {
   "cell_type": "code",
   "execution_count": 4,
   "id": "6bf0ee58",
   "metadata": {},
   "outputs": [],
   "source": [
    "# dW=pi*(D/2)**2*v*rho_w"
   ]
  },
  {
   "cell_type": "code",
   "execution_count": 5,
   "id": "529030e8",
   "metadata": {},
   "outputs": [],
   "source": [
    "# equation of motion \n",
    "# mg-(mg-dW)=m*ddv\n",
    "# 2000-(2000-pi*(D/2)**2*v*rho_w)=2000*ddv\n",
    "# 2000*ddv+pi*(D/2)**2*rho_w*v=0"
   ]
  },
  {
   "cell_type": "code",
   "execution_count": 6,
   "id": "c4083769",
   "metadata": {},
   "outputs": [],
   "source": [
    "omega = np.sqrt(np.pi*(D/2)**2*rho_w/2000)"
   ]
  },
  {
   "cell_type": "code",
   "execution_count": 7,
   "id": "61e919f5",
   "metadata": {},
   "outputs": [
    {
     "data": {
      "text/plain": [
       "0.3963327297606011"
      ]
     },
     "execution_count": 7,
     "metadata": {},
     "output_type": "execute_result"
    }
   ],
   "source": [
    "omega"
   ]
  },
  {
   "cell_type": "code",
   "execution_count": 8,
   "id": "80722b12",
   "metadata": {},
   "outputs": [],
   "source": [
    "T=2*np.pi/omega"
   ]
  },
  {
   "cell_type": "code",
   "execution_count": 9,
   "id": "1df0c434",
   "metadata": {},
   "outputs": [
    {
     "data": {
      "text/plain": [
       "15.853309190424044"
      ]
     },
     "execution_count": 9,
     "metadata": {},
     "output_type": "execute_result"
    }
   ],
   "source": [
    "T"
   ]
  },
  {
   "cell_type": "code",
   "execution_count": null,
   "id": "3d7bd340",
   "metadata": {},
   "outputs": [],
   "source": []
  },
  {
   "cell_type": "markdown",
   "id": "674b7409",
   "metadata": {},
   "source": [
    "### ex. 5.2"
   ]
  },
  {
   "cell_type": "code",
   "execution_count": null,
   "id": "ffd329c0",
   "metadata": {},
   "outputs": [],
   "source": []
  }
 ],
 "metadata": {
  "kernelspec": {
   "display_name": "Python 3 (ipykernel)",
   "language": "python",
   "name": "python3"
  },
  "language_info": {
   "codemirror_mode": {
    "name": "ipython",
    "version": 3
   },
   "file_extension": ".py",
   "mimetype": "text/x-python",
   "name": "python",
   "nbconvert_exporter": "python",
   "pygments_lexer": "ipython3",
   "version": "3.9.6"
  }
 },
 "nbformat": 4,
 "nbformat_minor": 5
}
