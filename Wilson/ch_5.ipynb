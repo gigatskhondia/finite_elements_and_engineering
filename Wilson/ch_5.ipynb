{
 "cells": [
  {
   "cell_type": "code",
   "execution_count": 1,
   "id": "ea8cf690",
   "metadata": {},
   "outputs": [],
   "source": [
    "# Not validated solutions"
   ]
  },
  {
   "cell_type": "markdown",
   "id": "f36571a1",
   "metadata": {},
   "source": [
    "### ex. 5.1"
   ]
  },
  {
   "cell_type": "code",
   "execution_count": 2,
   "id": "44b9d69f",
   "metadata": {},
   "outputs": [],
   "source": [
    "import numpy as np"
   ]
  },
  {
   "cell_type": "code",
   "execution_count": 3,
   "id": "34ed7bcb",
   "metadata": {},
   "outputs": [],
   "source": [
    "D = 2.5\n",
    "m = 2000\n",
    "rho_w = 64\n",
    "# no friction of water \n",
    "CM = 0\n",
    "g = 9.81*3.28084\n",
    "# v - displacement\n",
    "# restoring force dW equals weight of the water displaced by the motion v"
   ]
  },
  {
   "cell_type": "code",
   "execution_count": 4,
   "id": "6bf0ee58",
   "metadata": {},
   "outputs": [],
   "source": [
    "# dW=pi*(D/2)**2*v*rho_w"
   ]
  },
  {
   "cell_type": "code",
   "execution_count": 5,
   "id": "529030e8",
   "metadata": {},
   "outputs": [],
   "source": [
    "# equation of motion \n",
    "# mg-(mg+dW)=m*ddv\n",
    "# 2000*g-(2000*g+pi*(D/2)**2*v*rho_w)=2000*ddv\n",
    "# 2000*ddv+pi*(D/2)**2*rho_w*v=0"
   ]
  },
  {
   "cell_type": "code",
   "execution_count": 6,
   "id": "c4083769",
   "metadata": {},
   "outputs": [],
   "source": [
    "omega = np.sqrt(np.pi*(D/2)**2*rho_w/2000)"
   ]
  },
  {
   "cell_type": "code",
   "execution_count": 7,
   "id": "61e919f5",
   "metadata": {},
   "outputs": [
    {
     "data": {
      "text/plain": [
       "0.3963327297606011"
      ]
     },
     "execution_count": 7,
     "metadata": {},
     "output_type": "execute_result"
    }
   ],
   "source": [
    "omega"
   ]
  },
  {
   "cell_type": "code",
   "execution_count": 8,
   "id": "80722b12",
   "metadata": {},
   "outputs": [],
   "source": [
    "T = 2*np.pi/omega"
   ]
  },
  {
   "cell_type": "code",
   "execution_count": 9,
   "id": "1df0c434",
   "metadata": {},
   "outputs": [
    {
     "data": {
      "text/plain": [
       "15.853309190424044"
      ]
     },
     "execution_count": 9,
     "metadata": {},
     "output_type": "execute_result"
    }
   ],
   "source": [
    "T"
   ]
  },
  {
   "cell_type": "code",
   "execution_count": null,
   "id": "3d7bd340",
   "metadata": {},
   "outputs": [],
   "source": []
  },
  {
   "cell_type": "markdown",
   "id": "674b7409",
   "metadata": {},
   "source": [
    "### ex. 5.2"
   ]
  },
  {
   "cell_type": "code",
   "execution_count": 10,
   "id": "ffd329c0",
   "metadata": {},
   "outputs": [],
   "source": [
    "R = 3.5\n",
    "h = 1.75\n",
    "T = 2\n",
    "g = 9.81*3.28084\n",
    "rho_w = 64"
   ]
  },
  {
   "cell_type": "code",
   "execution_count": 11,
   "id": "25aa2a9b",
   "metadata": {},
   "outputs": [],
   "source": [
    "m = 2*np.pi*R**3*rho_w/(3*g)"
   ]
  },
  {
   "cell_type": "code",
   "execution_count": 12,
   "id": "b6dbda9a",
   "metadata": {},
   "outputs": [
    {
     "data": {
      "text/plain": [
       "178.56184393563566"
      ]
     },
     "execution_count": 12,
     "metadata": {},
     "output_type": "execute_result"
    }
   ],
   "source": [
    "m"
   ]
  },
  {
   "cell_type": "code",
   "execution_count": 13,
   "id": "b5df1b13",
   "metadata": {},
   "outputs": [],
   "source": [
    "# J0*ddtheta+m*g*h*theta=0"
   ]
  },
  {
   "cell_type": "code",
   "execution_count": 14,
   "id": "e8e092f1",
   "metadata": {},
   "outputs": [],
   "source": [
    "# omega = np.sqrt(m*g*h/J0) |=> omega**2=m*g*h/J0"
   ]
  },
  {
   "cell_type": "code",
   "execution_count": 15,
   "id": "a62591e2",
   "metadata": {},
   "outputs": [],
   "source": [
    "omega = 2*np.pi/T"
   ]
  },
  {
   "cell_type": "code",
   "execution_count": 16,
   "id": "d7c6ab57",
   "metadata": {},
   "outputs": [],
   "source": [
    "J0 = m*g*h/omega**2"
   ]
  },
  {
   "cell_type": "code",
   "execution_count": 17,
   "id": "6022c350",
   "metadata": {},
   "outputs": [],
   "source": [
    "# J0 = JG + m*h**2"
   ]
  },
  {
   "cell_type": "code",
   "execution_count": 18,
   "id": "6a79dbf4",
   "metadata": {},
   "outputs": [],
   "source": [
    "JG = J0-m*h**2"
   ]
  },
  {
   "cell_type": "code",
   "execution_count": 19,
   "id": "c9140c27",
   "metadata": {},
   "outputs": [
    {
     "data": {
      "text/plain": [
       "472.1704019168243"
      ]
     },
     "execution_count": 19,
     "metadata": {},
     "output_type": "execute_result"
    }
   ],
   "source": [
    "JG"
   ]
  },
  {
   "cell_type": "code",
   "execution_count": null,
   "id": "b4d57792",
   "metadata": {},
   "outputs": [],
   "source": []
  },
  {
   "cell_type": "markdown",
   "id": "814652a1",
   "metadata": {},
   "source": [
    "### ex. 5.3"
   ]
  },
  {
   "cell_type": "code",
   "execution_count": 20,
   "id": "8b67f85c",
   "metadata": {},
   "outputs": [],
   "source": [
    "from sympy import symbols, sin, diff"
   ]
  },
  {
   "cell_type": "code",
   "execution_count": 21,
   "id": "99ff41f3",
   "metadata": {},
   "outputs": [],
   "source": [
    "# J0*ddtheta+m*g*h*theta=0"
   ]
  },
  {
   "cell_type": "code",
   "execution_count": 22,
   "id": "b58e2a20",
   "metadata": {},
   "outputs": [],
   "source": [
    "# J0 = JG + m*h**2"
   ]
  },
  {
   "cell_type": "code",
   "execution_count": 23,
   "id": "127ed6cc",
   "metadata": {},
   "outputs": [],
   "source": [
    "# JG = m0*a**2/6 , where a - side of a square"
   ]
  },
  {
   "cell_type": "code",
   "execution_count": 24,
   "id": "236a22ec",
   "metadata": {},
   "outputs": [],
   "source": [
    "a = 60\n",
    "h = 3.5\n",
    "g = 9.81*3.28084"
   ]
  },
  {
   "cell_type": "code",
   "execution_count": 25,
   "id": "5fab04c8",
   "metadata": {},
   "outputs": [],
   "source": [
    "m0 = symbols('m_0')"
   ]
  },
  {
   "cell_type": "code",
   "execution_count": 26,
   "id": "9ae2772a",
   "metadata": {},
   "outputs": [],
   "source": [
    "J0 = m0*a**2/6+m0*h**2"
   ]
  },
  {
   "cell_type": "code",
   "execution_count": 27,
   "id": "e7d5ede9",
   "metadata": {},
   "outputs": [
    {
     "data": {
      "text/latex": [
       "$\\displaystyle 612.25 m_{0}$"
      ],
      "text/plain": [
       "612.25*m_0"
      ]
     },
     "execution_count": 27,
     "metadata": {},
     "output_type": "execute_result"
    }
   ],
   "source": [
    "J0"
   ]
  },
  {
   "cell_type": "code",
   "execution_count": 28,
   "id": "d69a1d69",
   "metadata": {},
   "outputs": [],
   "source": [
    "omega = np.sqrt(float(m0*g*h/J0))"
   ]
  },
  {
   "cell_type": "code",
   "execution_count": 29,
   "id": "8a7c010f",
   "metadata": {},
   "outputs": [
    {
     "data": {
      "text/plain": [
       "0.4289401058110719"
      ]
     },
     "execution_count": 29,
     "metadata": {},
     "output_type": "execute_result"
    }
   ],
   "source": [
    "omega"
   ]
  },
  {
   "cell_type": "code",
   "execution_count": 30,
   "id": "64d84cd8",
   "metadata": {},
   "outputs": [],
   "source": [
    "T = 2*np.pi/omega"
   ]
  },
  {
   "cell_type": "code",
   "execution_count": 31,
   "id": "280f2a09",
   "metadata": {},
   "outputs": [
    {
     "data": {
      "text/plain": [
       "14.648164678606753"
      ]
     },
     "execution_count": 31,
     "metadata": {},
     "output_type": "execute_result"
    }
   ],
   "source": [
    "T"
   ]
  },
  {
   "cell_type": "code",
   "execution_count": null,
   "id": "1afd1afa",
   "metadata": {},
   "outputs": [],
   "source": []
  },
  {
   "cell_type": "markdown",
   "id": "85a7bfaf",
   "metadata": {},
   "source": [
    "### ex.5.4"
   ]
  },
  {
   "cell_type": "code",
   "execution_count": 32,
   "id": "bdc17cb4",
   "metadata": {},
   "outputs": [],
   "source": [
    "from sympy import *"
   ]
  },
  {
   "cell_type": "code",
   "execution_count": 33,
   "id": "67434e22",
   "metadata": {},
   "outputs": [],
   "source": [
    "x, l = symbols('x, l')"
   ]
  },
  {
   "cell_type": "code",
   "execution_count": 34,
   "id": "8408b171",
   "metadata": {},
   "outputs": [],
   "source": [
    "Psi = sin(pi*x/l)"
   ]
  },
  {
   "cell_type": "code",
   "execution_count": 35,
   "id": "f8ed2416",
   "metadata": {},
   "outputs": [],
   "source": [
    "dPsi=diff(Psi,x)"
   ]
  },
  {
   "cell_type": "code",
   "execution_count": 36,
   "id": "5cc8ac07",
   "metadata": {},
   "outputs": [
    {
     "data": {
      "text/latex": [
       "$\\displaystyle \\frac{\\pi \\cos{\\left(\\frac{\\pi x}{l} \\right)}}{l}$"
      ],
      "text/plain": [
       "pi*cos(pi*x/l)/l"
      ]
     },
     "execution_count": 36,
     "metadata": {},
     "output_type": "execute_result"
    }
   ],
   "source": [
    "dPsi"
   ]
  },
  {
   "cell_type": "code",
   "execution_count": 37,
   "id": "eac54f2d",
   "metadata": {},
   "outputs": [
    {
     "data": {
      "text/latex": [
       "$\\displaystyle 0$"
      ],
      "text/plain": [
       "0"
      ]
     },
     "execution_count": 37,
     "metadata": {},
     "output_type": "execute_result"
    }
   ],
   "source": [
    "Psi.evalf(subs={x:0})"
   ]
  },
  {
   "cell_type": "code",
   "execution_count": 38,
   "id": "9bd09dd8",
   "metadata": {},
   "outputs": [
    {
     "data": {
      "text/latex": [
       "$\\displaystyle \\frac{\\pi}{l}$"
      ],
      "text/plain": [
       "pi/l"
      ]
     },
     "execution_count": 38,
     "metadata": {},
     "output_type": "execute_result"
    }
   ],
   "source": [
    "dPsi.subs({x:0})"
   ]
  },
  {
   "cell_type": "code",
   "execution_count": 39,
   "id": "105edd01",
   "metadata": {},
   "outputs": [
    {
     "data": {
      "text/latex": [
       "$\\displaystyle 0$"
      ],
      "text/plain": [
       "0"
      ]
     },
     "execution_count": 39,
     "metadata": {},
     "output_type": "execute_result"
    }
   ],
   "source": [
    "Psi.subs({x:l})"
   ]
  },
  {
   "cell_type": "code",
   "execution_count": 40,
   "id": "86c1bea9",
   "metadata": {},
   "outputs": [
    {
     "data": {
      "text/latex": [
       "$\\displaystyle - \\frac{\\pi}{l}$"
      ],
      "text/plain": [
       "-pi/l"
      ]
     },
     "execution_count": 40,
     "metadata": {},
     "output_type": "execute_result"
    }
   ],
   "source": [
    "dPsi.subs({x:l})"
   ]
  },
  {
   "cell_type": "code",
   "execution_count": null,
   "id": "13350a00",
   "metadata": {},
   "outputs": [],
   "source": []
  },
  {
   "cell_type": "code",
   "execution_count": 41,
   "id": "9b55f330",
   "metadata": {},
   "outputs": [],
   "source": [
    "v0, omega0, t = symbols('v_0, omega_0, t')"
   ]
  },
  {
   "cell_type": "code",
   "execution_count": 42,
   "id": "31910c6c",
   "metadata": {},
   "outputs": [],
   "source": [
    "v=v0*Psi*sin(omega0*t)"
   ]
  },
  {
   "cell_type": "code",
   "execution_count": 43,
   "id": "ea9cb8c2",
   "metadata": {},
   "outputs": [
    {
     "data": {
      "text/latex": [
       "$\\displaystyle v_{0} \\sin{\\left(\\omega_{0} t \\right)} \\sin{\\left(\\frac{\\pi x}{l} \\right)}$"
      ],
      "text/plain": [
       "v_0*sin(omega_0*t)*sin(pi*x/l)"
      ]
     },
     "execution_count": 43,
     "metadata": {},
     "output_type": "execute_result"
    }
   ],
   "source": [
    "v"
   ]
  },
  {
   "cell_type": "code",
   "execution_count": null,
   "id": "37fc37be",
   "metadata": {},
   "outputs": [],
   "source": []
  },
  {
   "cell_type": "code",
   "execution_count": 44,
   "id": "b316b256",
   "metadata": {},
   "outputs": [],
   "source": [
    "N, EI = symbols('N, EI')"
   ]
  },
  {
   "cell_type": "code",
   "execution_count": 45,
   "id": "5ee9ac17",
   "metadata": {},
   "outputs": [],
   "source": [
    "U=N/2*integrate(EI*diff(v,x,2)**2, (x,0,l))"
   ]
  },
  {
   "cell_type": "code",
   "execution_count": 46,
   "id": "16f774d5",
   "metadata": {},
   "outputs": [
    {
     "data": {
      "text/latex": [
       "$\\displaystyle \\begin{cases} \\frac{\\pi^{4} EI N v_{0}^{2} \\sin^{2}{\\left(\\omega_{0} t \\right)}}{4 l^{3}} & \\text{for}\\: \\left(l > -\\infty \\vee l > 0\\right) \\wedge \\left(l > -\\infty \\vee l < \\infty\\right) \\wedge \\left(l > 0 \\vee l < 0\\right) \\wedge \\left(l < 0 \\vee l < \\infty\\right) \\\\0 & \\text{for}\\: l \\geq 0 \\end{cases}$"
      ],
      "text/plain": [
       "Piecewise((pi**4*EI*N*v_0**2*sin(omega_0*t)**2/(4*l**3), ((l > -oo) | (l > 0)) & ((l > -oo) | (l < oo)) & ((l > 0) | (l < 0)) & ((l < 0) | (l < oo))), (0, l >= 0))"
      ]
     },
     "execution_count": 46,
     "metadata": {},
     "output_type": "execute_result"
    }
   ],
   "source": [
    "simplify(U)"
   ]
  },
  {
   "cell_type": "code",
   "execution_count": 47,
   "id": "9711a7fa",
   "metadata": {},
   "outputs": [],
   "source": [
    "# sin(omega0*t)=1 for max energy, N = 1 |=>\n",
    "U_max=pi**4*EI*v0**2/(4*l**3)"
   ]
  },
  {
   "cell_type": "code",
   "execution_count": 48,
   "id": "4665b23f",
   "metadata": {},
   "outputs": [],
   "source": [
    "m_hat,f1 = symbols('m_hat,f1')"
   ]
  },
  {
   "cell_type": "code",
   "execution_count": 49,
   "id": "b67df8f6",
   "metadata": {},
   "outputs": [],
   "source": [
    "K_max=1/2*m_hat*v0**2*omega0**2*integrate(Psi**2, (x,0,l))"
   ]
  },
  {
   "cell_type": "code",
   "execution_count": null,
   "id": "52da22a7",
   "metadata": {},
   "outputs": [],
   "source": []
  },
  {
   "cell_type": "code",
   "execution_count": 50,
   "id": "5e701f44",
   "metadata": {},
   "outputs": [],
   "source": [
    "K_max = 0.5*m_hat*omega0**2*v0**2*l/2"
   ]
  },
  {
   "cell_type": "code",
   "execution_count": 51,
   "id": "a33829f4",
   "metadata": {},
   "outputs": [],
   "source": [
    "omega0_1=solve(U_max-K_max, [omega0])[1]"
   ]
  },
  {
   "cell_type": "code",
   "execution_count": 52,
   "id": "1c6de4be",
   "metadata": {},
   "outputs": [
    {
     "data": {
      "text/latex": [
       "$\\displaystyle \\frac{9.86960440108936 \\sqrt{\\frac{EI}{m_{hat}}}}{l^{2}}$"
      ],
      "text/plain": [
       "9.86960440108936*sqrt(EI/m_hat)/l**2"
      ]
     },
     "execution_count": 52,
     "metadata": {},
     "output_type": "execute_result"
    }
   ],
   "source": [
    "omega0_1"
   ]
  },
  {
   "cell_type": "code",
   "execution_count": 53,
   "id": "d493a227",
   "metadata": {},
   "outputs": [],
   "source": [
    "omega0_=sqrt(192*EI/(l**4*f1*m_hat))"
   ]
  },
  {
   "cell_type": "code",
   "execution_count": 54,
   "id": "f40fd7e8",
   "metadata": {},
   "outputs": [
    {
     "data": {
      "text/plain": [
       "[1.97106859289939]"
      ]
     },
     "execution_count": 54,
     "metadata": {},
     "output_type": "execute_result"
    }
   ],
   "source": [
    "solve(omega0_1 - omega0_, [f1])"
   ]
  },
  {
   "cell_type": "code",
   "execution_count": null,
   "id": "b8b3590f",
   "metadata": {},
   "outputs": [],
   "source": []
  },
  {
   "cell_type": "markdown",
   "id": "ddf92baa",
   "metadata": {},
   "source": [
    "### ex.5.5"
   ]
  },
  {
   "cell_type": "code",
   "execution_count": 55,
   "id": "e8766fe0",
   "metadata": {},
   "outputs": [],
   "source": [
    "Psi = 1-cos(pi*x/(2*l))"
   ]
  },
  {
   "cell_type": "code",
   "execution_count": 56,
   "id": "5936f30d",
   "metadata": {},
   "outputs": [
    {
     "data": {
      "text/latex": [
       "$\\displaystyle 1 - \\cos{\\left(\\frac{\\pi x}{2 l} \\right)}$"
      ],
      "text/plain": [
       "1 - cos(pi*x/(2*l))"
      ]
     },
     "execution_count": 56,
     "metadata": {},
     "output_type": "execute_result"
    }
   ],
   "source": [
    "Psi"
   ]
  },
  {
   "cell_type": "code",
   "execution_count": 57,
   "id": "46b001d5",
   "metadata": {},
   "outputs": [
    {
     "data": {
      "text/latex": [
       "$\\displaystyle \\frac{\\pi \\sin{\\left(\\frac{\\pi x}{2 l} \\right)}}{2 l}$"
      ],
      "text/plain": [
       "pi*sin(pi*x/(2*l))/(2*l)"
      ]
     },
     "execution_count": 57,
     "metadata": {},
     "output_type": "execute_result"
    }
   ],
   "source": [
    "diff(Psi,x)"
   ]
  },
  {
   "cell_type": "code",
   "execution_count": 58,
   "id": "ff00cd6a",
   "metadata": {},
   "outputs": [],
   "source": [
    "v = v0*Psi*sin(omega0*t)\n",
    "v_max=v0*Psi"
   ]
  },
  {
   "cell_type": "code",
   "execution_count": 59,
   "id": "a164d3bc",
   "metadata": {},
   "outputs": [
    {
     "data": {
      "text/latex": [
       "$\\displaystyle v_{0} \\left(1 - \\cos{\\left(\\frac{\\pi x}{2 l} \\right)}\\right)$"
      ],
      "text/plain": [
       "v_0*(1 - cos(pi*x/(2*l)))"
      ]
     },
     "execution_count": 59,
     "metadata": {},
     "output_type": "execute_result"
    }
   ],
   "source": [
    "v_max"
   ]
  },
  {
   "cell_type": "code",
   "execution_count": 60,
   "id": "94607ee7",
   "metadata": {},
   "outputs": [],
   "source": [
    "m_d,g,d,m_hat0 = symbols('m_d,g,d,m_hat0')"
   ]
  },
  {
   "cell_type": "code",
   "execution_count": 61,
   "id": "071aa607",
   "metadata": {},
   "outputs": [],
   "source": [
    "V_max=3/2*integrate(EI*diff(v_max,x,2)**2, (x,0,l))-1/2*m_d*g*integrate(diff(v_max,x,2)**2, (x,0,l))"
   ]
  },
  {
   "cell_type": "code",
   "execution_count": 62,
   "id": "1c910f67",
   "metadata": {},
   "outputs": [
    {
     "data": {
      "text/latex": [
       "$\\displaystyle - 0.5 g m_{d} \\left(\\begin{cases} \\frac{\\pi^{4} v_{0}^{2}}{32 l^{3}} & \\text{for}\\: l > -\\infty \\wedge l < \\infty \\wedge l \\neq 0 \\\\\\frac{\\pi^{4} v_{0}^{2}}{16 l^{3}} & \\text{otherwise} \\end{cases}\\right) + 1.5 \\left(\\begin{cases} \\frac{\\pi^{4} EI v_{0}^{2}}{32 l^{3}} & \\text{for}\\: l > -\\infty \\wedge l < \\infty \\wedge l \\neq 0 \\\\\\frac{\\pi^{4} EI v_{0}^{2}}{16 l^{3}} & \\text{otherwise} \\end{cases}\\right)$"
      ],
      "text/plain": [
       "-0.5*g*m_d*Piecewise((pi**4*v_0**2/(32*l**3), (l > -oo) & (l < oo) & Ne(l, 0)), (pi**4*v_0**2/(16*l**3), True)) + 1.5*Piecewise((pi**4*EI*v_0**2/(32*l**3), (l > -oo) & (l < oo) & Ne(l, 0)), (pi**4*EI*v_0**2/(16*l**3), True))"
      ]
     },
     "execution_count": 62,
     "metadata": {},
     "output_type": "execute_result"
    }
   ],
   "source": [
    "V_max"
   ]
  },
  {
   "cell_type": "code",
   "execution_count": 63,
   "id": "4d063458",
   "metadata": {},
   "outputs": [],
   "source": [
    "V_max=-0.5*g*m_d*pi**4*v0**2/(32*l**3)+1.5*pi**4*EI*v0**2/(32*l**3)"
   ]
  },
  {
   "cell_type": "code",
   "execution_count": 64,
   "id": "b9d28e30",
   "metadata": {},
   "outputs": [
    {
     "data": {
      "text/latex": [
       "$\\displaystyle \\frac{0.046875 \\pi^{4} EI v_{0}^{2}}{l^{3}} - \\frac{0.015625 \\pi^{4} g m_{d} v_{0}^{2}}{l^{3}}$"
      ],
      "text/plain": [
       "0.046875*pi**4*EI*v_0**2/l**3 - 0.015625*pi**4*g*m_d*v_0**2/l**3"
      ]
     },
     "execution_count": 64,
     "metadata": {},
     "output_type": "execute_result"
    }
   ],
   "source": [
    "V_max"
   ]
  },
  {
   "cell_type": "code",
   "execution_count": 65,
   "id": "3eed9275",
   "metadata": {},
   "outputs": [],
   "source": [
    "K_max = (3/2*integrate(m_hat*diff(v,t)**2, (x,0,d))+3/2*integrate(m_hat0*diff(v,t)**2, (x,d,l))\n",
    "        +  1/2*m_d*diff(v0*(1-cos(pi*l/l))*sin(omega0*t),t)**2)"
   ]
  },
  {
   "cell_type": "code",
   "execution_count": 66,
   "id": "ee2fe554",
   "metadata": {},
   "outputs": [
    {
     "data": {
      "text/latex": [
       "$\\displaystyle \\frac{\\omega_{0}^{2} v_{0}^{2} \\left(0.75 l m_{hat0} \\left(-8 + 3 \\pi\\right) + 2.0 \\pi m_{d} + 0.75 m_{hat} \\left(3 \\pi d - 8 l \\sin{\\left(\\frac{\\pi d}{2 l} \\right)} + l \\sin{\\left(\\frac{\\pi d}{l} \\right)}\\right) - 0.75 m_{hat0} \\left(3 \\pi d - 8 l \\sin{\\left(\\frac{\\pi d}{2 l} \\right)} + l \\sin{\\left(\\frac{\\pi d}{l} \\right)}\\right)\\right) \\cos^{2}{\\left(\\omega_{0} t \\right)}}{\\pi}$"
      ],
      "text/plain": [
       "omega_0**2*v_0**2*(0.75*l*m_hat0*(-8 + 3*pi) + 2.0*pi*m_d + 0.75*m_hat*(3*pi*d - 8*l*sin(pi*d/(2*l)) + l*sin(pi*d/l)) - 0.75*m_hat0*(3*pi*d - 8*l*sin(pi*d/(2*l)) + l*sin(pi*d/l)))*cos(omega_0*t)**2/pi"
      ]
     },
     "execution_count": 66,
     "metadata": {},
     "output_type": "execute_result"
    }
   ],
   "source": [
    "simplify(K_max)"
   ]
  },
  {
   "cell_type": "code",
   "execution_count": 67,
   "id": "101ef5b9",
   "metadata": {},
   "outputs": [],
   "source": [
    "K_max = omega0**2*v0**2*(0.75*l*m_hat0*(-8+3*pi)+2*pi*m_d+\n",
    "                         0.75*m_hat*(3*pi*d - 8*l*sin(pi*d/(2*l))+l*sin(pi*d/l))-\n",
    "                        -0.75*m_hat0*(3*pi*d-8*l*sin(pi*d/(2*l))+l*sin(pi*d/l)))"
   ]
  },
  {
   "cell_type": "code",
   "execution_count": 68,
   "id": "502d1460",
   "metadata": {},
   "outputs": [],
   "source": [
    "omega0_ = solve(U_max-K_max, [omega0])[1]"
   ]
  },
  {
   "cell_type": "code",
   "execution_count": 69,
   "id": "b4a432dd",
   "metadata": {},
   "outputs": [
    {
     "data": {
      "text/latex": [
       "$\\displaystyle 9.86960440108936 \\sqrt{\\frac{EI}{l^{3} \\left(28.2743338823081 d m_{hat} + 28.2743338823081 d m_{hat0} - 24.0 l m_{hat} \\sin{\\left(\\frac{1.5707963267949 d}{l} \\right)} + 3.0 l m_{hat} \\sin{\\left(\\frac{3.14159265358979 d}{l} \\right)} - 24.0 l m_{hat0} \\sin{\\left(\\frac{1.5707963267949 d}{l} \\right)} + 3.0 l m_{hat0} \\sin{\\left(\\frac{3.14159265358979 d}{l} \\right)} + 4.27433388230814 l m_{hat0} + 25.1327412287183 m_{d}\\right)}}$"
      ],
      "text/plain": [
       "9.86960440108936*sqrt(EI/(l**3*(28.2743338823081*d*m_hat + 28.2743338823081*d*m_hat0 - 24.0*l*m_hat*sin(1.5707963267949*d/l) + 3.0*l*m_hat*sin(3.14159265358979*d/l) - 24.0*l*m_hat0*sin(1.5707963267949*d/l) + 3.0*l*m_hat0*sin(3.14159265358979*d/l) + 4.27433388230814*l*m_hat0 + 25.1327412287183*m_d)))"
      ]
     },
     "execution_count": 69,
     "metadata": {},
     "output_type": "execute_result"
    }
   ],
   "source": [
    "omega0_"
   ]
  },
  {
   "cell_type": "code",
   "execution_count": 70,
   "id": "9bad395a",
   "metadata": {},
   "outputs": [],
   "source": [
    "Om = (omega0_.subs({d:2880, \n",
    "                    m_hat: 1417/386,\n",
    "                    g:386,\n",
    "                    l:2880,\n",
    "                    m_d:1.02e7/386,\n",
    "                    m_hat0:237/386,\n",
    "             EI:30e6*2.114e6})).evalf()"
   ]
  },
  {
   "cell_type": "code",
   "execution_count": 71,
   "id": "76e02d06",
   "metadata": {},
   "outputs": [
    {
     "data": {
      "text/latex": [
       "$\\displaystyle 0.59748099870882$"
      ],
      "text/plain": [
       "0.597480998708820"
      ]
     },
     "execution_count": 71,
     "metadata": {},
     "output_type": "execute_result"
    }
   ],
   "source": [
    "Om"
   ]
  },
  {
   "cell_type": "code",
   "execution_count": 72,
   "id": "04b5f3aa",
   "metadata": {},
   "outputs": [],
   "source": [
    "T = 2*np.pi/Om"
   ]
  },
  {
   "cell_type": "code",
   "execution_count": 73,
   "id": "2c4baa12",
   "metadata": {},
   "outputs": [
    {
     "data": {
      "text/latex": [
       "$\\displaystyle 10.5161257358105$"
      ],
      "text/plain": [
       "10.5161257358105"
      ]
     },
     "execution_count": 73,
     "metadata": {},
     "output_type": "execute_result"
    }
   ],
   "source": [
    "T"
   ]
  },
  {
   "cell_type": "code",
   "execution_count": 74,
   "id": "3008d0e0",
   "metadata": {},
   "outputs": [],
   "source": [
    "omega0_1 = ((36*EI/l**3)/(3*m_hat*f1*d+3*m_hat0*(l-d)*f1+m_d))**0.5"
   ]
  },
  {
   "cell_type": "code",
   "execution_count": 75,
   "id": "ecd3ba14",
   "metadata": {},
   "outputs": [
    {
     "data": {
      "text/latex": [
       "$\\displaystyle 7.60811324078799$"
      ],
      "text/plain": [
       "7.60811324078799"
      ]
     },
     "execution_count": 75,
     "metadata": {},
     "output_type": "execute_result"
    }
   ],
   "source": [
    "solve(omega0_1 - omega0_, [f1])[0].subs({d:2880, \n",
    "                                      m_hat: 1417/( 386),\n",
    "                                     g:386,\n",
    "                                     l:2880,\n",
    "                                     m_d:1.02e7/( 386),\n",
    "                                     m_hat0:237/( 386)})"
   ]
  },
  {
   "cell_type": "code",
   "execution_count": null,
   "id": "1c2726d8",
   "metadata": {},
   "outputs": [],
   "source": []
  },
  {
   "cell_type": "markdown",
   "id": "5c09ceb5",
   "metadata": {},
   "source": [
    "The fundamental period of oscillation is a bit higher than that of in problem 5.4, but still is lower than that of the periods of the highest energy offshore waves of 12-15 sec in a typical sea state."
   ]
  },
  {
   "cell_type": "code",
   "execution_count": null,
   "id": "e4f3a232",
   "metadata": {},
   "outputs": [],
   "source": []
  }
 ],
 "metadata": {
  "kernelspec": {
   "display_name": "Python 3 (ipykernel)",
   "language": "python",
   "name": "python3"
  },
  "language_info": {
   "codemirror_mode": {
    "name": "ipython",
    "version": 3
   },
   "file_extension": ".py",
   "mimetype": "text/x-python",
   "name": "python",
   "nbconvert_exporter": "python",
   "pygments_lexer": "ipython3",
   "version": "3.9.6"
  }
 },
 "nbformat": 4,
 "nbformat_minor": 5
}
