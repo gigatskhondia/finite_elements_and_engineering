{
 "cells": [
  {
   "cell_type": "code",
   "execution_count": 1,
   "id": "ea8cf690",
   "metadata": {},
   "outputs": [],
   "source": [
    "# Not validated solutions"
   ]
  },
  {
   "cell_type": "markdown",
   "id": "f36571a1",
   "metadata": {},
   "source": [
    "### ex. 5.1"
   ]
  },
  {
   "cell_type": "code",
   "execution_count": 2,
   "id": "44b9d69f",
   "metadata": {},
   "outputs": [],
   "source": [
    "import numpy as np"
   ]
  },
  {
   "cell_type": "code",
   "execution_count": 3,
   "id": "34ed7bcb",
   "metadata": {},
   "outputs": [],
   "source": [
    "D = 2.5\n",
    "m = 2000\n",
    "rho_w = 64\n",
    "# no friction of water \n",
    "CM = 0\n",
    "g = 9.81*3.28084\n",
    "# v - displacement\n",
    "# restoring force dW equals weight of the water displaced by the motion v"
   ]
  },
  {
   "cell_type": "code",
   "execution_count": 4,
   "id": "6bf0ee58",
   "metadata": {},
   "outputs": [],
   "source": [
    "# dW=pi*(D/2)**2*v*rho_w"
   ]
  },
  {
   "cell_type": "code",
   "execution_count": 5,
   "id": "529030e8",
   "metadata": {},
   "outputs": [],
   "source": [
    "# equation of motion \n",
    "# mg-(mg+dW)=m*ddv\n",
    "# 2000*g-(2000*g+pi*(D/2)**2*v*rho_w)=2000*ddv\n",
    "# 2000*ddv+pi*(D/2)**2*rho_w*v=0"
   ]
  },
  {
   "cell_type": "code",
   "execution_count": 6,
   "id": "c4083769",
   "metadata": {},
   "outputs": [],
   "source": [
    "omega = np.sqrt(np.pi*(D/2)**2*rho_w/2000)"
   ]
  },
  {
   "cell_type": "code",
   "execution_count": 7,
   "id": "61e919f5",
   "metadata": {},
   "outputs": [
    {
     "data": {
      "text/plain": [
       "0.3963327297606011"
      ]
     },
     "execution_count": 7,
     "metadata": {},
     "output_type": "execute_result"
    }
   ],
   "source": [
    "omega"
   ]
  },
  {
   "cell_type": "code",
   "execution_count": 8,
   "id": "80722b12",
   "metadata": {},
   "outputs": [],
   "source": [
    "T = 2*np.pi/omega"
   ]
  },
  {
   "cell_type": "code",
   "execution_count": 9,
   "id": "1df0c434",
   "metadata": {},
   "outputs": [
    {
     "data": {
      "text/plain": [
       "15.853309190424044"
      ]
     },
     "execution_count": 9,
     "metadata": {},
     "output_type": "execute_result"
    }
   ],
   "source": [
    "T"
   ]
  },
  {
   "cell_type": "code",
   "execution_count": null,
   "id": "3d7bd340",
   "metadata": {},
   "outputs": [],
   "source": []
  },
  {
   "cell_type": "markdown",
   "id": "674b7409",
   "metadata": {},
   "source": [
    "### ex. 5.2"
   ]
  },
  {
   "cell_type": "code",
   "execution_count": 10,
   "id": "ffd329c0",
   "metadata": {},
   "outputs": [],
   "source": [
    "R = 3.5\n",
    "h = 1.75\n",
    "T = 2\n",
    "g = 9.81*3.28084\n",
    "rho_w = 64"
   ]
  },
  {
   "cell_type": "code",
   "execution_count": 11,
   "id": "25aa2a9b",
   "metadata": {},
   "outputs": [],
   "source": [
    "m = 2*np.pi*R**3*rho_w/(3*g)"
   ]
  },
  {
   "cell_type": "code",
   "execution_count": 12,
   "id": "b6dbda9a",
   "metadata": {},
   "outputs": [
    {
     "data": {
      "text/plain": [
       "178.56184393563566"
      ]
     },
     "execution_count": 12,
     "metadata": {},
     "output_type": "execute_result"
    }
   ],
   "source": [
    "m"
   ]
  },
  {
   "cell_type": "code",
   "execution_count": 13,
   "id": "b5df1b13",
   "metadata": {},
   "outputs": [],
   "source": [
    "# J0*ddtheta+m*g*h*theta=0"
   ]
  },
  {
   "cell_type": "code",
   "execution_count": 14,
   "id": "e8e092f1",
   "metadata": {},
   "outputs": [],
   "source": [
    "# omega = np.sqrt(m*g*h/J0) |=> omega**2=m*g*h/J0"
   ]
  },
  {
   "cell_type": "code",
   "execution_count": 15,
   "id": "a62591e2",
   "metadata": {},
   "outputs": [],
   "source": [
    "omega = 2*np.pi/T"
   ]
  },
  {
   "cell_type": "code",
   "execution_count": 16,
   "id": "d7c6ab57",
   "metadata": {},
   "outputs": [],
   "source": [
    "J0 = m*g*h/omega**2"
   ]
  },
  {
   "cell_type": "code",
   "execution_count": 17,
   "id": "6022c350",
   "metadata": {},
   "outputs": [],
   "source": [
    "# J0 = JG + m*h**2"
   ]
  },
  {
   "cell_type": "code",
   "execution_count": 18,
   "id": "6a79dbf4",
   "metadata": {},
   "outputs": [],
   "source": [
    "JG = J0-m*h**2"
   ]
  },
  {
   "cell_type": "code",
   "execution_count": 19,
   "id": "c9140c27",
   "metadata": {},
   "outputs": [
    {
     "data": {
      "text/plain": [
       "472.1704019168243"
      ]
     },
     "execution_count": 19,
     "metadata": {},
     "output_type": "execute_result"
    }
   ],
   "source": [
    "JG"
   ]
  },
  {
   "cell_type": "code",
   "execution_count": null,
   "id": "b4d57792",
   "metadata": {},
   "outputs": [],
   "source": []
  },
  {
   "cell_type": "markdown",
   "id": "814652a1",
   "metadata": {},
   "source": [
    "### ex. 5.3"
   ]
  },
  {
   "cell_type": "code",
   "execution_count": 20,
   "id": "8b67f85c",
   "metadata": {},
   "outputs": [],
   "source": [
    "from sympy import symbols, sin, diff"
   ]
  },
  {
   "cell_type": "code",
   "execution_count": 21,
   "id": "99ff41f3",
   "metadata": {},
   "outputs": [],
   "source": [
    "# J0*ddtheta+m*g*h*theta=0"
   ]
  },
  {
   "cell_type": "code",
   "execution_count": 22,
   "id": "b58e2a20",
   "metadata": {},
   "outputs": [],
   "source": [
    "# J0 = JG + m*h**2"
   ]
  },
  {
   "cell_type": "code",
   "execution_count": 23,
   "id": "127ed6cc",
   "metadata": {},
   "outputs": [],
   "source": [
    "# JG = m0*a**2/6 , where a - side of a square"
   ]
  },
  {
   "cell_type": "code",
   "execution_count": 24,
   "id": "236a22ec",
   "metadata": {},
   "outputs": [],
   "source": [
    "a = 60\n",
    "h = 3.5\n",
    "g = 9.81*3.28084"
   ]
  },
  {
   "cell_type": "code",
   "execution_count": 25,
   "id": "5fab04c8",
   "metadata": {},
   "outputs": [],
   "source": [
    "m0 = symbols('m_0')"
   ]
  },
  {
   "cell_type": "code",
   "execution_count": 26,
   "id": "9ae2772a",
   "metadata": {},
   "outputs": [],
   "source": [
    "J0 = m0*a**2/6+m0*h**2"
   ]
  },
  {
   "cell_type": "code",
   "execution_count": 27,
   "id": "e7d5ede9",
   "metadata": {},
   "outputs": [
    {
     "data": {
      "text/latex": [
       "$\\displaystyle 612.25 m_{0}$"
      ],
      "text/plain": [
       "612.25*m_0"
      ]
     },
     "execution_count": 27,
     "metadata": {},
     "output_type": "execute_result"
    }
   ],
   "source": [
    "J0"
   ]
  },
  {
   "cell_type": "code",
   "execution_count": 28,
   "id": "d69a1d69",
   "metadata": {},
   "outputs": [],
   "source": [
    "omega = np.sqrt(float(m0*g*h/J0))"
   ]
  },
  {
   "cell_type": "code",
   "execution_count": 29,
   "id": "8a7c010f",
   "metadata": {},
   "outputs": [
    {
     "data": {
      "text/plain": [
       "0.4289401058110719"
      ]
     },
     "execution_count": 29,
     "metadata": {},
     "output_type": "execute_result"
    }
   ],
   "source": [
    "omega"
   ]
  },
  {
   "cell_type": "code",
   "execution_count": 30,
   "id": "64d84cd8",
   "metadata": {},
   "outputs": [],
   "source": [
    "T = 2*np.pi/omega"
   ]
  },
  {
   "cell_type": "code",
   "execution_count": 31,
   "id": "280f2a09",
   "metadata": {},
   "outputs": [
    {
     "data": {
      "text/plain": [
       "14.648164678606753"
      ]
     },
     "execution_count": 31,
     "metadata": {},
     "output_type": "execute_result"
    }
   ],
   "source": [
    "T"
   ]
  },
  {
   "cell_type": "code",
   "execution_count": null,
   "id": "1afd1afa",
   "metadata": {},
   "outputs": [],
   "source": []
  },
  {
   "cell_type": "markdown",
   "id": "85a7bfaf",
   "metadata": {},
   "source": [
    "### ex.5.4"
   ]
  },
  {
   "cell_type": "code",
   "execution_count": 32,
   "id": "bdc17cb4",
   "metadata": {},
   "outputs": [],
   "source": [
    "from sympy import *"
   ]
  },
  {
   "cell_type": "code",
   "execution_count": 33,
   "id": "67434e22",
   "metadata": {},
   "outputs": [],
   "source": [
    "x, l = symbols('x, l')"
   ]
  },
  {
   "cell_type": "code",
   "execution_count": 34,
   "id": "8408b171",
   "metadata": {},
   "outputs": [],
   "source": [
    "Psi = sin(pi*x/l)"
   ]
  },
  {
   "cell_type": "code",
   "execution_count": 35,
   "id": "f8ed2416",
   "metadata": {},
   "outputs": [],
   "source": [
    "dPsi=diff(Psi,x)"
   ]
  },
  {
   "cell_type": "code",
   "execution_count": 36,
   "id": "5cc8ac07",
   "metadata": {},
   "outputs": [
    {
     "data": {
      "text/latex": [
       "$\\displaystyle \\frac{\\pi \\cos{\\left(\\frac{\\pi x}{l} \\right)}}{l}$"
      ],
      "text/plain": [
       "pi*cos(pi*x/l)/l"
      ]
     },
     "execution_count": 36,
     "metadata": {},
     "output_type": "execute_result"
    }
   ],
   "source": [
    "dPsi"
   ]
  },
  {
   "cell_type": "code",
   "execution_count": 37,
   "id": "eac54f2d",
   "metadata": {},
   "outputs": [
    {
     "data": {
      "text/latex": [
       "$\\displaystyle 0$"
      ],
      "text/plain": [
       "0"
      ]
     },
     "execution_count": 37,
     "metadata": {},
     "output_type": "execute_result"
    }
   ],
   "source": [
    "Psi.evalf(subs={x:0})"
   ]
  },
  {
   "cell_type": "code",
   "execution_count": 38,
   "id": "9bd09dd8",
   "metadata": {},
   "outputs": [
    {
     "data": {
      "text/latex": [
       "$\\displaystyle \\frac{\\pi}{l}$"
      ],
      "text/plain": [
       "pi/l"
      ]
     },
     "execution_count": 38,
     "metadata": {},
     "output_type": "execute_result"
    }
   ],
   "source": [
    "dPsi.subs({x:0})"
   ]
  },
  {
   "cell_type": "code",
   "execution_count": 39,
   "id": "105edd01",
   "metadata": {},
   "outputs": [
    {
     "data": {
      "text/latex": [
       "$\\displaystyle 0$"
      ],
      "text/plain": [
       "0"
      ]
     },
     "execution_count": 39,
     "metadata": {},
     "output_type": "execute_result"
    }
   ],
   "source": [
    "Psi.subs({x:l})"
   ]
  },
  {
   "cell_type": "code",
   "execution_count": 40,
   "id": "86c1bea9",
   "metadata": {},
   "outputs": [
    {
     "data": {
      "text/latex": [
       "$\\displaystyle - \\frac{\\pi}{l}$"
      ],
      "text/plain": [
       "-pi/l"
      ]
     },
     "execution_count": 40,
     "metadata": {},
     "output_type": "execute_result"
    }
   ],
   "source": [
    "dPsi.subs({x:l})"
   ]
  },
  {
   "cell_type": "code",
   "execution_count": null,
   "id": "13350a00",
   "metadata": {},
   "outputs": [],
   "source": []
  },
  {
   "cell_type": "code",
   "execution_count": 41,
   "id": "9b55f330",
   "metadata": {},
   "outputs": [],
   "source": [
    "v0, omega0, t = symbols('v_0, omega_0, t')"
   ]
  },
  {
   "cell_type": "code",
   "execution_count": 42,
   "id": "31910c6c",
   "metadata": {},
   "outputs": [],
   "source": [
    "v=v0*Psi*sin(omega0*t)"
   ]
  },
  {
   "cell_type": "code",
   "execution_count": 43,
   "id": "ea9cb8c2",
   "metadata": {},
   "outputs": [
    {
     "data": {
      "text/latex": [
       "$\\displaystyle v_{0} \\sin{\\left(\\omega_{0} t \\right)} \\sin{\\left(\\frac{\\pi x}{l} \\right)}$"
      ],
      "text/plain": [
       "v_0*sin(omega_0*t)*sin(pi*x/l)"
      ]
     },
     "execution_count": 43,
     "metadata": {},
     "output_type": "execute_result"
    }
   ],
   "source": [
    "v"
   ]
  },
  {
   "cell_type": "code",
   "execution_count": null,
   "id": "37fc37be",
   "metadata": {},
   "outputs": [],
   "source": []
  },
  {
   "cell_type": "code",
   "execution_count": 44,
   "id": "b316b256",
   "metadata": {},
   "outputs": [],
   "source": [
    "N, EI = symbols('N, EI')"
   ]
  },
  {
   "cell_type": "code",
   "execution_count": 45,
   "id": "5ee9ac17",
   "metadata": {},
   "outputs": [],
   "source": [
    "U=N/2*integrate(EI*diff(v,x,2)**2, (x,0,l))"
   ]
  },
  {
   "cell_type": "code",
   "execution_count": 46,
   "id": "16f774d5",
   "metadata": {},
   "outputs": [
    {
     "data": {
      "text/latex": [
       "$\\displaystyle \\begin{cases} \\frac{\\pi^{4} EI N v_{0}^{2} \\sin^{2}{\\left(\\omega_{0} t \\right)}}{4 l^{3}} & \\text{for}\\: \\left(l > -\\infty \\vee l > 0\\right) \\wedge \\left(l > -\\infty \\vee l < \\infty\\right) \\wedge \\left(l > 0 \\vee l < 0\\right) \\wedge \\left(l < 0 \\vee l < \\infty\\right) \\\\0 & \\text{for}\\: l \\geq 0 \\end{cases}$"
      ],
      "text/plain": [
       "Piecewise((pi**4*EI*N*v_0**2*sin(omega_0*t)**2/(4*l**3), ((l > -oo) | (l > 0)) & ((l > -oo) | (l < oo)) & ((l > 0) | (l < 0)) & ((l < 0) | (l < oo))), (0, l >= 0))"
      ]
     },
     "execution_count": 46,
     "metadata": {},
     "output_type": "execute_result"
    }
   ],
   "source": [
    "simplify(U)"
   ]
  },
  {
   "cell_type": "code",
   "execution_count": 47,
   "id": "9711a7fa",
   "metadata": {},
   "outputs": [],
   "source": [
    "# sin(omega0*t)=1 for max energy, N = 1 |=>\n",
    "U_max=pi**4*EI*v0**2/(4*l**3)"
   ]
  },
  {
   "cell_type": "code",
   "execution_count": 48,
   "id": "4665b23f",
   "metadata": {},
   "outputs": [],
   "source": [
    "m_hat,f1 = symbols('m_hat,f1')"
   ]
  },
  {
   "cell_type": "code",
   "execution_count": 49,
   "id": "b67df8f6",
   "metadata": {},
   "outputs": [],
   "source": [
    "K_max=1/2*m_hat*v0**2*omega0**2*integrate(Psi**2, (x,0,l))"
   ]
  },
  {
   "cell_type": "code",
   "execution_count": null,
   "id": "52da22a7",
   "metadata": {},
   "outputs": [],
   "source": []
  },
  {
   "cell_type": "code",
   "execution_count": 50,
   "id": "5e701f44",
   "metadata": {},
   "outputs": [],
   "source": [
    "K_max = 0.5*m_hat*omega0**2*v0**2*l/2"
   ]
  },
  {
   "cell_type": "code",
   "execution_count": 51,
   "id": "a33829f4",
   "metadata": {},
   "outputs": [],
   "source": [
    "omega0_1=solve(U_max-K_max, [omega0])[1]"
   ]
  },
  {
   "cell_type": "code",
   "execution_count": 52,
   "id": "1c6de4be",
   "metadata": {},
   "outputs": [
    {
     "data": {
      "text/latex": [
       "$\\displaystyle \\frac{9.86960440108936 \\sqrt{\\frac{EI}{m_{hat}}}}{l^{2}}$"
      ],
      "text/plain": [
       "9.86960440108936*sqrt(EI/m_hat)/l**2"
      ]
     },
     "execution_count": 52,
     "metadata": {},
     "output_type": "execute_result"
    }
   ],
   "source": [
    "omega0_1"
   ]
  },
  {
   "cell_type": "code",
   "execution_count": 53,
   "id": "d493a227",
   "metadata": {},
   "outputs": [],
   "source": [
    "omega0_=sqrt(192*EI/(l**4*f1*m_hat))"
   ]
  },
  {
   "cell_type": "code",
   "execution_count": 54,
   "id": "f40fd7e8",
   "metadata": {},
   "outputs": [
    {
     "data": {
      "text/plain": [
       "[1.97106859289939]"
      ]
     },
     "execution_count": 54,
     "metadata": {},
     "output_type": "execute_result"
    }
   ],
   "source": [
    "solve(omega0_1 - omega0_, [f1])"
   ]
  },
  {
   "cell_type": "code",
   "execution_count": null,
   "id": "b8b3590f",
   "metadata": {},
   "outputs": [],
   "source": []
  }
 ],
 "metadata": {
  "kernelspec": {
   "display_name": "Python 3 (ipykernel)",
   "language": "python",
   "name": "python3"
  },
  "language_info": {
   "codemirror_mode": {
    "name": "ipython",
    "version": 3
   },
   "file_extension": ".py",
   "mimetype": "text/x-python",
   "name": "python",
   "nbconvert_exporter": "python",
   "pygments_lexer": "ipython3",
   "version": "3.9.6"
  }
 },
 "nbformat": 4,
 "nbformat_minor": 5
}
