{
 "cells": [
  {
   "cell_type": "code",
   "execution_count": 1,
   "id": "ea8cf690",
   "metadata": {},
   "outputs": [],
   "source": [
    "# Not validated solutions"
   ]
  },
  {
   "cell_type": "markdown",
   "id": "f36571a1",
   "metadata": {},
   "source": [
    "### ex. 5.1"
   ]
  },
  {
   "cell_type": "code",
   "execution_count": 2,
   "id": "44b9d69f",
   "metadata": {},
   "outputs": [],
   "source": [
    "import numpy as np"
   ]
  },
  {
   "cell_type": "code",
   "execution_count": 3,
   "id": "34ed7bcb",
   "metadata": {},
   "outputs": [],
   "source": [
    "D = 2.5\n",
    "m = 2000\n",
    "rho_w = 64\n",
    "# no friction of water \n",
    "CM = 0\n",
    "g = 9.81*3.28084\n",
    "# v - displacement\n",
    "# restoring force dW equals weight of the water displaced by the motion v"
   ]
  },
  {
   "cell_type": "code",
   "execution_count": 4,
   "id": "6bf0ee58",
   "metadata": {},
   "outputs": [],
   "source": [
    "# dW=pi*(D/2)**2*v*rho_w"
   ]
  },
  {
   "cell_type": "code",
   "execution_count": 5,
   "id": "529030e8",
   "metadata": {},
   "outputs": [],
   "source": [
    "# equation of motion \n",
    "# mg-(mg+dW)=m*ddv\n",
    "# 2000*g-(2000*g+pi*(D/2)**2*v*rho_w)=2000*ddv\n",
    "# 2000*ddv+pi*(D/2)**2*rho_w*v=0"
   ]
  },
  {
   "cell_type": "code",
   "execution_count": 6,
   "id": "c4083769",
   "metadata": {},
   "outputs": [],
   "source": [
    "omega = np.sqrt(np.pi*(D/2)**2*rho_w/2000)"
   ]
  },
  {
   "cell_type": "code",
   "execution_count": 7,
   "id": "61e919f5",
   "metadata": {},
   "outputs": [
    {
     "data": {
      "text/plain": [
       "0.3963327297606011"
      ]
     },
     "execution_count": 7,
     "metadata": {},
     "output_type": "execute_result"
    }
   ],
   "source": [
    "omega"
   ]
  },
  {
   "cell_type": "code",
   "execution_count": 8,
   "id": "80722b12",
   "metadata": {},
   "outputs": [],
   "source": [
    "T = 2*np.pi/omega"
   ]
  },
  {
   "cell_type": "code",
   "execution_count": 9,
   "id": "1df0c434",
   "metadata": {},
   "outputs": [
    {
     "data": {
      "text/plain": [
       "15.853309190424044"
      ]
     },
     "execution_count": 9,
     "metadata": {},
     "output_type": "execute_result"
    }
   ],
   "source": [
    "T"
   ]
  },
  {
   "cell_type": "code",
   "execution_count": null,
   "id": "3d7bd340",
   "metadata": {},
   "outputs": [],
   "source": []
  },
  {
   "cell_type": "markdown",
   "id": "674b7409",
   "metadata": {},
   "source": [
    "### ex. 5.2"
   ]
  },
  {
   "cell_type": "code",
   "execution_count": 10,
   "id": "ffd329c0",
   "metadata": {},
   "outputs": [],
   "source": [
    "R = 3.5\n",
    "h = 1.75\n",
    "T = 2\n",
    "g = 9.81*3.28084\n",
    "rho_w = 64"
   ]
  },
  {
   "cell_type": "code",
   "execution_count": 11,
   "id": "25aa2a9b",
   "metadata": {},
   "outputs": [],
   "source": [
    "m = 2*np.pi*R**3*rho_w/(3*g)"
   ]
  },
  {
   "cell_type": "code",
   "execution_count": 12,
   "id": "b6dbda9a",
   "metadata": {},
   "outputs": [
    {
     "data": {
      "text/plain": [
       "178.56184393563566"
      ]
     },
     "execution_count": 12,
     "metadata": {},
     "output_type": "execute_result"
    }
   ],
   "source": [
    "m"
   ]
  },
  {
   "cell_type": "code",
   "execution_count": 13,
   "id": "b5df1b13",
   "metadata": {},
   "outputs": [],
   "source": [
    "# J0*ddtheta+m*g*h*theta=0"
   ]
  },
  {
   "cell_type": "code",
   "execution_count": 14,
   "id": "e8e092f1",
   "metadata": {},
   "outputs": [],
   "source": [
    "# omega = np.sqrt(m*g*h/J0) |=> omega**2=m*g*h/J0"
   ]
  },
  {
   "cell_type": "code",
   "execution_count": 15,
   "id": "a62591e2",
   "metadata": {},
   "outputs": [],
   "source": [
    "omega = 2*np.pi/T"
   ]
  },
  {
   "cell_type": "code",
   "execution_count": 16,
   "id": "d7c6ab57",
   "metadata": {},
   "outputs": [],
   "source": [
    "J0 = m*g*h/omega**2"
   ]
  },
  {
   "cell_type": "code",
   "execution_count": 17,
   "id": "6022c350",
   "metadata": {},
   "outputs": [],
   "source": [
    "# J0 = JG + m*h**2"
   ]
  },
  {
   "cell_type": "code",
   "execution_count": 18,
   "id": "6a79dbf4",
   "metadata": {},
   "outputs": [],
   "source": [
    "JG = J0-m*h**2"
   ]
  },
  {
   "cell_type": "code",
   "execution_count": 19,
   "id": "c9140c27",
   "metadata": {},
   "outputs": [
    {
     "data": {
      "text/plain": [
       "472.1704019168243"
      ]
     },
     "execution_count": 19,
     "metadata": {},
     "output_type": "execute_result"
    }
   ],
   "source": [
    "JG"
   ]
  },
  {
   "cell_type": "code",
   "execution_count": null,
   "id": "b4d57792",
   "metadata": {},
   "outputs": [],
   "source": []
  },
  {
   "cell_type": "markdown",
   "id": "6203b0cd",
   "metadata": {},
   "source": [
    "### ex. 5.3"
   ]
  },
  {
   "cell_type": "code",
   "execution_count": 20,
   "id": "6b8472ce",
   "metadata": {},
   "outputs": [],
   "source": [
    "from sympy import symbols"
   ]
  },
  {
   "cell_type": "code",
   "execution_count": 21,
   "id": "e4188cb1",
   "metadata": {},
   "outputs": [],
   "source": [
    "# J0*ddtheta+m*g*h*theta=0"
   ]
  },
  {
   "cell_type": "code",
   "execution_count": 22,
   "id": "e24750ee",
   "metadata": {},
   "outputs": [],
   "source": [
    "# J0 = JG + m*h**2"
   ]
  },
  {
   "cell_type": "code",
   "execution_count": 23,
   "id": "4e877141",
   "metadata": {},
   "outputs": [],
   "source": [
    "# JG = m0*a**2/6 , where a - side of a square"
   ]
  },
  {
   "cell_type": "code",
   "execution_count": 24,
   "id": "7b0badb6",
   "metadata": {},
   "outputs": [],
   "source": [
    "a = 60\n",
    "h = 3.5\n",
    "g = 9.81*3.28084"
   ]
  },
  {
   "cell_type": "code",
   "execution_count": 25,
   "id": "a8291e51",
   "metadata": {},
   "outputs": [],
   "source": [
    "m0 = symbols('m_0')"
   ]
  },
  {
   "cell_type": "code",
   "execution_count": 26,
   "id": "9da71cf6",
   "metadata": {},
   "outputs": [],
   "source": [
    "J0 = m0*a**2/6+m0*h**2"
   ]
  },
  {
   "cell_type": "code",
   "execution_count": 27,
   "id": "4b5506a7",
   "metadata": {},
   "outputs": [
    {
     "data": {
      "text/latex": [
       "$\\displaystyle 612.25 m_{0}$"
      ],
      "text/plain": [
       "612.25*m_0"
      ]
     },
     "execution_count": 27,
     "metadata": {},
     "output_type": "execute_result"
    }
   ],
   "source": [
    "J0"
   ]
  },
  {
   "cell_type": "code",
   "execution_count": 28,
   "id": "d8ca07db",
   "metadata": {},
   "outputs": [],
   "source": [
    "omega = np.sqrt(float(m0*g*h/J0))"
   ]
  },
  {
   "cell_type": "code",
   "execution_count": 29,
   "id": "88e1a30b",
   "metadata": {},
   "outputs": [
    {
     "data": {
      "text/plain": [
       "0.4289401058110719"
      ]
     },
     "execution_count": 29,
     "metadata": {},
     "output_type": "execute_result"
    }
   ],
   "source": [
    "omega"
   ]
  },
  {
   "cell_type": "code",
   "execution_count": 30,
   "id": "cb3eda51",
   "metadata": {},
   "outputs": [],
   "source": [
    "T = 2*np.pi/omega"
   ]
  },
  {
   "cell_type": "code",
   "execution_count": 31,
   "id": "b1c92807",
   "metadata": {},
   "outputs": [
    {
     "data": {
      "text/plain": [
       "14.648164678606753"
      ]
     },
     "execution_count": 31,
     "metadata": {},
     "output_type": "execute_result"
    }
   ],
   "source": [
    "T"
   ]
  },
  {
   "cell_type": "code",
   "execution_count": null,
   "id": "4c0a1b6e",
   "metadata": {},
   "outputs": [],
   "source": []
  }
 ],
 "metadata": {
  "kernelspec": {
   "display_name": "Python 3 (ipykernel)",
   "language": "python",
   "name": "python3"
  },
  "language_info": {
   "codemirror_mode": {
    "name": "ipython",
    "version": 3
   },
   "file_extension": ".py",
   "mimetype": "text/x-python",
   "name": "python",
   "nbconvert_exporter": "python",
   "pygments_lexer": "ipython3",
   "version": "3.9.6"
  }
 },
 "nbformat": 4,
 "nbformat_minor": 5
}
