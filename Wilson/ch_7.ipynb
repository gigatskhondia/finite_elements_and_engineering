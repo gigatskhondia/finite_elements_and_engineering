{
 "cells": [
  {
   "cell_type": "code",
   "execution_count": 1,
   "id": "1ecf16e0",
   "metadata": {},
   "outputs": [],
   "source": [
    "# Not validated solutions"
   ]
  },
  {
   "cell_type": "code",
   "execution_count": 2,
   "id": "1cd5db95",
   "metadata": {},
   "outputs": [],
   "source": [
    "from sympy import *"
   ]
  },
  {
   "cell_type": "markdown",
   "id": "62141917",
   "metadata": {},
   "source": [
    "### ex.7.1"
   ]
  },
  {
   "cell_type": "code",
   "execution_count": 3,
   "id": "d26151ad",
   "metadata": {},
   "outputs": [],
   "source": [
    "pi, sigma_y, y = symbols('pi, sigma_y, y')"
   ]
  },
  {
   "cell_type": "code",
   "execution_count": 4,
   "id": "5f34ead8",
   "metadata": {},
   "outputs": [
    {
     "data": {
      "text/latex": [
       "$\\displaystyle \\frac{\\sqrt{\\pi} \\operatorname{erf}{\\left(\\frac{\\sqrt{2} \\sigma_{y} \\sqrt{\\frac{1}{\\sigma_{y}^{2}}}}{2} \\right)}}{\\sqrt{\\pi \\sigma_{y}^{2}} \\sqrt{\\frac{1}{\\sigma_{y}^{2}}}}$"
      ],
      "text/plain": [
       "sqrt(pi)*erf(sqrt(2)*sigma_y*sqrt(sigma_y**(-2))/2)/(sqrt(pi*sigma_y**2)*sqrt(sigma_y**(-2)))"
      ]
     },
     "execution_count": 4,
     "metadata": {},
     "output_type": "execute_result"
    }
   ],
   "source": [
    "1/sqrt(2*pi*sigma_y**2)*integrate(exp(-y**2/(2*sigma_y**2)), (y,-sigma_y,sigma_y))"
   ]
  },
  {
   "cell_type": "code",
   "execution_count": 5,
   "id": "d96ecd5c",
   "metadata": {},
   "outputs": [
    {
     "data": {
      "text/latex": [
       "$\\displaystyle 0.317310507862914$"
      ],
      "text/plain": [
       "0.317310507862914"
      ]
     },
     "execution_count": 5,
     "metadata": {},
     "output_type": "execute_result"
    }
   ],
   "source": [
    "1-erf(sqrt(2)/2).evalf()"
   ]
  },
  {
   "cell_type": "code",
   "execution_count": 6,
   "id": "b65224ea",
   "metadata": {},
   "outputs": [
    {
     "data": {
      "text/latex": [
       "$\\displaystyle \\frac{\\sqrt{\\pi} \\operatorname{erf}{\\left(\\sqrt{2} \\sigma_{y} \\sqrt{\\frac{1}{\\sigma_{y}^{2}}} \\right)}}{\\sqrt{\\pi \\sigma_{y}^{2}} \\sqrt{\\frac{1}{\\sigma_{y}^{2}}}}$"
      ],
      "text/plain": [
       "sqrt(pi)*erf(sqrt(2)*sigma_y*sqrt(sigma_y**(-2)))/(sqrt(pi*sigma_y**2)*sqrt(sigma_y**(-2)))"
      ]
     },
     "execution_count": 6,
     "metadata": {},
     "output_type": "execute_result"
    }
   ],
   "source": [
    "1/sqrt(2*pi*sigma_y**2)*integrate(exp(-y**2/(2*sigma_y**2)), (y,-2*sigma_y,2*sigma_y))"
   ]
  },
  {
   "cell_type": "code",
   "execution_count": 7,
   "id": "0b54a17a",
   "metadata": {},
   "outputs": [
    {
     "data": {
      "text/latex": [
       "$\\displaystyle 0.0455002638963584$"
      ],
      "text/plain": [
       "0.0455002638963584"
      ]
     },
     "execution_count": 7,
     "metadata": {},
     "output_type": "execute_result"
    }
   ],
   "source": [
    "1-erf(sqrt(2)).evalf()"
   ]
  },
  {
   "cell_type": "code",
   "execution_count": null,
   "id": "953ffdca",
   "metadata": {},
   "outputs": [],
   "source": []
  },
  {
   "cell_type": "markdown",
   "id": "67bd893f",
   "metadata": {},
   "source": [
    "### ex.7.2"
   ]
  },
  {
   "cell_type": "markdown",
   "id": "7eeb1542",
   "metadata": {},
   "source": [
    "#### b)."
   ]
  },
  {
   "cell_type": "code",
   "execution_count": 8,
   "id": "da509cca",
   "metadata": {},
   "outputs": [],
   "source": [
    "a, sigma_a = symbols('a, sigma_y')"
   ]
  },
  {
   "cell_type": "code",
   "execution_count": 9,
   "id": "240999a1",
   "metadata": {},
   "outputs": [
    {
     "data": {
      "text/plain": [
       "[-sigma_y, sigma_y]"
      ]
     },
     "execution_count": 9,
     "metadata": {},
     "output_type": "execute_result"
    }
   ],
   "source": [
    "solve(diff(a/sigma_a**2*exp(-a**2/(2*sigma_a**2)),a), a)"
   ]
  },
  {
   "cell_type": "code",
   "execution_count": null,
   "id": "f88a91ae",
   "metadata": {},
   "outputs": [],
   "source": []
  },
  {
   "cell_type": "markdown",
   "id": "175fc5ac",
   "metadata": {},
   "source": [
    "#### c)."
   ]
  },
  {
   "cell_type": "code",
   "execution_count": 10,
   "id": "813aeb0c",
   "metadata": {},
   "outputs": [
    {
     "data": {
      "text/latex": [
       "$\\displaystyle - e^{- \\frac{a^{2}}{2 \\sigma_{y}^{2}}}$"
      ],
      "text/plain": [
       "-exp(-a**2/(2*sigma_y**2))"
      ]
     },
     "execution_count": 10,
     "metadata": {},
     "output_type": "execute_result"
    }
   ],
   "source": [
    "integrate(a/sigma_a**2*exp(-a**2/(2*sigma_a**2)),a)"
   ]
  },
  {
   "cell_type": "code",
   "execution_count": 11,
   "id": "06c38f2a",
   "metadata": {},
   "outputs": [
    {
     "data": {
      "text/latex": [
       "$\\displaystyle 0.135335283236613$"
      ],
      "text/plain": [
       "0.135335283236613"
      ]
     },
     "execution_count": 11,
     "metadata": {},
     "output_type": "execute_result"
    }
   ],
   "source": [
    "1-integrate(a/sigma_a**2*exp(-a**2/(2*sigma_a**2)), (a,0,2*sigma_y)).evalf()"
   ]
  },
  {
   "cell_type": "code",
   "execution_count": 12,
   "id": "4ececb5a",
   "metadata": {},
   "outputs": [
    {
     "data": {
      "text/latex": [
       "$\\displaystyle 0.0111089965382423$"
      ],
      "text/plain": [
       "0.0111089965382423"
      ]
     },
     "execution_count": 12,
     "metadata": {},
     "output_type": "execute_result"
    }
   ],
   "source": [
    "1-integrate(a/sigma_a**2*exp(-a**2/(2*sigma_a**2)), (a,0,3*sigma_y)).evalf()"
   ]
  },
  {
   "cell_type": "code",
   "execution_count": null,
   "id": "6dd0951a",
   "metadata": {},
   "outputs": [],
   "source": []
  },
  {
   "cell_type": "markdown",
   "id": "c77ecf76",
   "metadata": {},
   "source": [
    "### ex. 7.3"
   ]
  },
  {
   "cell_type": "markdown",
   "id": "2e950870",
   "metadata": {},
   "source": [
    "To generate a probability density function (PDF) (p(y)) from a digital time history (y(t_n)), you can follow these steps:\n",
    "\n",
    "Steps to Generate the PDF ( p(y) )\n",
    "1. Collect Data: Ensure you have the time series data ( y(t_n) ) at even time increments.\n",
    "2. Histogram Construction:\n",
    "- Divide the range of ( y ) into a number of bins.\n",
    "- Count the number of data points ( y(t_n) ) that fall into each bin to create a histogram.\n",
    "3. Normalize the Histogram:\n",
    "- Convert the histogram into a probability density function by dividing the count in each bin by the total number of data points and the bin width.\n",
    "\n",
    "\n",
    "Checking if ( p(y) ) is Gaussian\n",
    "1. Visual Inspection:\n",
    "- Plot the PDF ( p(y) ) and visually compare it to the shape of a Gaussian distribution.\n",
    "2. Statistical Tests:\n",
    "- Kolmogorov-Smirnov Test: Compare the empirical distribution of ( y(t_n) ) with a Gaussian distribution"
   ]
  },
  {
   "cell_type": "code",
   "execution_count": null,
   "id": "87bf9c8f",
   "metadata": {},
   "outputs": [],
   "source": []
  },
  {
   "cell_type": "markdown",
   "id": "5e5c333f",
   "metadata": {},
   "source": [
    "### ex. 7.4"
   ]
  },
  {
   "cell_type": "markdown",
   "id": "123bf6ec",
   "metadata": {},
   "source": [
    "#### a)."
   ]
  },
  {
   "cell_type": "code",
   "execution_count": 13,
   "id": "1f4645b9",
   "metadata": {},
   "outputs": [],
   "source": [
    "# by  eq. like 7.22 and 7.50 and Fig. 7.7 (middle) and definition of integral "
   ]
  },
  {
   "cell_type": "markdown",
   "id": "4cf46fd1",
   "metadata": {},
   "source": [
    "#### b)."
   ]
  },
  {
   "cell_type": "code",
   "execution_count": 14,
   "id": "8f0284f9",
   "metadata": {},
   "outputs": [],
   "source": [
    "# Assumption:  expectation is constant on the interval between -tau/2 and tau/2 "
   ]
  },
  {
   "cell_type": "code",
   "execution_count": 15,
   "id": "16c930c6",
   "metadata": {},
   "outputs": [],
   "source": [
    "# then the equation follows directly form a)."
   ]
  },
  {
   "cell_type": "markdown",
   "id": "2f5c6f22",
   "metadata": {},
   "source": [
    "### ex. 7.5"
   ]
  },
  {
   "cell_type": "code",
   "execution_count": 16,
   "id": "319f4bc3",
   "metadata": {},
   "outputs": [],
   "source": [
    "omega = symbols('omega')"
   ]
  },
  {
   "cell_type": "code",
   "execution_count": 17,
   "id": "52d27f8d",
   "metadata": {},
   "outputs": [],
   "source": [
    "S=8.40/omega**5*exp(-0.0138/omega**4)"
   ]
  },
  {
   "cell_type": "code",
   "execution_count": 18,
   "id": "2edec214",
   "metadata": {},
   "outputs": [
    {
     "data": {
      "text/latex": [
       "$\\displaystyle 15.0334192323$"
      ],
      "text/plain": [
       "15.0334192323000"
      ]
     },
     "execution_count": 18,
     "metadata": {},
     "output_type": "execute_result"
    }
   ],
   "source": [
    "4*integrate(S, (omega,0,2))**0.5*0.3048"
   ]
  },
  {
   "cell_type": "code",
   "execution_count": null,
   "id": "6c84119d",
   "metadata": {},
   "outputs": [],
   "source": []
  },
  {
   "cell_type": "markdown",
   "id": "919de986",
   "metadata": {},
   "source": [
    "### ex. 7.6"
   ]
  },
  {
   "cell_type": "code",
   "execution_count": 19,
   "id": "8b3796b8",
   "metadata": {},
   "outputs": [],
   "source": [
    "from scipy.integrate import quad\n",
    "import numpy as np"
   ]
  },
  {
   "cell_type": "code",
   "execution_count": 20,
   "id": "8c4a4e95",
   "metadata": {},
   "outputs": [],
   "source": [
    "S0 = 1.6e11\n",
    "k1 = 8.18e5\n",
    "c1 = 6.01e4\n",
    "m = 4.42e5"
   ]
  },
  {
   "cell_type": "code",
   "execution_count": 21,
   "id": "06c46bae",
   "metadata": {},
   "outputs": [],
   "source": [
    "def f(omega):\n",
    "    return 2*S0/((k1-m*omega**2)**2+c1**2*omega**2)"
   ]
  },
  {
   "cell_type": "markdown",
   "id": "3b06a266",
   "metadata": {},
   "source": [
    "#### a)."
   ]
  },
  {
   "cell_type": "code",
   "execution_count": 22,
   "id": "aab7087a",
   "metadata": {},
   "outputs": [],
   "source": [
    "I = quad(f, 0.16,1.6)"
   ]
  },
  {
   "cell_type": "code",
   "execution_count": 23,
   "id": "5b19398d",
   "metadata": {},
   "outputs": [
    {
     "data": {
      "text/plain": [
       "(9.580709468172802, 2.7881853460892127e-11)"
      ]
     },
     "execution_count": 23,
     "metadata": {},
     "output_type": "execute_result"
    }
   ],
   "source": [
    "I"
   ]
  },
  {
   "cell_type": "markdown",
   "id": "1a9ca5c8",
   "metadata": {},
   "source": [
    "#### b)."
   ]
  },
  {
   "cell_type": "code",
   "execution_count": 24,
   "id": "0f316576",
   "metadata": {},
   "outputs": [],
   "source": [
    "I = quad(f, 0, 1.6)"
   ]
  },
  {
   "cell_type": "code",
   "execution_count": 25,
   "id": "f3364f9a",
   "metadata": {},
   "outputs": [
    {
     "data": {
      "text/plain": [
       "(9.657938317216155, 3.3679823591359825e-10)"
      ]
     },
     "execution_count": 25,
     "metadata": {},
     "output_type": "execute_result"
    }
   ],
   "source": [
    "I"
   ]
  },
  {
   "cell_type": "markdown",
   "id": "e3e0541e",
   "metadata": {},
   "source": [
    "#### c)."
   ]
  },
  {
   "cell_type": "code",
   "execution_count": 26,
   "id": "8754b0af",
   "metadata": {},
   "outputs": [
    {
     "data": {
      "text/plain": [
       "10.224500009649095"
      ]
     },
     "execution_count": 26,
     "metadata": {},
     "output_type": "execute_result"
    }
   ],
   "source": [
    "np.pi*S0/(k1*c1)"
   ]
  },
  {
   "cell_type": "code",
   "execution_count": null,
   "id": "e0fb7e02",
   "metadata": {},
   "outputs": [],
   "source": []
  },
  {
   "cell_type": "markdown",
   "id": "5b42a8b6",
   "metadata": {},
   "source": [
    "The difference in the results is because S0 is a one-sided spectrum and it is assumed that the undamped frequency omega0 of the single degree of freedom system is within the defined frequency band of equations 7.62 ?"
   ]
  },
  {
   "cell_type": "code",
   "execution_count": null,
   "id": "ea1d0123",
   "metadata": {},
   "outputs": [],
   "source": []
  },
  {
   "cell_type": "markdown",
   "id": "9a130fc6",
   "metadata": {},
   "source": [
    "### ex. 7.7"
   ]
  },
  {
   "cell_type": "markdown",
   "id": "ac1999a7",
   "metadata": {},
   "source": [
    "#### a)."
   ]
  },
  {
   "cell_type": "code",
   "execution_count": 27,
   "id": "d37bceee",
   "metadata": {},
   "outputs": [],
   "source": [
    "E=30e6\n",
    "I=2.114e6\n",
    "l=3180"
   ]
  },
  {
   "cell_type": "code",
   "execution_count": 28,
   "id": "2a7c3dad",
   "metadata": {},
   "outputs": [],
   "source": [
    "P_E=3*np.pi**2*E*I/l**2"
   ]
  },
  {
   "cell_type": "code",
   "execution_count": 29,
   "id": "69325187",
   "metadata": {},
   "outputs": [
    {
     "data": {
      "text/plain": [
       "185691916.19707105"
      ]
     },
     "execution_count": 29,
     "metadata": {},
     "output_type": "execute_result"
    }
   ],
   "source": [
    "P_E"
   ]
  },
  {
   "cell_type": "code",
   "execution_count": 30,
   "id": "18f30edd",
   "metadata": {},
   "outputs": [],
   "source": [
    "md_g=5e7"
   ]
  },
  {
   "cell_type": "code",
   "execution_count": 31,
   "id": "9e436085",
   "metadata": {},
   "outputs": [
    {
     "data": {
      "text/plain": [
       "0.2692632023191361"
      ]
     },
     "execution_count": 31,
     "metadata": {},
     "output_type": "execute_result"
    }
   ],
   "source": [
    "md_g/P_E"
   ]
  },
  {
   "cell_type": "code",
   "execution_count": 32,
   "id": "d8e7d393",
   "metadata": {},
   "outputs": [
    {
     "data": {
      "text/plain": [
       "0.05492969327310376"
      ]
     },
     "execution_count": 32,
     "metadata": {},
     "output_type": "execute_result"
    }
   ],
   "source": [
    "1.02e7/P_E"
   ]
  },
  {
   "cell_type": "code",
   "execution_count": 33,
   "id": "3180d86d",
   "metadata": {},
   "outputs": [],
   "source": [
    "# Increase in deck weight will increase the chance of structural buckling"
   ]
  },
  {
   "cell_type": "markdown",
   "id": "24fb6c2d",
   "metadata": {},
   "source": [
    "#### b)."
   ]
  },
  {
   "cell_type": "code",
   "execution_count": 34,
   "id": "51634a0d",
   "metadata": {},
   "outputs": [],
   "source": [
    "E=30e6\n",
    "I=2.114e6\n",
    "l=3180\n",
    "md_g=5e7\n",
    "g=32.174049\n",
    "m_hat=1417/g\n",
    "m0_hat=237/g\n",
    "d=2880"
   ]
  },
  {
   "cell_type": "code",
   "execution_count": 35,
   "id": "c791070c",
   "metadata": {},
   "outputs": [],
   "source": [
    "l_1=3*d/8-l/(2*np.pi)*np.sin(np.pi*d/l)+l/(16*np.pi)*np.sin(2*np.pi*d/l)"
   ]
  },
  {
   "cell_type": "code",
   "execution_count": 36,
   "id": "61596ad6",
   "metadata": {},
   "outputs": [],
   "source": [
    "l_2=3*(l-d)/8+l/(2*np.pi)*np.sin(np.pi*d/l)-l/(16*np.pi)*np.sin(2*np.pi*d/l)"
   ]
  },
  {
   "cell_type": "code",
   "execution_count": 37,
   "id": "27b177df",
   "metadata": {},
   "outputs": [],
   "source": [
    "omega0=np.sqrt((((3*np.pi**2*E*I/l**2-md_g)*np.pi**2)/(8*l))/(3*m_hat*l_1+3*m0_hat*l_2+md_g/g))"
   ]
  },
  {
   "cell_type": "code",
   "execution_count": 38,
   "id": "872a26a6",
   "metadata": {},
   "outputs": [
    {
     "data": {
      "text/plain": [
       "0.17706512949953054"
      ]
     },
     "execution_count": 38,
     "metadata": {},
     "output_type": "execute_result"
    }
   ],
   "source": [
    "omega0"
   ]
  },
  {
   "cell_type": "code",
   "execution_count": 39,
   "id": "1764ea9e",
   "metadata": {},
   "outputs": [],
   "source": [
    "k1=192*E*I/l**3"
   ]
  },
  {
   "cell_type": "code",
   "execution_count": 40,
   "id": "9fa0f2a5",
   "metadata": {},
   "outputs": [
    {
     "data": {
      "text/plain": [
       "378657.10172379436"
      ]
     },
     "execution_count": 40,
     "metadata": {},
     "output_type": "execute_result"
    }
   ],
   "source": [
    "k1"
   ]
  },
  {
   "cell_type": "code",
   "execution_count": 41,
   "id": "756d955e",
   "metadata": {},
   "outputs": [],
   "source": [
    "m=k1/omega0**2"
   ]
  },
  {
   "cell_type": "code",
   "execution_count": 42,
   "id": "f2a99c6e",
   "metadata": {},
   "outputs": [
    {
     "data": {
      "text/plain": [
       "12077582.803203296"
      ]
     },
     "execution_count": 42,
     "metadata": {},
     "output_type": "execute_result"
    }
   ],
   "source": [
    "m"
   ]
  },
  {
   "cell_type": "code",
   "execution_count": 43,
   "id": "094232fd",
   "metadata": {},
   "outputs": [],
   "source": [
    "zeta=0.05"
   ]
  },
  {
   "cell_type": "code",
   "execution_count": 44,
   "id": "252676b6",
   "metadata": {},
   "outputs": [],
   "source": [
    "c1=2*zeta*np.sqrt(k1*m)"
   ]
  },
  {
   "cell_type": "code",
   "execution_count": 45,
   "id": "fe061fd0",
   "metadata": {},
   "outputs": [
    {
     "data": {
      "text/plain": [
       "21.385187630904944"
      ]
     },
     "execution_count": 45,
     "metadata": {},
     "output_type": "execute_result"
    }
   ],
   "source": [
    "c1/1e4"
   ]
  },
  {
   "cell_type": "code",
   "execution_count": null,
   "id": "1a628e10",
   "metadata": {},
   "outputs": [],
   "source": []
  },
  {
   "cell_type": "markdown",
   "id": "92506502",
   "metadata": {},
   "source": [
    "#### c)."
   ]
  },
  {
   "cell_type": "code",
   "execution_count": 46,
   "id": "e4173570",
   "metadata": {},
   "outputs": [],
   "source": [
    "rho_g=64.3\n",
    "D=12\n",
    "CM=2"
   ]
  },
  {
   "cell_type": "code",
   "execution_count": 47,
   "id": "7eea0d5d",
   "metadata": {},
   "outputs": [],
   "source": [
    "def sigma2(omega):\n",
    "    return (3*np.pi/8*rho_g*D**2*CM)**2*8.4*np.exp(-0.0138/omega**4)/(omega**5*((k1-m*omega**2)**2+c1**2*omega**2))"
   ]
  },
  {
   "cell_type": "code",
   "execution_count": 48,
   "id": "4fee56da",
   "metadata": {},
   "outputs": [],
   "source": [
    "I = quad(f, 0.16,1.6)"
   ]
  },
  {
   "cell_type": "code",
   "execution_count": 49,
   "id": "500de661",
   "metadata": {},
   "outputs": [
    {
     "data": {
      "text/plain": [
       "(5.018676944758482, 9.614836924602436e-12)"
      ]
     },
     "execution_count": 49,
     "metadata": {},
     "output_type": "execute_result"
    }
   ],
   "source": [
    "I"
   ]
  },
  {
   "cell_type": "code",
   "execution_count": null,
   "id": "70a24148",
   "metadata": {},
   "outputs": [],
   "source": []
  },
  {
   "cell_type": "markdown",
   "id": "bbc3d7e4",
   "metadata": {},
   "source": [
    "#### d)."
   ]
  },
  {
   "cell_type": "code",
   "execution_count": 50,
   "id": "2a654047",
   "metadata": {},
   "outputs": [
    {
     "data": {
      "text/plain": [
       "6.207413606601142"
      ]
     },
     "execution_count": 50,
     "metadata": {},
     "output_type": "execute_result"
    }
   ],
   "source": [
    "np.pi*S0/(k1*c1)"
   ]
  },
  {
   "cell_type": "code",
   "execution_count": null,
   "id": "08d88783",
   "metadata": {},
   "outputs": [],
   "source": []
  },
  {
   "cell_type": "markdown",
   "id": "1b8aa862",
   "metadata": {},
   "source": [
    "### ex.7.8"
   ]
  },
  {
   "cell_type": "markdown",
   "id": "366397c8",
   "metadata": {},
   "source": [
    "#### a)."
   ]
  },
  {
   "cell_type": "code",
   "execution_count": 51,
   "id": "65fb2e74",
   "metadata": {},
   "outputs": [],
   "source": [
    "# H = k_theta*(-J0*omega**2+j*c_theta*omega+k_theta)**(-1)"
   ]
  },
  {
   "cell_type": "markdown",
   "id": "2a89034c",
   "metadata": {},
   "source": [
    "#### b)."
   ]
  },
  {
   "cell_type": "code",
   "execution_count": 52,
   "id": "3b820fd7",
   "metadata": {},
   "outputs": [],
   "source": [
    "H, omega, k, z, d, t, pi, rho, D , l, g, x, a, h, j = symbols('H, omega, k, z, d, t, pi, rho, D, l, g, x, a, h, j')"
   ]
  },
  {
   "cell_type": "code",
   "execution_count": 53,
   "id": "2022ba1d",
   "metadata": {},
   "outputs": [],
   "source": [
    "u_dot=-H/2*omega**2*cosh(k*(z+d))/sinh(k*d)*sin(omega*t)"
   ]
  },
  {
   "cell_type": "code",
   "execution_count": 54,
   "id": "00c16532",
   "metadata": {},
   "outputs": [],
   "source": [
    "q_hat=pi/4*rho*D**2*u_dot"
   ]
  },
  {
   "cell_type": "code",
   "execution_count": 55,
   "id": "3410a6f4",
   "metadata": {},
   "outputs": [],
   "source": [
    "M0 = (l/2)*integrate(q_hat, (z,-d,l-d))"
   ]
  },
  {
   "cell_type": "code",
   "execution_count": 56,
   "id": "97db17f8",
   "metadata": {},
   "outputs": [
    {
     "data": {
      "text/latex": [
       "$\\displaystyle - \\frac{D^{2} H l \\omega^{2} \\pi \\rho \\sin{\\left(\\omega t \\right)} \\sinh{\\left(k l \\right)}}{16 k \\sinh{\\left(d k \\right)}}$"
      ],
      "text/plain": [
       "-D**2*H*l*omega**2*pi*rho*sin(omega*t)*sinh(k*l)/(16*k*sinh(d*k))"
      ]
     },
     "execution_count": 56,
     "metadata": {},
     "output_type": "execute_result"
    }
   ],
   "source": [
    "M0"
   ]
  },
  {
   "cell_type": "code",
   "execution_count": 57,
   "id": "f166251a",
   "metadata": {},
   "outputs": [],
   "source": [
    "def p(x,z,t):\n",
    "    return rho*g*H/2*cosh(k*(z+d))/cosh(k*d)*cos(k*x-omega*t)"
   ]
  },
  {
   "cell_type": "code",
   "execution_count": 58,
   "id": "4ccc53a3",
   "metadata": {},
   "outputs": [],
   "source": [
    "Mk = 2*a*integrate(simplify((p(-a,z,t)-p(a,z,t))*(z+d)), (z,-d, h-d) ) + 2*a*integrate(simplify(p(x,h-d,t)*x), (x,-a,a))"
   ]
  },
  {
   "cell_type": "code",
   "execution_count": 59,
   "id": "b18e0bbb",
   "metadata": {},
   "outputs": [
    {
     "data": {
      "text/latex": [
       "$\\displaystyle \\begin{cases} - \\frac{2 H a g \\rho \\left(\\left(a k \\cos{\\left(a k \\right)} - \\sin{\\left(a k \\right)}\\right) \\cosh{\\left(h k \\right)} + \\left(h k \\sinh{\\left(h k \\right)} - \\cosh{\\left(h k \\right)} + 1\\right) \\sin{\\left(a k \\right)}\\right) \\sin{\\left(\\omega t \\right)}}{k^{2} \\cosh{\\left(d k \\right)}} & \\text{for}\\: \\left(k > -\\infty \\vee k > 0\\right) \\wedge \\left(k > -\\infty \\vee k < \\infty\\right) \\wedge \\left(k > 0 \\vee k < 0\\right) \\wedge \\left(k < 0 \\vee k < \\infty\\right) \\\\- \\frac{2 H a g \\rho \\left(h k \\sinh{\\left(h k \\right)} - \\cosh{\\left(h k \\right)} + 1\\right) \\sin{\\left(a k \\right)} \\sin{\\left(\\omega t \\right)}}{k^{2} \\cosh{\\left(d k \\right)}} & \\text{for}\\: k \\geq 0 \\end{cases}$"
      ],
      "text/plain": [
       "Piecewise((-2*H*a*g*rho*((a*k*cos(a*k) - sin(a*k))*cosh(h*k) + (h*k*sinh(h*k) - cosh(h*k) + 1)*sin(a*k))*sin(omega*t)/(k**2*cosh(d*k)), ((k > -oo) | (k > 0)) & ((k > -oo) | (k < oo)) & ((k > 0) | (k < 0)) & ((k < 0) | (k < oo))), (-2*H*a*g*rho*(h*k*sinh(h*k) - cosh(h*k) + 1)*sin(a*k)*sin(omega*t)/(k**2*cosh(d*k)), k >= 0))"
      ]
     },
     "execution_count": 59,
     "metadata": {},
     "output_type": "execute_result"
    }
   ],
   "source": [
    "simplify(Mk)"
   ]
  },
  {
   "cell_type": "code",
   "execution_count": 60,
   "id": "4f78db51",
   "metadata": {},
   "outputs": [],
   "source": [
    "Mk_=-(2*H*a*g*rho*(h*k*sinh(h*k)-cosh(h*k)+1)*sin(a*k)*sin(omega*t))/(k**2*cosh(d*k))"
   ]
  },
  {
   "cell_type": "code",
   "execution_count": 61,
   "id": "5ef91da8",
   "metadata": {},
   "outputs": [
    {
     "data": {
      "text/latex": [
       "$\\displaystyle - \\frac{2 H a g \\rho \\left(h k \\sinh{\\left(h k \\right)} - \\cosh{\\left(h k \\right)} + 1\\right) \\sin{\\left(a k \\right)} \\sin{\\left(\\omega t \\right)}}{k^{2} \\cosh{\\left(d k \\right)}}$"
      ],
      "text/plain": [
       "-2*H*a*g*rho*(h*k*sinh(h*k) - cosh(h*k) + 1)*sin(a*k)*sin(omega*t)/(k**2*cosh(d*k))"
      ]
     },
     "execution_count": 61,
     "metadata": {},
     "output_type": "execute_result"
    }
   ],
   "source": [
    "Mk_"
   ]
  },
  {
   "cell_type": "markdown",
   "id": "44e82712",
   "metadata": {},
   "source": [
    "#### c)."
   ]
  },
  {
   "cell_type": "code",
   "execution_count": 62,
   "id": "8996e456",
   "metadata": {},
   "outputs": [],
   "source": [
    "G=simplify((M0+Mk_)/(H*sin(omega*t)))*j"
   ]
  },
  {
   "cell_type": "code",
   "execution_count": 63,
   "id": "9986d496",
   "metadata": {},
   "outputs": [
    {
     "data": {
      "text/latex": [
       "$\\displaystyle - \\frac{j \\rho \\left(D^{2} k l \\omega^{2} \\pi \\sinh{\\left(k l \\right)} \\cosh{\\left(d k \\right)} + 32 a g \\left(h k \\sinh{\\left(h k \\right)} - \\cosh{\\left(h k \\right)} + 1\\right) \\sin{\\left(a k \\right)} \\sinh{\\left(d k \\right)}\\right)}{16 k^{2} \\sinh{\\left(d k \\right)} \\cosh{\\left(d k \\right)}}$"
      ],
      "text/plain": [
       "-j*rho*(D**2*k*l*omega**2*pi*sinh(k*l)*cosh(d*k) + 32*a*g*(h*k*sinh(h*k) - cosh(h*k) + 1)*sin(a*k)*sinh(d*k))/(16*k**2*sinh(d*k)*cosh(d*k))"
      ]
     },
     "execution_count": 63,
     "metadata": {},
     "output_type": "execute_result"
    }
   ],
   "source": [
    "G"
   ]
  },
  {
   "cell_type": "code",
   "execution_count": null,
   "id": "b3859cee",
   "metadata": {},
   "outputs": [],
   "source": []
  },
  {
   "cell_type": "markdown",
   "id": "8d1b1153",
   "metadata": {},
   "source": [
    "### ex. 7.9"
   ]
  },
  {
   "cell_type": "code",
   "execution_count": 64,
   "id": "c7e50d05",
   "metadata": {},
   "outputs": [],
   "source": [
    "# a) and b)"
   ]
  },
  {
   "cell_type": "code",
   "execution_count": 65,
   "id": "4857971f",
   "metadata": {},
   "outputs": [],
   "source": [
    "# m -> J0 , [N*m*s**2]\n",
    "# k1 -> k_theta , [rad**2*N*m]\n",
    "# c1 -> c_theta, [N*m*rad*s]"
   ]
  },
  {
   "cell_type": "code",
   "execution_count": 66,
   "id": "7ea2b8b6",
   "metadata": {},
   "outputs": [],
   "source": [
    "# S_eta(omega) , [m**2*s/rad]\n",
    "# G(omega), [rad**2*N] "
   ]
  },
  {
   "cell_type": "code",
   "execution_count": 67,
   "id": "97f3e493",
   "metadata": {},
   "outputs": [],
   "source": [
    "# S_theta, [s/rad] in accord with eq. 7.51 considering the above"
   ]
  },
  {
   "cell_type": "code",
   "execution_count": 68,
   "id": "57f4fa89",
   "metadata": {},
   "outputs": [],
   "source": [
    "# sigma2__theta, [-] in accord with eq. 7.52 considering the above"
   ]
  },
  {
   "cell_type": "code",
   "execution_count": null,
   "id": "2630e8a4",
   "metadata": {},
   "outputs": [],
   "source": []
  },
  {
   "cell_type": "markdown",
   "id": "fa7a7e79",
   "metadata": {},
   "source": [
    "### ex. 7.10"
   ]
  },
  {
   "cell_type": "code",
   "execution_count": 69,
   "id": "aeb6a201",
   "metadata": {},
   "outputs": [],
   "source": [
    "import math"
   ]
  },
  {
   "cell_type": "markdown",
   "id": "d6111a4b",
   "metadata": {},
   "source": [
    "#### a)"
   ]
  },
  {
   "cell_type": "code",
   "execution_count": 70,
   "id": "88c2dfcc",
   "metadata": {},
   "outputs": [],
   "source": [
    "Gs=10e6\n",
    "omega=omega0=1.41\n",
    "vi=0.33\n",
    "r0=45\n",
    "rho_s=2000"
   ]
  },
  {
   "cell_type": "code",
   "execution_count": 71,
   "id": "49b2725b",
   "metadata": {},
   "outputs": [],
   "source": [
    "k_theta = 8*Gs/(3*(1-vi))*(1-0.215*omega*r0*math.sqrt(rho_s/Gs))*r0**3"
   ]
  },
  {
   "cell_type": "code",
   "execution_count": 72,
   "id": "4eb4683c",
   "metadata": {},
   "outputs": [
    {
     "data": {
      "text/plain": [
       "2927158129690.4077"
      ]
     },
     "execution_count": 72,
     "metadata": {},
     "output_type": "execute_result"
    }
   ],
   "source": [
    "k_theta"
   ]
  },
  {
   "cell_type": "code",
   "execution_count": 73,
   "id": "fc595b79",
   "metadata": {},
   "outputs": [],
   "source": [
    "c_theta = 0.375/(1-vi)*omega*rho_s*r0**5"
   ]
  },
  {
   "cell_type": "code",
   "execution_count": 74,
   "id": "2c834abf",
   "metadata": {},
   "outputs": [
    {
     "data": {
      "text/plain": [
       "291251480876.86566"
      ]
     },
     "execution_count": 74,
     "metadata": {},
     "output_type": "execute_result"
    }
   ],
   "source": [
    "c_theta"
   ]
  },
  {
   "cell_type": "code",
   "execution_count": null,
   "id": "007464e1",
   "metadata": {},
   "outputs": [],
   "source": []
  },
  {
   "cell_type": "markdown",
   "id": "8e44d405",
   "metadata": {},
   "source": [
    "#### b)"
   ]
  },
  {
   "cell_type": "code",
   "execution_count": 75,
   "id": "4dfa2052",
   "metadata": {},
   "outputs": [],
   "source": [
    "J0=1.46e12"
   ]
  },
  {
   "cell_type": "code",
   "execution_count": 76,
   "id": "e77d0331",
   "metadata": {},
   "outputs": [],
   "source": [
    "zeta=c_theta/math.sqrt(4*k_theta*J0)"
   ]
  },
  {
   "cell_type": "code",
   "execution_count": 77,
   "id": "17285d7f",
   "metadata": {},
   "outputs": [
    {
     "data": {
      "text/plain": [
       "0.0704431270421012"
      ]
     },
     "execution_count": 77,
     "metadata": {},
     "output_type": "execute_result"
    }
   ],
   "source": [
    "zeta"
   ]
  },
  {
   "cell_type": "code",
   "execution_count": null,
   "id": "0da68949",
   "metadata": {},
   "outputs": [],
   "source": []
  },
  {
   "cell_type": "markdown",
   "id": "0faf643d",
   "metadata": {},
   "source": [
    "#### c)"
   ]
  },
  {
   "cell_type": "code",
   "execution_count": 88,
   "id": "0e4f47ef",
   "metadata": {},
   "outputs": [],
   "source": [
    "S0=1.6e11*0.453592**2"
   ]
  },
  {
   "cell_type": "code",
   "execution_count": 93,
   "id": "a3df4dc3",
   "metadata": {},
   "outputs": [],
   "source": [
    "def f1(omega):\n",
    "    return S0/((k_theta-J0*omega**2)**2+c_theta**2*omega**2)"
   ]
  },
  {
   "cell_type": "code",
   "execution_count": 94,
   "id": "20929ec5",
   "metadata": {},
   "outputs": [],
   "source": [
    "sigma2__theta = 2*quad(f1,0.16,1.60)[0]"
   ]
  },
  {
   "cell_type": "code",
   "execution_count": 95,
   "id": "5d45869c",
   "metadata": {},
   "outputs": [
    {
     "data": {
      "text/plain": [
       "5.207903520239221e-13"
      ]
     },
     "execution_count": 95,
     "metadata": {},
     "output_type": "execute_result"
    }
   ],
   "source": [
    "sigma2__theta"
   ]
  },
  {
   "cell_type": "code",
   "execution_count": null,
   "id": "f81d6da5",
   "metadata": {},
   "outputs": [],
   "source": []
  },
  {
   "cell_type": "markdown",
   "id": "0585a2cf",
   "metadata": {},
   "source": [
    "#### d)"
   ]
  },
  {
   "cell_type": "code",
   "execution_count": 82,
   "id": "39324430",
   "metadata": {},
   "outputs": [],
   "source": [
    "angle = 3*sigma2__theta"
   ]
  },
  {
   "cell_type": "code",
   "execution_count": 83,
   "id": "0a46296c",
   "metadata": {},
   "outputs": [],
   "source": [
    "fmax = k_theta*angle/3"
   ]
  },
  {
   "cell_type": "code",
   "execution_count": 84,
   "id": "c893c774",
   "metadata": {},
   "outputs": [],
   "source": [
    "Mmax = 180*fmax"
   ]
  },
  {
   "cell_type": "code",
   "execution_count": 85,
   "id": "045bfcd3",
   "metadata": {},
   "outputs": [
    {
     "data": {
      "text/plain": [
       "1.841779309397328e-11"
      ]
     },
     "execution_count": 85,
     "metadata": {},
     "output_type": "execute_result"
    }
   ],
   "source": [
    "np.rad2deg(angle)"
   ]
  },
  {
   "cell_type": "code",
   "execution_count": 86,
   "id": "4a19123a",
   "metadata": {},
   "outputs": [
    {
     "data": {
      "text/plain": [
       "0.3136460965894243"
      ]
     },
     "execution_count": 86,
     "metadata": {},
     "output_type": "execute_result"
    }
   ],
   "source": [
    "fmax"
   ]
  },
  {
   "cell_type": "code",
   "execution_count": 87,
   "id": "4b2a131c",
   "metadata": {},
   "outputs": [
    {
     "data": {
      "text/plain": [
       "56.45629738609637"
      ]
     },
     "execution_count": 87,
     "metadata": {},
     "output_type": "execute_result"
    }
   ],
   "source": [
    "Mmax"
   ]
  },
  {
   "cell_type": "code",
   "execution_count": null,
   "id": "40a430de",
   "metadata": {},
   "outputs": [],
   "source": []
  },
  {
   "cell_type": "code",
   "execution_count": null,
   "id": "b992b974",
   "metadata": {},
   "outputs": [],
   "source": []
  }
 ],
 "metadata": {
  "kernelspec": {
   "display_name": "Python 3 (ipykernel)",
   "language": "python",
   "name": "python3"
  },
  "language_info": {
   "codemirror_mode": {
    "name": "ipython",
    "version": 3
   },
   "file_extension": ".py",
   "mimetype": "text/x-python",
   "name": "python",
   "nbconvert_exporter": "python",
   "pygments_lexer": "ipython3",
   "version": "3.9.6"
  }
 },
 "nbformat": 4,
 "nbformat_minor": 5
}
