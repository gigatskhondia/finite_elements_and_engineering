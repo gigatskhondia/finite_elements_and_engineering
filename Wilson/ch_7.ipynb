{
 "cells": [
  {
   "cell_type": "code",
   "execution_count": 1,
   "id": "1ecf16e0",
   "metadata": {},
   "outputs": [],
   "source": [
    "# Not validated solutions"
   ]
  },
  {
   "cell_type": "code",
   "execution_count": 2,
   "id": "1cd5db95",
   "metadata": {},
   "outputs": [],
   "source": [
    "from sympy import *"
   ]
  },
  {
   "cell_type": "markdown",
   "id": "62141917",
   "metadata": {},
   "source": [
    "### ex.7.1"
   ]
  },
  {
   "cell_type": "code",
   "execution_count": 3,
   "id": "d26151ad",
   "metadata": {},
   "outputs": [],
   "source": [
    "pi, sigma_y, y = symbols('pi, sigma_y, y')"
   ]
  },
  {
   "cell_type": "code",
   "execution_count": 4,
   "id": "5f34ead8",
   "metadata": {},
   "outputs": [
    {
     "data": {
      "text/latex": [
       "$\\displaystyle \\frac{\\sqrt{\\pi} \\operatorname{erf}{\\left(\\frac{\\sqrt{2} \\sigma_{y} \\sqrt{\\frac{1}{\\sigma_{y}^{2}}}}{2} \\right)}}{\\sqrt{\\pi \\sigma_{y}^{2}} \\sqrt{\\frac{1}{\\sigma_{y}^{2}}}}$"
      ],
      "text/plain": [
       "sqrt(pi)*erf(sqrt(2)*sigma_y*sqrt(sigma_y**(-2))/2)/(sqrt(pi*sigma_y**2)*sqrt(sigma_y**(-2)))"
      ]
     },
     "execution_count": 4,
     "metadata": {},
     "output_type": "execute_result"
    }
   ],
   "source": [
    "1/sqrt(2*pi*sigma_y**2)*integrate(exp(-y**2/(2*sigma_y**2)), (y,-sigma_y,sigma_y))"
   ]
  },
  {
   "cell_type": "code",
   "execution_count": 5,
   "id": "d96ecd5c",
   "metadata": {},
   "outputs": [
    {
     "data": {
      "text/latex": [
       "$\\displaystyle 0.317310507862914$"
      ],
      "text/plain": [
       "0.317310507862914"
      ]
     },
     "execution_count": 5,
     "metadata": {},
     "output_type": "execute_result"
    }
   ],
   "source": [
    "1-erf(sqrt(2)/2).evalf()"
   ]
  },
  {
   "cell_type": "code",
   "execution_count": 6,
   "id": "b65224ea",
   "metadata": {},
   "outputs": [
    {
     "data": {
      "text/latex": [
       "$\\displaystyle \\frac{\\sqrt{\\pi} \\operatorname{erf}{\\left(\\sqrt{2} \\sigma_{y} \\sqrt{\\frac{1}{\\sigma_{y}^{2}}} \\right)}}{\\sqrt{\\pi \\sigma_{y}^{2}} \\sqrt{\\frac{1}{\\sigma_{y}^{2}}}}$"
      ],
      "text/plain": [
       "sqrt(pi)*erf(sqrt(2)*sigma_y*sqrt(sigma_y**(-2)))/(sqrt(pi*sigma_y**2)*sqrt(sigma_y**(-2)))"
      ]
     },
     "execution_count": 6,
     "metadata": {},
     "output_type": "execute_result"
    }
   ],
   "source": [
    "1/sqrt(2*pi*sigma_y**2)*integrate(exp(-y**2/(2*sigma_y**2)), (y,-2*sigma_y,2*sigma_y))"
   ]
  },
  {
   "cell_type": "code",
   "execution_count": 7,
   "id": "0b54a17a",
   "metadata": {},
   "outputs": [
    {
     "data": {
      "text/latex": [
       "$\\displaystyle 0.0455002638963584$"
      ],
      "text/plain": [
       "0.0455002638963584"
      ]
     },
     "execution_count": 7,
     "metadata": {},
     "output_type": "execute_result"
    }
   ],
   "source": [
    "1-erf(sqrt(2)).evalf()"
   ]
  },
  {
   "cell_type": "code",
   "execution_count": null,
   "id": "953ffdca",
   "metadata": {},
   "outputs": [],
   "source": []
  },
  {
   "cell_type": "markdown",
   "id": "67bd893f",
   "metadata": {},
   "source": [
    "### ex.7.2"
   ]
  },
  {
   "cell_type": "markdown",
   "id": "7eeb1542",
   "metadata": {},
   "source": [
    "#### b)."
   ]
  },
  {
   "cell_type": "code",
   "execution_count": 8,
   "id": "da509cca",
   "metadata": {},
   "outputs": [],
   "source": [
    "a, sigma_a = symbols('a, sigma_y')"
   ]
  },
  {
   "cell_type": "code",
   "execution_count": 9,
   "id": "240999a1",
   "metadata": {},
   "outputs": [
    {
     "data": {
      "text/plain": [
       "[-sigma_y, sigma_y]"
      ]
     },
     "execution_count": 9,
     "metadata": {},
     "output_type": "execute_result"
    }
   ],
   "source": [
    "solve(diff(a/sigma_a**2*exp(-a**2/(2*sigma_a**2)),a), a)"
   ]
  },
  {
   "cell_type": "code",
   "execution_count": null,
   "id": "f88a91ae",
   "metadata": {},
   "outputs": [],
   "source": []
  },
  {
   "cell_type": "markdown",
   "id": "175fc5ac",
   "metadata": {},
   "source": [
    "#### c)."
   ]
  },
  {
   "cell_type": "code",
   "execution_count": 10,
   "id": "813aeb0c",
   "metadata": {},
   "outputs": [
    {
     "data": {
      "text/latex": [
       "$\\displaystyle - e^{- \\frac{a^{2}}{2 \\sigma_{y}^{2}}}$"
      ],
      "text/plain": [
       "-exp(-a**2/(2*sigma_y**2))"
      ]
     },
     "execution_count": 10,
     "metadata": {},
     "output_type": "execute_result"
    }
   ],
   "source": [
    "integrate(a/sigma_a**2*exp(-a**2/(2*sigma_a**2)),a)"
   ]
  },
  {
   "cell_type": "code",
   "execution_count": 11,
   "id": "06c38f2a",
   "metadata": {},
   "outputs": [
    {
     "data": {
      "text/latex": [
       "$\\displaystyle 0.135335283236613$"
      ],
      "text/plain": [
       "0.135335283236613"
      ]
     },
     "execution_count": 11,
     "metadata": {},
     "output_type": "execute_result"
    }
   ],
   "source": [
    "1-integrate(a/sigma_a**2*exp(-a**2/(2*sigma_a**2)), (a,0,2*sigma_y)).evalf()"
   ]
  },
  {
   "cell_type": "code",
   "execution_count": 12,
   "id": "4ececb5a",
   "metadata": {},
   "outputs": [
    {
     "data": {
      "text/latex": [
       "$\\displaystyle 0.0111089965382423$"
      ],
      "text/plain": [
       "0.0111089965382423"
      ]
     },
     "execution_count": 12,
     "metadata": {},
     "output_type": "execute_result"
    }
   ],
   "source": [
    "1-integrate(a/sigma_a**2*exp(-a**2/(2*sigma_a**2)), (a,0,3*sigma_y)).evalf()"
   ]
  },
  {
   "cell_type": "code",
   "execution_count": null,
   "id": "6dd0951a",
   "metadata": {},
   "outputs": [],
   "source": []
  },
  {
   "cell_type": "markdown",
   "id": "c77ecf76",
   "metadata": {},
   "source": [
    "### ex. 7.3"
   ]
  },
  {
   "cell_type": "markdown",
   "id": "2e950870",
   "metadata": {},
   "source": [
    "To generate a probability density function (PDF) (p(y)) from a digital time history (y(t_n)), you can follow these steps:\n",
    "\n",
    "Steps to Generate the PDF ( p(y) )\n",
    "1. Collect Data: Ensure you have the time series data ( y(t_n) ) at even time increments.\n",
    "2. Histogram Construction:\n",
    "- Divide the range of ( y ) into a number of bins.\n",
    "- Count the number of data points ( y(t_n) ) that fall into each bin to create a histogram.\n",
    "3. Normalize the Histogram:\n",
    "- Convert the histogram into a probability density function by dividing the count in each bin by the total number of data points and the bin width.\n",
    "\n",
    "\n",
    "Checking if ( p(y) ) is Gaussian\n",
    "1. Visual Inspection:\n",
    "- Plot the PDF ( p(y) ) and visually compare it to the shape of a Gaussian distribution.\n",
    "2. Statistical Tests:\n",
    "- Kolmogorov-Smirnov Test: Compare the empirical distribution of ( y(t_n) ) with a Gaussian distribution"
   ]
  },
  {
   "cell_type": "code",
   "execution_count": null,
   "id": "87bf9c8f",
   "metadata": {},
   "outputs": [],
   "source": []
  }
 ],
 "metadata": {
  "kernelspec": {
   "display_name": "Python 3 (ipykernel)",
   "language": "python",
   "name": "python3"
  },
  "language_info": {
   "codemirror_mode": {
    "name": "ipython",
    "version": 3
   },
   "file_extension": ".py",
   "mimetype": "text/x-python",
   "name": "python",
   "nbconvert_exporter": "python",
   "pygments_lexer": "ipython3",
   "version": "3.9.6"
  }
 },
 "nbformat": 4,
 "nbformat_minor": 5
}
