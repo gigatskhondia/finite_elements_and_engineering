{
 "cells": [
  {
   "cell_type": "code",
   "execution_count": 1,
   "id": "1ecf16e0",
   "metadata": {},
   "outputs": [],
   "source": [
    "# Not validated solutions"
   ]
  },
  {
   "cell_type": "code",
   "execution_count": 2,
   "id": "1cd5db95",
   "metadata": {},
   "outputs": [],
   "source": [
    "from sympy import *"
   ]
  },
  {
   "cell_type": "markdown",
   "id": "62141917",
   "metadata": {},
   "source": [
    "### ex.7.1"
   ]
  },
  {
   "cell_type": "code",
   "execution_count": 3,
   "id": "d26151ad",
   "metadata": {},
   "outputs": [],
   "source": [
    "pi, sigma_y, y = symbols('pi, sigma_y, y')"
   ]
  },
  {
   "cell_type": "code",
   "execution_count": 4,
   "id": "5f34ead8",
   "metadata": {},
   "outputs": [
    {
     "data": {
      "text/latex": [
       "$\\displaystyle \\frac{\\sqrt{\\pi} \\operatorname{erf}{\\left(\\frac{\\sqrt{2} \\sigma_{y} \\sqrt{\\frac{1}{\\sigma_{y}^{2}}}}{2} \\right)}}{\\sqrt{\\pi \\sigma_{y}^{2}} \\sqrt{\\frac{1}{\\sigma_{y}^{2}}}}$"
      ],
      "text/plain": [
       "sqrt(pi)*erf(sqrt(2)*sigma_y*sqrt(sigma_y**(-2))/2)/(sqrt(pi*sigma_y**2)*sqrt(sigma_y**(-2)))"
      ]
     },
     "execution_count": 4,
     "metadata": {},
     "output_type": "execute_result"
    }
   ],
   "source": [
    "1/sqrt(2*pi*sigma_y**2)*integrate(exp(-y**2/(2*sigma_y**2)), (y,-sigma_y,sigma_y))"
   ]
  },
  {
   "cell_type": "code",
   "execution_count": 5,
   "id": "d96ecd5c",
   "metadata": {},
   "outputs": [
    {
     "data": {
      "text/latex": [
       "$\\displaystyle 0.317310507862914$"
      ],
      "text/plain": [
       "0.317310507862914"
      ]
     },
     "execution_count": 5,
     "metadata": {},
     "output_type": "execute_result"
    }
   ],
   "source": [
    "1-erf(sqrt(2)/2).evalf()"
   ]
  },
  {
   "cell_type": "code",
   "execution_count": 6,
   "id": "b65224ea",
   "metadata": {},
   "outputs": [
    {
     "data": {
      "text/latex": [
       "$\\displaystyle \\frac{\\sqrt{\\pi} \\operatorname{erf}{\\left(\\sqrt{2} \\sigma_{y} \\sqrt{\\frac{1}{\\sigma_{y}^{2}}} \\right)}}{\\sqrt{\\pi \\sigma_{y}^{2}} \\sqrt{\\frac{1}{\\sigma_{y}^{2}}}}$"
      ],
      "text/plain": [
       "sqrt(pi)*erf(sqrt(2)*sigma_y*sqrt(sigma_y**(-2)))/(sqrt(pi*sigma_y**2)*sqrt(sigma_y**(-2)))"
      ]
     },
     "execution_count": 6,
     "metadata": {},
     "output_type": "execute_result"
    }
   ],
   "source": [
    "1/sqrt(2*pi*sigma_y**2)*integrate(exp(-y**2/(2*sigma_y**2)), (y,-2*sigma_y,2*sigma_y))"
   ]
  },
  {
   "cell_type": "code",
   "execution_count": 7,
   "id": "0b54a17a",
   "metadata": {},
   "outputs": [
    {
     "data": {
      "text/latex": [
       "$\\displaystyle 0.0455002638963584$"
      ],
      "text/plain": [
       "0.0455002638963584"
      ]
     },
     "execution_count": 7,
     "metadata": {},
     "output_type": "execute_result"
    }
   ],
   "source": [
    "1-erf(sqrt(2)).evalf()"
   ]
  },
  {
   "cell_type": "code",
   "execution_count": null,
   "id": "953ffdca",
   "metadata": {},
   "outputs": [],
   "source": []
  },
  {
   "cell_type": "markdown",
   "id": "67bd893f",
   "metadata": {},
   "source": [
    "### ex.7.2"
   ]
  },
  {
   "cell_type": "markdown",
   "id": "7eeb1542",
   "metadata": {},
   "source": [
    "#### b)."
   ]
  },
  {
   "cell_type": "code",
   "execution_count": 8,
   "id": "da509cca",
   "metadata": {},
   "outputs": [],
   "source": [
    "a, sigma_a = symbols('a, sigma_y')"
   ]
  },
  {
   "cell_type": "code",
   "execution_count": 9,
   "id": "240999a1",
   "metadata": {},
   "outputs": [
    {
     "data": {
      "text/plain": [
       "[-sigma_y, sigma_y]"
      ]
     },
     "execution_count": 9,
     "metadata": {},
     "output_type": "execute_result"
    }
   ],
   "source": [
    "solve(diff(a/sigma_a**2*exp(-a**2/(2*sigma_a**2)),a), a)"
   ]
  },
  {
   "cell_type": "code",
   "execution_count": null,
   "id": "f88a91ae",
   "metadata": {},
   "outputs": [],
   "source": []
  },
  {
   "cell_type": "markdown",
   "id": "175fc5ac",
   "metadata": {},
   "source": [
    "#### c)."
   ]
  },
  {
   "cell_type": "code",
   "execution_count": 10,
   "id": "813aeb0c",
   "metadata": {},
   "outputs": [
    {
     "data": {
      "text/latex": [
       "$\\displaystyle - e^{- \\frac{a^{2}}{2 \\sigma_{y}^{2}}}$"
      ],
      "text/plain": [
       "-exp(-a**2/(2*sigma_y**2))"
      ]
     },
     "execution_count": 10,
     "metadata": {},
     "output_type": "execute_result"
    }
   ],
   "source": [
    "integrate(a/sigma_a**2*exp(-a**2/(2*sigma_a**2)),a)"
   ]
  },
  {
   "cell_type": "code",
   "execution_count": 11,
   "id": "06c38f2a",
   "metadata": {},
   "outputs": [
    {
     "data": {
      "text/latex": [
       "$\\displaystyle 0.135335283236613$"
      ],
      "text/plain": [
       "0.135335283236613"
      ]
     },
     "execution_count": 11,
     "metadata": {},
     "output_type": "execute_result"
    }
   ],
   "source": [
    "1-integrate(a/sigma_a**2*exp(-a**2/(2*sigma_a**2)), (a,0,2*sigma_y)).evalf()"
   ]
  },
  {
   "cell_type": "code",
   "execution_count": 12,
   "id": "4ececb5a",
   "metadata": {},
   "outputs": [
    {
     "data": {
      "text/latex": [
       "$\\displaystyle 0.0111089965382423$"
      ],
      "text/plain": [
       "0.0111089965382423"
      ]
     },
     "execution_count": 12,
     "metadata": {},
     "output_type": "execute_result"
    }
   ],
   "source": [
    "1-integrate(a/sigma_a**2*exp(-a**2/(2*sigma_a**2)), (a,0,3*sigma_y)).evalf()"
   ]
  },
  {
   "cell_type": "code",
   "execution_count": null,
   "id": "6dd0951a",
   "metadata": {},
   "outputs": [],
   "source": []
  },
  {
   "cell_type": "markdown",
   "id": "c77ecf76",
   "metadata": {},
   "source": [
    "### ex. 7.3"
   ]
  },
  {
   "cell_type": "markdown",
   "id": "2e950870",
   "metadata": {},
   "source": [
    "To generate a probability density function (PDF) (p(y)) from a digital time history (y(t_n)), you can follow these steps:\n",
    "\n",
    "Steps to Generate the PDF ( p(y) )\n",
    "1. Collect Data: Ensure you have the time series data ( y(t_n) ) at even time increments.\n",
    "2. Histogram Construction:\n",
    "- Divide the range of ( y ) into a number of bins.\n",
    "- Count the number of data points ( y(t_n) ) that fall into each bin to create a histogram.\n",
    "3. Normalize the Histogram:\n",
    "- Convert the histogram into a probability density function by dividing the count in each bin by the total number of data points and the bin width.\n",
    "\n",
    "\n",
    "Checking if ( p(y) ) is Gaussian\n",
    "1. Visual Inspection:\n",
    "- Plot the PDF ( p(y) ) and visually compare it to the shape of a Gaussian distribution.\n",
    "2. Statistical Tests:\n",
    "- Kolmogorov-Smirnov Test: Compare the empirical distribution of ( y(t_n) ) with a Gaussian distribution"
   ]
  },
  {
   "cell_type": "code",
   "execution_count": null,
   "id": "87bf9c8f",
   "metadata": {},
   "outputs": [],
   "source": []
  },
  {
   "cell_type": "markdown",
   "id": "5e5c333f",
   "metadata": {},
   "source": [
    "### ex. 7.4"
   ]
  },
  {
   "cell_type": "markdown",
   "id": "123bf6ec",
   "metadata": {},
   "source": [
    "#### a)."
   ]
  },
  {
   "cell_type": "code",
   "execution_count": 13,
   "id": "1f4645b9",
   "metadata": {},
   "outputs": [],
   "source": [
    "# by  eq. like 7.22 and 7.50 and Fig. 7.7 (middle) and definition of integral "
   ]
  },
  {
   "cell_type": "markdown",
   "id": "4cf46fd1",
   "metadata": {},
   "source": [
    "#### b)."
   ]
  },
  {
   "cell_type": "code",
   "execution_count": 14,
   "id": "8f0284f9",
   "metadata": {},
   "outputs": [],
   "source": [
    "# Assumption:  expectation is constant on the interval between -tau/2 and tau/2 "
   ]
  },
  {
   "cell_type": "code",
   "execution_count": 15,
   "id": "16c930c6",
   "metadata": {},
   "outputs": [],
   "source": [
    "# then the equation follows directly form a)."
   ]
  },
  {
   "cell_type": "markdown",
   "id": "2f5c6f22",
   "metadata": {},
   "source": [
    "### ex. 7.5"
   ]
  },
  {
   "cell_type": "code",
   "execution_count": 16,
   "id": "319f4bc3",
   "metadata": {},
   "outputs": [],
   "source": [
    "omega = symbols('omega')"
   ]
  },
  {
   "cell_type": "code",
   "execution_count": 17,
   "id": "52d27f8d",
   "metadata": {},
   "outputs": [],
   "source": [
    "S=8.40/omega**5*exp(-0.0138/omega**4)"
   ]
  },
  {
   "cell_type": "code",
   "execution_count": 18,
   "id": "2edec214",
   "metadata": {},
   "outputs": [
    {
     "data": {
      "text/latex": [
       "$\\displaystyle 15.0334192323$"
      ],
      "text/plain": [
       "15.0334192323000"
      ]
     },
     "execution_count": 18,
     "metadata": {},
     "output_type": "execute_result"
    }
   ],
   "source": [
    "4*integrate(S, (omega,0,2))**0.5*0.3048"
   ]
  },
  {
   "cell_type": "code",
   "execution_count": null,
   "id": "6c84119d",
   "metadata": {},
   "outputs": [],
   "source": []
  },
  {
   "cell_type": "markdown",
   "id": "919de986",
   "metadata": {},
   "source": [
    "### ex. 7.6"
   ]
  },
  {
   "cell_type": "code",
   "execution_count": 19,
   "id": "8b3796b8",
   "metadata": {},
   "outputs": [],
   "source": [
    "from scipy.integrate import quad\n",
    "import numpy as np"
   ]
  },
  {
   "cell_type": "code",
   "execution_count": 20,
   "id": "8c4a4e95",
   "metadata": {},
   "outputs": [],
   "source": [
    "S0 = 1.6e11\n",
    "k1 = 8.18e5\n",
    "c1 = 6.01e4\n",
    "m = 4.42e5"
   ]
  },
  {
   "cell_type": "code",
   "execution_count": 21,
   "id": "06c46bae",
   "metadata": {},
   "outputs": [],
   "source": [
    "def f(omega):\n",
    "    return 2*S0/((k1-m*omega**2)**2+c1**2*omega**2)"
   ]
  },
  {
   "cell_type": "markdown",
   "id": "3b06a266",
   "metadata": {},
   "source": [
    "#### a)."
   ]
  },
  {
   "cell_type": "code",
   "execution_count": 22,
   "id": "aab7087a",
   "metadata": {},
   "outputs": [],
   "source": [
    "I = quad(f, 0.16,1.6)"
   ]
  },
  {
   "cell_type": "code",
   "execution_count": 23,
   "id": "5b19398d",
   "metadata": {},
   "outputs": [
    {
     "data": {
      "text/plain": [
       "(9.580709468172802, 2.7881853460892127e-11)"
      ]
     },
     "execution_count": 23,
     "metadata": {},
     "output_type": "execute_result"
    }
   ],
   "source": [
    "I"
   ]
  },
  {
   "cell_type": "markdown",
   "id": "1a9ca5c8",
   "metadata": {},
   "source": [
    "#### b)."
   ]
  },
  {
   "cell_type": "code",
   "execution_count": 24,
   "id": "0f316576",
   "metadata": {},
   "outputs": [],
   "source": [
    "I = quad(f, 0, 1.6)"
   ]
  },
  {
   "cell_type": "code",
   "execution_count": 25,
   "id": "f3364f9a",
   "metadata": {},
   "outputs": [
    {
     "data": {
      "text/plain": [
       "(9.657938317216155, 3.3679823591359825e-10)"
      ]
     },
     "execution_count": 25,
     "metadata": {},
     "output_type": "execute_result"
    }
   ],
   "source": [
    "I"
   ]
  },
  {
   "cell_type": "markdown",
   "id": "e3e0541e",
   "metadata": {},
   "source": [
    "#### c)."
   ]
  },
  {
   "cell_type": "code",
   "execution_count": 26,
   "id": "8754b0af",
   "metadata": {},
   "outputs": [
    {
     "data": {
      "text/plain": [
       "10.224500009649095"
      ]
     },
     "execution_count": 26,
     "metadata": {},
     "output_type": "execute_result"
    }
   ],
   "source": [
    "np.pi*S0/(k1*c1)"
   ]
  },
  {
   "cell_type": "code",
   "execution_count": null,
   "id": "e0fb7e02",
   "metadata": {},
   "outputs": [],
   "source": []
  },
  {
   "cell_type": "markdown",
   "id": "5b42a8b6",
   "metadata": {},
   "source": [
    "The difference in the results is because S0 is a one-sided spectrum and it is assumed that the undamped frequency omega0 of the single degree of freedom system is within the defined frequency band of equations 7.62 ?"
   ]
  },
  {
   "cell_type": "code",
   "execution_count": null,
   "id": "ea1d0123",
   "metadata": {},
   "outputs": [],
   "source": []
  },
  {
   "cell_type": "markdown",
   "id": "9a130fc6",
   "metadata": {},
   "source": [
    "### ex. 7.7"
   ]
  },
  {
   "cell_type": "markdown",
   "id": "ac1999a7",
   "metadata": {},
   "source": [
    "#### a)."
   ]
  },
  {
   "cell_type": "code",
   "execution_count": 27,
   "id": "d37bceee",
   "metadata": {},
   "outputs": [],
   "source": [
    "E=30e6\n",
    "I=2.114e6\n",
    "l=3180"
   ]
  },
  {
   "cell_type": "code",
   "execution_count": 28,
   "id": "2a7c3dad",
   "metadata": {},
   "outputs": [],
   "source": [
    "P_E=3*np.pi**2*E*I/l**2"
   ]
  },
  {
   "cell_type": "code",
   "execution_count": 29,
   "id": "69325187",
   "metadata": {},
   "outputs": [
    {
     "data": {
      "text/plain": [
       "185691916.19707105"
      ]
     },
     "execution_count": 29,
     "metadata": {},
     "output_type": "execute_result"
    }
   ],
   "source": [
    "P_E"
   ]
  },
  {
   "cell_type": "code",
   "execution_count": 30,
   "id": "18f30edd",
   "metadata": {},
   "outputs": [],
   "source": [
    "md_g=5e7"
   ]
  },
  {
   "cell_type": "code",
   "execution_count": 31,
   "id": "9e436085",
   "metadata": {},
   "outputs": [
    {
     "data": {
      "text/plain": [
       "0.2692632023191361"
      ]
     },
     "execution_count": 31,
     "metadata": {},
     "output_type": "execute_result"
    }
   ],
   "source": [
    "md_g/P_E"
   ]
  },
  {
   "cell_type": "code",
   "execution_count": 32,
   "id": "d8e7d393",
   "metadata": {},
   "outputs": [
    {
     "data": {
      "text/plain": [
       "0.05492969327310376"
      ]
     },
     "execution_count": 32,
     "metadata": {},
     "output_type": "execute_result"
    }
   ],
   "source": [
    "1.02e7/P_E"
   ]
  },
  {
   "cell_type": "code",
   "execution_count": 33,
   "id": "3180d86d",
   "metadata": {},
   "outputs": [],
   "source": [
    "# Increase in deck weight will increase the chance of structural buckling"
   ]
  },
  {
   "cell_type": "markdown",
   "id": "24fb6c2d",
   "metadata": {},
   "source": [
    "#### b)."
   ]
  },
  {
   "cell_type": "code",
   "execution_count": 37,
   "id": "51634a0d",
   "metadata": {},
   "outputs": [],
   "source": [
    "E=30e6\n",
    "I=2.114e6\n",
    "l=3180\n",
    "md_g=5e7\n",
    "g=32.174049\n",
    "m_hat=1417/g\n",
    "m0_hat=237/g\n",
    "d=2880"
   ]
  },
  {
   "cell_type": "code",
   "execution_count": 38,
   "id": "c791070c",
   "metadata": {},
   "outputs": [],
   "source": [
    "l_1=3*d/8-l/(2*np.pi)*np.sin(np.pi*d/l)+l/(16*np.pi)*np.sin(2*np.pi*d/l)"
   ]
  },
  {
   "cell_type": "code",
   "execution_count": 39,
   "id": "61596ad6",
   "metadata": {},
   "outputs": [],
   "source": [
    "l_2=3*(l-d)/8+l/(2*np.pi)*np.sin(np.pi*d/l)-l/(16*np.pi)*np.sin(2*np.pi*d/l)"
   ]
  },
  {
   "cell_type": "code",
   "execution_count": 40,
   "id": "27b177df",
   "metadata": {},
   "outputs": [],
   "source": [
    "omega0=np.sqrt((((3*np.pi**2*E*I/l**2-md_g)*np.pi**2)/(8*l))/(3*m_hat*l_1+3*m0_hat*l_2+md_g/g))"
   ]
  },
  {
   "cell_type": "code",
   "execution_count": 41,
   "id": "872a26a6",
   "metadata": {},
   "outputs": [
    {
     "data": {
      "text/plain": [
       "0.17706512949953054"
      ]
     },
     "execution_count": 41,
     "metadata": {},
     "output_type": "execute_result"
    }
   ],
   "source": [
    "omega0"
   ]
  },
  {
   "cell_type": "code",
   "execution_count": 42,
   "id": "1764ea9e",
   "metadata": {},
   "outputs": [],
   "source": [
    "k1=192*E*I/l**3"
   ]
  },
  {
   "cell_type": "code",
   "execution_count": 43,
   "id": "9fa0f2a5",
   "metadata": {},
   "outputs": [
    {
     "data": {
      "text/plain": [
       "378657.10172379436"
      ]
     },
     "execution_count": 43,
     "metadata": {},
     "output_type": "execute_result"
    }
   ],
   "source": [
    "k1"
   ]
  },
  {
   "cell_type": "code",
   "execution_count": 44,
   "id": "756d955e",
   "metadata": {},
   "outputs": [],
   "source": [
    "m=k1/omega0**2"
   ]
  },
  {
   "cell_type": "code",
   "execution_count": 45,
   "id": "f2a99c6e",
   "metadata": {},
   "outputs": [
    {
     "data": {
      "text/plain": [
       "12077582.803203296"
      ]
     },
     "execution_count": 45,
     "metadata": {},
     "output_type": "execute_result"
    }
   ],
   "source": [
    "m"
   ]
  },
  {
   "cell_type": "code",
   "execution_count": 46,
   "id": "094232fd",
   "metadata": {},
   "outputs": [],
   "source": [
    "zeta=0.05"
   ]
  },
  {
   "cell_type": "code",
   "execution_count": 47,
   "id": "252676b6",
   "metadata": {},
   "outputs": [],
   "source": [
    "c1=2*zeta*np.sqrt(k1*m)"
   ]
  },
  {
   "cell_type": "code",
   "execution_count": 48,
   "id": "fe061fd0",
   "metadata": {},
   "outputs": [
    {
     "data": {
      "text/plain": [
       "21.385187630904944"
      ]
     },
     "execution_count": 48,
     "metadata": {},
     "output_type": "execute_result"
    }
   ],
   "source": [
    "c1/1e4"
   ]
  },
  {
   "cell_type": "code",
   "execution_count": null,
   "id": "1a628e10",
   "metadata": {},
   "outputs": [],
   "source": []
  },
  {
   "cell_type": "markdown",
   "id": "92506502",
   "metadata": {},
   "source": [
    "#### c)."
   ]
  },
  {
   "cell_type": "code",
   "execution_count": 49,
   "id": "e4173570",
   "metadata": {},
   "outputs": [],
   "source": [
    "rho_g=64.3\n",
    "D=12\n",
    "CM=2"
   ]
  },
  {
   "cell_type": "code",
   "execution_count": 50,
   "id": "7eea0d5d",
   "metadata": {},
   "outputs": [],
   "source": [
    "def sigma2(omega):\n",
    "    return (3*np.pi/8*rho_g*D**2*CM)**2*8.4*np.exp(-0.0138/omega**4)/(omega**5*((k1-m*omega**2)**2+c1**2*omega**2))"
   ]
  },
  {
   "cell_type": "code",
   "execution_count": 51,
   "id": "4fee56da",
   "metadata": {},
   "outputs": [],
   "source": [
    "I = quad(f, 0.16,1.6)"
   ]
  },
  {
   "cell_type": "code",
   "execution_count": 52,
   "id": "500de661",
   "metadata": {},
   "outputs": [
    {
     "data": {
      "text/plain": [
       "(5.018676944758482, 9.614836924602436e-12)"
      ]
     },
     "execution_count": 52,
     "metadata": {},
     "output_type": "execute_result"
    }
   ],
   "source": [
    "I"
   ]
  },
  {
   "cell_type": "code",
   "execution_count": null,
   "id": "70a24148",
   "metadata": {},
   "outputs": [],
   "source": []
  },
  {
   "cell_type": "markdown",
   "id": "bbc3d7e4",
   "metadata": {},
   "source": [
    "#### d)."
   ]
  },
  {
   "cell_type": "code",
   "execution_count": 54,
   "id": "2a654047",
   "metadata": {},
   "outputs": [
    {
     "data": {
      "text/plain": [
       "6.207413606601142"
      ]
     },
     "execution_count": 54,
     "metadata": {},
     "output_type": "execute_result"
    }
   ],
   "source": [
    "np.pi*S0/(k1*c1)"
   ]
  },
  {
   "cell_type": "code",
   "execution_count": null,
   "id": "08d88783",
   "metadata": {},
   "outputs": [],
   "source": []
  }
 ],
 "metadata": {
  "kernelspec": {
   "display_name": "Python 3 (ipykernel)",
   "language": "python",
   "name": "python3"
  },
  "language_info": {
   "codemirror_mode": {
    "name": "ipython",
    "version": 3
   },
   "file_extension": ".py",
   "mimetype": "text/x-python",
   "name": "python",
   "nbconvert_exporter": "python",
   "pygments_lexer": "ipython3",
   "version": "3.9.6"
  }
 },
 "nbformat": 4,
 "nbformat_minor": 5
}
