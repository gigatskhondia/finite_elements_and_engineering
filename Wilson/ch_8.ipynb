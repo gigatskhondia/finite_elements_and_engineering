{
 "cells": [
  {
   "cell_type": "code",
   "execution_count": 1,
   "id": "d1fc32b2",
   "metadata": {},
   "outputs": [],
   "source": [
    "# Not validated solutions"
   ]
  },
  {
   "cell_type": "markdown",
   "id": "223b2bb8",
   "metadata": {},
   "source": [
    "### ex. 8.1"
   ]
  },
  {
   "cell_type": "markdown",
   "id": "494ac887",
   "metadata": {},
   "source": [
    "#### a)"
   ]
  },
  {
   "cell_type": "code",
   "execution_count": 2,
   "id": "ab775883",
   "metadata": {},
   "outputs": [],
   "source": [
    "# xi = [v, theta]\n",
    "# p  = [p_d, M_d]\n",
    "# C  = [[zeta*2*sqrt(k11*m_d), 0],\n",
    "#       [0, zeta*2*sqrt(k22*J_d)]]\n",
    "\n",
    "# zeta is in range 0.05 to 0.1"
   ]
  },
  {
   "cell_type": "markdown",
   "id": "4cc201b4",
   "metadata": {},
   "source": [
    "#### b)"
   ]
  },
  {
   "cell_type": "code",
   "execution_count": 3,
   "id": "09156b03",
   "metadata": {},
   "outputs": [],
   "source": [
    "# M  = [[m_d, 0],\n",
    "#       [0, J_d]]"
   ]
  },
  {
   "cell_type": "markdown",
   "id": "3c10a995",
   "metadata": {},
   "source": [
    "#### c)"
   ]
  },
  {
   "cell_type": "code",
   "execution_count": 4,
   "id": "b1aa2816",
   "metadata": {},
   "outputs": [],
   "source": [
    "# K  = [[k11, 0], [0, k22]] = [[C*E*I/l**3, 0], [0, a0-omega*b0]]\n",
    "\n",
    "# C - constant that depends on the fixity of the beam\n",
    "# a0, b0 - by eq. 2.78"
   ]
  },
  {
   "cell_type": "markdown",
   "id": "b1020ec2",
   "metadata": {},
   "source": [
    "#### e)"
   ]
  },
  {
   "cell_type": "code",
   "execution_count": 5,
   "id": "21d216b4",
   "metadata": {},
   "outputs": [],
   "source": [
    "# M*ddxi+C*dxi+K*xi=p"
   ]
  }
 ],
 "metadata": {
  "kernelspec": {
   "display_name": "Python 3 (ipykernel)",
   "language": "python",
   "name": "python3"
  },
  "language_info": {
   "codemirror_mode": {
    "name": "ipython",
    "version": 3
   },
   "file_extension": ".py",
   "mimetype": "text/x-python",
   "name": "python",
   "nbconvert_exporter": "python",
   "pygments_lexer": "ipython3",
   "version": "3.9.6"
  }
 },
 "nbformat": 4,
 "nbformat_minor": 5
}
