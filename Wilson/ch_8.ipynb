{
 "cells": [
  {
   "cell_type": "code",
   "execution_count": 1,
   "id": "d1fc32b2",
   "metadata": {},
   "outputs": [],
   "source": [
    "# Not validated solutions"
   ]
  },
  {
   "cell_type": "markdown",
   "id": "223b2bb8",
   "metadata": {},
   "source": [
    "### ex. 8.1"
   ]
  },
  {
   "cell_type": "markdown",
   "id": "494ac887",
   "metadata": {},
   "source": [
    "#### a)"
   ]
  },
  {
   "cell_type": "code",
   "execution_count": 2,
   "id": "ab775883",
   "metadata": {},
   "outputs": [],
   "source": [
    "# xi = [v, theta]\n",
    "# p  = [p_d, M_d]\n",
    "# C  = [[zeta*2*sqrt(k11*m_d), 0],\n",
    "#       [0, zeta*2*sqrt(k22*J_d)]]\n",
    "\n",
    "# zeta is in range 0.05 to 0.1"
   ]
  },
  {
   "cell_type": "markdown",
   "id": "4cc201b4",
   "metadata": {},
   "source": [
    "#### b)"
   ]
  },
  {
   "cell_type": "code",
   "execution_count": 3,
   "id": "09156b03",
   "metadata": {},
   "outputs": [],
   "source": [
    "# M  = [[m_d, 0],\n",
    "#       [0, J_d]]"
   ]
  },
  {
   "cell_type": "markdown",
   "id": "3c10a995",
   "metadata": {},
   "source": [
    "#### c)"
   ]
  },
  {
   "cell_type": "code",
   "execution_count": 4,
   "id": "b1aa2816",
   "metadata": {},
   "outputs": [],
   "source": [
    "# K  = [[k11, 0], [0, k22]] = [[C*E*I/l**3, 0], [0, a0-omega*b0]]\n",
    "\n",
    "# C - constant that depends on the fixity of the beam\n",
    "# a0, b0 - by eq. 2.78"
   ]
  },
  {
   "cell_type": "markdown",
   "id": "b1020ec2",
   "metadata": {},
   "source": [
    "#### e)"
   ]
  },
  {
   "cell_type": "code",
   "execution_count": 5,
   "id": "21d216b4",
   "metadata": {},
   "outputs": [],
   "source": [
    "# M*ddxi+C*dxi+K*xi=p"
   ]
  },
  {
   "cell_type": "markdown",
   "id": "a01a549a",
   "metadata": {},
   "source": [
    "### ex. 8.2"
   ]
  },
  {
   "cell_type": "code",
   "execution_count": 6,
   "id": "2356e82f",
   "metadata": {},
   "outputs": [],
   "source": [
    "# in accord with Example Problem 8.7"
   ]
  },
  {
   "cell_type": "markdown",
   "id": "12a28c29",
   "metadata": {},
   "source": [
    "### ex. 8.3"
   ]
  },
  {
   "cell_type": "code",
   "execution_count": 7,
   "id": "09234daf",
   "metadata": {},
   "outputs": [],
   "source": [
    "# in accord with eq. 8.89"
   ]
  },
  {
   "cell_type": "code",
   "execution_count": 8,
   "id": "83d79e8b",
   "metadata": {},
   "outputs": [],
   "source": [
    "from sympy import *"
   ]
  },
  {
   "cell_type": "code",
   "execution_count": 9,
   "id": "40f5205e",
   "metadata": {},
   "outputs": [],
   "source": [
    "zeta1 = 0.05\n",
    "zeta2 = 0.07\n",
    "omega1, omega2, a1, a2 = symbols('omega1, omega2, a1, a2')"
   ]
  },
  {
   "cell_type": "code",
   "execution_count": 10,
   "id": "e348e048",
   "metadata": {},
   "outputs": [
    {
     "data": {
      "text/plain": [
       "{a1: (5.0*omega1 - 7.0*omega2)/(50.0*omega1**2 - 50.0*omega2**2),\n",
       " a2: (7.0*omega1**2*omega2 - 5.0*omega1*omega2**2)/(50.0*omega1**2 - 50.0*omega2**2)}"
      ]
     },
     "execution_count": 10,
     "metadata": {},
     "output_type": "execute_result"
    }
   ],
   "source": [
    "solve([omega1/2*a1+1/(2*omega1)*a2-zeta1, omega2/2*a1+1/(2*omega2)*a2-zeta2],a1,a2)"
   ]
  },
  {
   "cell_type": "code",
   "execution_count": null,
   "id": "28d14710",
   "metadata": {},
   "outputs": [],
   "source": []
  }
 ],
 "metadata": {
  "kernelspec": {
   "display_name": "Python 3 (ipykernel)",
   "language": "python",
   "name": "python3"
  },
  "language_info": {
   "codemirror_mode": {
    "name": "ipython",
    "version": 3
   },
   "file_extension": ".py",
   "mimetype": "text/x-python",
   "name": "python",
   "nbconvert_exporter": "python",
   "pygments_lexer": "ipython3",
   "version": "3.9.6"
  }
 },
 "nbformat": 4,
 "nbformat_minor": 5
}
