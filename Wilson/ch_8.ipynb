{
 "cells": [
  {
   "cell_type": "code",
   "execution_count": 1,
   "id": "d1fc32b2",
   "metadata": {},
   "outputs": [],
   "source": [
    "# Not validated solutions"
   ]
  },
  {
   "cell_type": "markdown",
   "id": "223b2bb8",
   "metadata": {},
   "source": [
    "### ex. 8.1"
   ]
  },
  {
   "cell_type": "markdown",
   "id": "494ac887",
   "metadata": {},
   "source": [
    "#### a)"
   ]
  },
  {
   "cell_type": "code",
   "execution_count": 2,
   "id": "ab775883",
   "metadata": {},
   "outputs": [],
   "source": [
    "# xi = [v, theta]\n",
    "# p  = [p_d, M_d]\n",
    "# C  = [[zeta*2*sqrt(k11*m_d), 0],\n",
    "#       [0, zeta*2*sqrt(k22*J_d)]]\n",
    "\n",
    "# zeta is in range 0.05 to 0.1"
   ]
  },
  {
   "cell_type": "markdown",
   "id": "4cc201b4",
   "metadata": {},
   "source": [
    "#### b)"
   ]
  },
  {
   "cell_type": "code",
   "execution_count": 3,
   "id": "09156b03",
   "metadata": {},
   "outputs": [],
   "source": [
    "# M  = [[m_d, 0],\n",
    "#       [0, J_d]]"
   ]
  },
  {
   "cell_type": "markdown",
   "id": "3c10a995",
   "metadata": {},
   "source": [
    "#### c)"
   ]
  },
  {
   "cell_type": "code",
   "execution_count": 4,
   "id": "b1aa2816",
   "metadata": {},
   "outputs": [],
   "source": [
    "# K  = [[k11, 0], [0, k22]] = [[C*E*I/l**3, 0], [0, a0-omega*b0]]\n",
    "\n",
    "# C - constant that depends on the fixity of the beam\n",
    "# a0, b0 - by eq. 2.78"
   ]
  },
  {
   "cell_type": "markdown",
   "id": "b1020ec2",
   "metadata": {},
   "source": [
    "#### e)"
   ]
  },
  {
   "cell_type": "code",
   "execution_count": 5,
   "id": "21d216b4",
   "metadata": {},
   "outputs": [],
   "source": [
    "# M*ddxi+C*dxi+K*xi=p"
   ]
  },
  {
   "cell_type": "markdown",
   "id": "a01a549a",
   "metadata": {},
   "source": [
    "### ex. 8.2"
   ]
  },
  {
   "cell_type": "code",
   "execution_count": 6,
   "id": "2356e82f",
   "metadata": {},
   "outputs": [],
   "source": [
    "# in accord with Example Problem 8.7"
   ]
  },
  {
   "cell_type": "markdown",
   "id": "12a28c29",
   "metadata": {},
   "source": [
    "### ex. 8.3"
   ]
  },
  {
   "cell_type": "code",
   "execution_count": 7,
   "id": "09234daf",
   "metadata": {},
   "outputs": [],
   "source": [
    "# in accord with eq. 8.89"
   ]
  },
  {
   "cell_type": "code",
   "execution_count": 8,
   "id": "83d79e8b",
   "metadata": {},
   "outputs": [],
   "source": [
    "from sympy import *"
   ]
  },
  {
   "cell_type": "code",
   "execution_count": 9,
   "id": "40f5205e",
   "metadata": {},
   "outputs": [],
   "source": [
    "zeta1 = 0.05\n",
    "zeta2 = 0.07\n",
    "omega1, omega2, a1, a2 = symbols('omega1, omega2, a1, a2')"
   ]
  },
  {
   "cell_type": "code",
   "execution_count": 10,
   "id": "e348e048",
   "metadata": {},
   "outputs": [
    {
     "data": {
      "text/plain": [
       "{a1: (5.0*omega1 - 7.0*omega2)/(50.0*omega1**2 - 50.0*omega2**2),\n",
       " a2: (7.0*omega1**2*omega2 - 5.0*omega1*omega2**2)/(50.0*omega1**2 - 50.0*omega2**2)}"
      ]
     },
     "execution_count": 10,
     "metadata": {},
     "output_type": "execute_result"
    }
   ],
   "source": [
    "solve([omega1/2*a1+1/(2*omega1)*a2-zeta1, omega2/2*a1+1/(2*omega2)*a2-zeta2],a1,a2)"
   ]
  },
  {
   "cell_type": "markdown",
   "id": "4deb8b3e",
   "metadata": {},
   "source": [
    "### ex.8.4"
   ]
  },
  {
   "cell_type": "markdown",
   "id": "2af6e0dc",
   "metadata": {},
   "source": [
    "#### a)"
   ]
  },
  {
   "cell_type": "code",
   "execution_count": 11,
   "id": "51a5c373",
   "metadata": {},
   "outputs": [],
   "source": [
    "# p = [p1, p2, Md, 0] "
   ]
  },
  {
   "cell_type": "code",
   "execution_count": 12,
   "id": "ea095e71",
   "metadata": {},
   "outputs": [],
   "source": [
    "# C = [[c11,c12,c13,c14],\n",
    "#      [c21,c22,c23,c24],\n",
    "#      [c31,c32,c33,c34],\n",
    "#      [c41,c42,c43,c44]]"
   ]
  },
  {
   "cell_type": "markdown",
   "id": "d258e35c",
   "metadata": {},
   "source": [
    "#### b)"
   ]
  },
  {
   "cell_type": "code",
   "execution_count": 13,
   "id": "a5a423a7",
   "metadata": {},
   "outputs": [],
   "source": [
    "# M = [[m1,0,0,0],\n",
    "#      [0,m2,0,0],\n",
    "#      [0,0,J1,0],\n",
    "#      [0,0,0,J2]]"
   ]
  },
  {
   "cell_type": "code",
   "execution_count": 14,
   "id": "ba1f4426",
   "metadata": {},
   "outputs": [],
   "source": [
    "# m1 and m2 in accord with eq. 8.9 and 8.10"
   ]
  },
  {
   "cell_type": "markdown",
   "id": "03599b9a",
   "metadata": {},
   "source": [
    "#### c)"
   ]
  },
  {
   "cell_type": "code",
   "execution_count": 15,
   "id": "839c4804",
   "metadata": {},
   "outputs": [],
   "source": [
    "# K = [[k11,k12,k13,k14],\n",
    "#      [k21,k22,k23,k24],\n",
    "#      [k31,k32,k33,k34],\n",
    "#      [k41,k42,k43,k44]]"
   ]
  },
  {
   "cell_type": "markdown",
   "id": "6ed089a5",
   "metadata": {},
   "source": [
    "#### e)"
   ]
  },
  {
   "cell_type": "code",
   "execution_count": 16,
   "id": "7934d839",
   "metadata": {},
   "outputs": [],
   "source": [
    "# in accord with Example Problem 8.6"
   ]
  },
  {
   "cell_type": "code",
   "execution_count": 17,
   "id": "fc467a9d",
   "metadata": {},
   "outputs": [],
   "source": [
    "# m1*ddv1+c11*dv1+c12*dv2+c13*dtheta1+c14*dtheta2+k11*v1+k12*v2+k13*theta1+k14*theta2=p1\n",
    "# m2*ddv2+c21*dv1+c22*dv2+c23*dtheta1+c24*dtheta2+k21*v1+k22*v2+k23*theta1+k24*theta2=p2\n",
    "# J1*ddtheta1+c31*dv1+c32*dv2+c33*dtheta1+c34*dtheta2+k31*v1+k32*v2+k33*theta1+k34*theta2=Md\n",
    "# J2*ddtheta2+c41*dv1+c42*dv2+c43*dtheta1+c44*dtheta2+k41*v1+k42*v2+k43*theta1+k44*theta2=0"
   ]
  },
  {
   "cell_type": "code",
   "execution_count": null,
   "id": "df0ddae3",
   "metadata": {},
   "outputs": [],
   "source": []
  },
  {
   "cell_type": "markdown",
   "id": "4f29b335",
   "metadata": {},
   "source": [
    "### ex.8.5"
   ]
  },
  {
   "cell_type": "code",
   "execution_count": 18,
   "id": "4c96d53c",
   "metadata": {},
   "outputs": [],
   "source": [
    "# in accord with eq. 8.48 - 8.52 but for 4 coordinates: v1, v2, theta1, theta2"
   ]
  },
  {
   "cell_type": "code",
   "execution_count": 19,
   "id": "1d4ec524",
   "metadata": {},
   "outputs": [],
   "source": [
    "# for example:"
   ]
  },
  {
   "cell_type": "code",
   "execution_count": 20,
   "id": "b7f6230c",
   "metadata": {},
   "outputs": [],
   "source": [
    "# K = 1/2*m1*dv1**2+1/2*m2*dv2**2+1/2*J1*dtheta1**2+1/2*J2*dtheta2**2"
   ]
  },
  {
   "cell_type": "code",
   "execution_count": 21,
   "id": "efab941d",
   "metadata": {},
   "outputs": [],
   "source": [
    "# dV/dtheta1=k31*v1+k32*v2+k33*theta1+k34*theta2"
   ]
  },
  {
   "cell_type": "code",
   "execution_count": 22,
   "id": "3601a5ef",
   "metadata": {},
   "outputs": [],
   "source": [
    "# dK/dtheta1 = J1*dtheta1\n",
    "# d(dk/dtheta1)/dt=J1*ddtheta1"
   ]
  },
  {
   "cell_type": "code",
   "execution_count": 23,
   "id": "d9232ad7",
   "metadata": {},
   "outputs": [],
   "source": [
    "# J1*ddtheta1+k31*v1+k32*v2+k33*theta1+k34*theta2=Md-c31*dv1+c32*dv2+c33*dtheta1+c34*dtheta2"
   ]
  },
  {
   "cell_type": "code",
   "execution_count": null,
   "id": "be46f1f5",
   "metadata": {},
   "outputs": [],
   "source": []
  }
 ],
 "metadata": {
  "kernelspec": {
   "display_name": "Python 3 (ipykernel)",
   "language": "python",
   "name": "python3"
  },
  "language_info": {
   "codemirror_mode": {
    "name": "ipython",
    "version": 3
   },
   "file_extension": ".py",
   "mimetype": "text/x-python",
   "name": "python",
   "nbconvert_exporter": "python",
   "pygments_lexer": "ipython3",
   "version": "3.9.6"
  }
 },
 "nbformat": 4,
 "nbformat_minor": 5
}
